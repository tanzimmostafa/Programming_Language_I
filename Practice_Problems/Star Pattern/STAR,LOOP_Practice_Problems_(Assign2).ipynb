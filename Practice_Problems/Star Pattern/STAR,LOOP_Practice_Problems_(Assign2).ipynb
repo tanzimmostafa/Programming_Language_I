{
  "nbformat": 4,
  "nbformat_minor": 0,
  "metadata": {
    "colab": {
      "name": "CSE110-LOOP Practice Problems-(assignment2++) ",
      "provenance": [],
      "collapsed_sections": []
    },
    "kernelspec": {
      "name": "python3",
      "display_name": "Python 3"
    },
    "language_info": {
      "name": "python"
    }
  },
  "cells": [
    {
      "cell_type": "code",
      "metadata": {
        "colab": {
          "base_uri": "https://localhost:8080/"
        },
        "id": "vR3znP7GUWLU",
        "outputId": "dbefa2db-d5bd-4db8-a806-df1d5f55771f"
      },
      "source": [
        "#task1\n",
        "row=int(input(\"enter input1: \"))\n",
        "col=int(input(\"enter input2: \"))\n",
        "\n",
        "for i in range(row):\n",
        "  for j in range(1,col+1):\n",
        "    print(j,end='')\n",
        "  print() "
      ],
      "execution_count": 2,
      "outputs": [
        {
          "output_type": "stream",
          "name": "stdout",
          "text": [
            "enter input1: 4\n",
            "enter input2: 6\n",
            "123456\n",
            "123456\n",
            "123456\n",
            "123456\n"
          ]
        }
      ]
    },
    {
      "cell_type": "code",
      "metadata": {
        "colab": {
          "base_uri": "https://localhost:8080/"
        },
        "id": "vxwzy6ucZ3In",
        "outputId": "81fc88f8-b655-48f2-b9de-a3b43eaee0f0"
      },
      "source": [
        "#t2\n",
        "input1=int(input(\"enter input1: \"))\n",
        "for i in range(1,input1+1):\n",
        "  for j in range(i):\n",
        "    print('*',end='')\n",
        "  print()  "
      ],
      "execution_count": 6,
      "outputs": [
        {
          "output_type": "stream",
          "name": "stdout",
          "text": [
            "enter input1: 6\n",
            "*\n",
            "**\n",
            "***\n",
            "****\n",
            "*****\n",
            "******\n"
          ]
        }
      ]
    },
    {
      "cell_type": "code",
      "metadata": {
        "colab": {
          "base_uri": "https://localhost:8080/"
        },
        "id": "jR36n_ClakhP",
        "outputId": "aff1f2f3-287b-4b8b-f6d0-3f02d37078c1"
      },
      "source": [
        "#t3\n",
        "input1=int(input(\"enter input1: \"))\n",
        "for i in range(1,input1+1):\n",
        "  for j in range(1,i+1):\n",
        "    print(j,end='')\n",
        "  print()  "
      ],
      "execution_count": 8,
      "outputs": [
        {
          "output_type": "stream",
          "name": "stdout",
          "text": [
            "enter input1: 4\n",
            "1\n",
            "12\n",
            "123\n",
            "1234\n"
          ]
        }
      ]
    },
    {
      "cell_type": "code",
      "metadata": {
        "colab": {
          "base_uri": "https://localhost:8080/"
        },
        "id": "Gj42BOzea4a-",
        "outputId": "8b918f34-b405-4b43-a8c7-6bee78bd73bf"
      },
      "source": [
        "#t4\n",
        "input1=int(input('enter input1: '))\n",
        "space=input1-1\n",
        "for i in range(1,input1+1):\n",
        "  for sp in range(space):\n",
        "    print(\" \",end='')\n",
        "  for j in range(i):\n",
        "    print('*',end='')\n",
        "  space-=1\n",
        "  print()  "
      ],
      "execution_count": 11,
      "outputs": [
        {
          "output_type": "stream",
          "name": "stdout",
          "text": [
            "enter input1: 7\n",
            "      *\n",
            "     **\n",
            "    ***\n",
            "   ****\n",
            "  *****\n",
            " ******\n",
            "*******\n"
          ]
        }
      ]
    },
    {
      "cell_type": "code",
      "metadata": {
        "colab": {
          "base_uri": "https://localhost:8080/"
        },
        "id": "PZecDKskbxKa",
        "outputId": "9756b838-8c77-4534-c38f-61e29332563e"
      },
      "source": [
        "#t5\n",
        "input1=int(input('enter input1: '))\n",
        "space=input1-1\n",
        "for i in range(1,input1+1):\n",
        "  for sp in range(space):\n",
        "    print(\" \",end='')\n",
        "  for j in range(1,i+1):\n",
        "    print(j,end='')\n",
        "  space-=1\n",
        "  print()  "
      ],
      "execution_count": 14,
      "outputs": [
        {
          "output_type": "stream",
          "name": "stdout",
          "text": [
            "enter input1: 4\n",
            "   1\n",
            "  12\n",
            " 123\n",
            "1234\n"
          ]
        }
      ]
    },
    {
      "cell_type": "code",
      "metadata": {
        "colab": {
          "base_uri": "https://localhost:8080/"
        },
        "id": "3yEEdk_pdQ9y",
        "outputId": "7564db29-cdfb-4f9e-85cf-468f4900e314"
      },
      "source": [
        "#t6\n",
        "input1=int(input('enter input1: '))\n",
        "space=input1-1\n",
        "star=1\n",
        "for i in range(input1):\n",
        "  for sp in range(space):\n",
        "    print(\" \",end='')\n",
        "  for j in range(star):\n",
        "    print('*',end='')\n",
        "  space-=1\n",
        "  star+=2\n",
        "  print()  "
      ],
      "execution_count": 18,
      "outputs": [
        {
          "output_type": "stream",
          "name": "stdout",
          "text": [
            "enter input1: 7\n",
            "      *\n",
            "     ***\n",
            "    *****\n",
            "   *******\n",
            "  *********\n",
            " ***********\n",
            "*************\n"
          ]
        }
      ]
    },
    {
      "cell_type": "code",
      "metadata": {
        "colab": {
          "base_uri": "https://localhost:8080/"
        },
        "id": "Y2YgWjTfd7Wp",
        "outputId": "fee5bb1c-99a5-4a79-846c-4f3b7999e6f0"
      },
      "source": [
        "#t7\n",
        "input1=int(input('enter input1: '))\n",
        "space=input1-1\n",
        "star=1\n",
        "for i in range(input1):\n",
        "  for sp in range(space):\n",
        "    print(\" \",end='')\n",
        "  for j in range(1,star+1):\n",
        "    print(j,end='')\n",
        "  space-=1\n",
        "  star+=2\n",
        "  print()  "
      ],
      "execution_count": 20,
      "outputs": [
        {
          "output_type": "stream",
          "name": "stdout",
          "text": [
            "enter input1: 3\n",
            "  1\n",
            " 123\n",
            "12345\n"
          ]
        }
      ]
    },
    {
      "cell_type": "code",
      "metadata": {
        "colab": {
          "base_uri": "https://localhost:8080/"
        },
        "id": "3-orBAv7eXns",
        "outputId": "85c563a6-72e4-4c86-9625-5ea9df52910d"
      },
      "source": [
        "#t8\n",
        "input1=int(input('enter input1: '))\n",
        "space=input1-1\n",
        "star=1\n",
        "for i in range(input1):\n",
        "  for sp in range(space):\n",
        "    print(\" \",end='')\n",
        "  for j in range(1,star+1):\n",
        "    print('*',end='')\n",
        "  space-=1\n",
        "  star+=2\n",
        "  print()  \n",
        "space+=2\n",
        "star-=4  \n",
        "for i in range(input1-1):\n",
        "  for sp in range(space):\n",
        "    print(\" \",end='')\n",
        "  for j in range(1,star+1):\n",
        "    print('*',end='')\n",
        "  space+=1\n",
        "  star-=2\n",
        "  print()  "
      ],
      "execution_count": 23,
      "outputs": [
        {
          "output_type": "stream",
          "name": "stdout",
          "text": [
            "enter input1: 5\n",
            "    *\n",
            "   ***\n",
            "  *****\n",
            " *******\n",
            "*********\n",
            " *******\n",
            "  *****\n",
            "   ***\n",
            "    *\n"
          ]
        }
      ]
    },
    {
      "cell_type": "code",
      "metadata": {
        "colab": {
          "base_uri": "https://localhost:8080/"
        },
        "id": "DE91FBMGfG6H",
        "outputId": "543cbb3c-5df7-425a-b03c-aab451d4cc08"
      },
      "source": [
        "#t9\n",
        "input1=int(input('enter input1: '))\n",
        "space=input1-1\n",
        "star=1\n",
        "for i in range(input1):\n",
        "  for sp in range(space):\n",
        "    print(\" \",end='')\n",
        "  for j in range(1,star+1):\n",
        "    print(j,end='')\n",
        "  space-=1\n",
        "  star+=2\n",
        "  print()  \n",
        "space+=2\n",
        "star-=4  \n",
        "for i in range(input1-1):\n",
        "  for sp in range(space):\n",
        "    print(\" \",end='')\n",
        "  for j in range(1,star+1):\n",
        "    print(j,end='')\n",
        "  space+=1\n",
        "  star-=2\n",
        "  print()  "
      ],
      "execution_count": 24,
      "outputs": [
        {
          "output_type": "stream",
          "name": "stdout",
          "text": [
            "enter input1: 4\n",
            "   1\n",
            "  123\n",
            " 12345\n",
            "1234567\n",
            " 12345\n",
            "  123\n",
            "   1\n"
          ]
        }
      ]
    },
    {
      "cell_type": "code",
      "metadata": {
        "colab": {
          "base_uri": "https://localhost:8080/"
        },
        "id": "88xWGPszfXZG",
        "outputId": "67bd0a9c-f515-44d5-a957-4b234cda1d58"
      },
      "source": [
        "#t10\n",
        "length=int(input('enter length: '))\n",
        "width=int(input('width: '))\n",
        "\n",
        "for i in range(length):\n",
        "  if i==0 or i==length-1:#for first and last line\n",
        "    for j in range(width):\n",
        "      print('*',end='')\n",
        "    print()  \n",
        "  else:#for middle lines\n",
        "    for j in range(width):\n",
        "      if j==0 or j==width-1:\n",
        "        print('*',end='')\n",
        "      else:\n",
        "        print(' ',end='')\n",
        "    print()      "
      ],
      "execution_count": 28,
      "outputs": [
        {
          "output_type": "stream",
          "name": "stdout",
          "text": [
            "enter length: 5\n",
            "width: 8\n",
            "********\n",
            "*      *\n",
            "*      *\n",
            "*      *\n",
            "********\n"
          ]
        }
      ]
    },
    {
      "cell_type": "code",
      "metadata": {
        "colab": {
          "base_uri": "https://localhost:8080/"
        },
        "id": "VBzPTRV-go3u",
        "outputId": "593f3c95-2758-4e9a-9462-c20724853933"
      },
      "source": [
        "#t11\n",
        "length=int(input('enter length: '))\n",
        "width=int(input('width: '))\n",
        "\n",
        "for i in range(length):\n",
        "  if i==0 or i==length-1:#for first and last line\n",
        "    for j in range(1,width+1):\n",
        "      print(j,end='')\n",
        "    print()  \n",
        "  else:#for middle lines\n",
        "    for j in range(1,width+1):\n",
        "      if j==1 or j==width:\n",
        "        print(j,end='')\n",
        "      else:\n",
        "        print(' ',end='')\n",
        "    print()      "
      ],
      "execution_count": 30,
      "outputs": [
        {
          "output_type": "stream",
          "name": "stdout",
          "text": [
            "enter length: 6\n",
            "width: 4\n",
            "1234\n",
            "1  4\n",
            "1  4\n",
            "1  4\n",
            "1  4\n",
            "1234\n"
          ]
        }
      ]
    },
    {
      "cell_type": "code",
      "metadata": {
        "colab": {
          "base_uri": "https://localhost:8080/"
        },
        "id": "GvCuAmjfhap9",
        "outputId": "15c3e7b8-8759-44ab-bcae-2983e25815df"
      },
      "source": [
        "#t12\n",
        "height=int(input('enter height: '))\n",
        "\n",
        "for i in range(height):\n",
        "  if i==0:#first line\n",
        "    print('*',end='')\n",
        "    print()\n",
        "  elif i==height-1:#;last line\n",
        "    for j in range(height):\n",
        "      print('*',end='')  \n",
        "    print()\n",
        "  else:#for lines in between,  starting from 2nd line\n",
        "    for j in range(i+1):#2nd line i=1,so made i+1 as need two stars\n",
        "      space=(i+1)-2\n",
        "      if  j==0 or j==i:\n",
        "        print('*',end='')\n",
        "      else:\n",
        "        print(' ',end='')\n",
        "    print()    \n"
      ],
      "execution_count": 32,
      "outputs": [
        {
          "output_type": "stream",
          "name": "stdout",
          "text": [
            "enter height: 7\n",
            "*\n",
            "**\n",
            "* *\n",
            "*  *\n",
            "*   *\n",
            "*    *\n",
            "*******\n"
          ]
        }
      ]
    },
    {
      "cell_type": "code",
      "metadata": {
        "colab": {
          "base_uri": "https://localhost:8080/"
        },
        "id": "5SZ4hfEEAuYf",
        "outputId": "03d71d16-7a1b-4941-ef1f-707b9aaa7c84"
      },
      "source": [
        "#t13\n",
        "height=int(input('enter height: '))\n",
        "\n",
        "for i in range(height):\n",
        "  if i==0:#first line\n",
        "    print(1,end='')\n",
        "    print()\n",
        "  elif i==height-1:#;last line\n",
        "    for j in range(1,height+1):\n",
        "      print(j,end='')  \n",
        "    print()\n",
        "  else:#for lines in between,  starting from 2nd line\n",
        "    for j in range(i+1):#2nd line i=1,so made i+1 as need two stars\n",
        "      space=(i+1)-2\n",
        "      if  j==0 or j==i:\n",
        "        print(j+1,end='')\n",
        "      else:\n",
        "        print(' ',end='')\n",
        "    print()    \n"
      ],
      "execution_count": 34,
      "outputs": [
        {
          "output_type": "stream",
          "name": "stdout",
          "text": [
            "enter height: 8\n",
            "1\n",
            "12\n",
            "1 3\n",
            "1  4\n",
            "1   5\n",
            "1    6\n",
            "1     7\n",
            "12345678\n"
          ]
        }
      ]
    },
    {
      "cell_type": "code",
      "metadata": {
        "colab": {
          "base_uri": "https://localhost:8080/"
        },
        "id": "G6Yf-YmrBTDO",
        "outputId": "63bbe1f1-36b1-47eb-c394-76dfccdefa65"
      },
      "source": [
        "#t14\n",
        "height=int(input('enter height: '))\n",
        "space=height-1\n",
        "for i in range(height):\n",
        "  for sp in range(space):\n",
        "    print(' ',end='')\n",
        "  space-=1\n",
        "  if i==0:#first line\n",
        "    print('*',end='')\n",
        "    print()\n",
        "  elif i==height-1:#last line\n",
        "    for j in range(height):\n",
        "      print('*',end='')\n",
        "    print()      \n",
        "  else:\n",
        "    for j in range(i+1):\n",
        "      if j==0 or j==i:\n",
        "        print('*',end='')\n",
        "      else:\n",
        "        print(' ',end='')  \n",
        "    print()\n"
      ],
      "execution_count": 40,
      "outputs": [
        {
          "output_type": "stream",
          "name": "stdout",
          "text": [
            "enter height: 8\n",
            "       *\n",
            "      **\n",
            "     * *\n",
            "    *  *\n",
            "   *   *\n",
            "  *    *\n",
            " *     *\n",
            "********\n"
          ]
        }
      ]
    },
    {
      "cell_type": "code",
      "metadata": {
        "colab": {
          "base_uri": "https://localhost:8080/"
        },
        "id": "BQL76VBdD5s6",
        "outputId": "15616fed-1879-409c-cc67-162ff8f75d6f"
      },
      "source": [
        "#t15\n",
        "height=int(input('enter height: '))\n",
        "space=height-1\n",
        "for i in range(height):\n",
        "  for sp in range(space):\n",
        "    print(' ',end='')\n",
        "  space-=1\n",
        "  if i==0:#first line\n",
        "    print(1,end='')\n",
        "    print()\n",
        "  elif i==height-1:#last line\n",
        "    for j in range(1,height+1):\n",
        "      print(j,end='')\n",
        "    print()      \n",
        "  else:\n",
        "    for j in range(i+1):\n",
        "      if j==0 or j==i:\n",
        "        print(j+1,end='')\n",
        "      else:\n",
        "        print(' ',end='')  \n",
        "    print()"
      ],
      "execution_count": 42,
      "outputs": [
        {
          "output_type": "stream",
          "name": "stdout",
          "text": [
            "enter height: 5\n",
            "    1\n",
            "   12\n",
            "  1 3\n",
            " 1  4\n",
            "12345\n"
          ]
        }
      ]
    },
    {
      "cell_type": "code",
      "metadata": {
        "colab": {
          "base_uri": "https://localhost:8080/"
        },
        "id": "Q_KW8RzQIN0C",
        "outputId": "027cd365-c5a5-4674-cbef-1262d3894bb8"
      },
      "source": [
        "#t16\n",
        "inp=int(input('enter height: '))\n",
        "\n",
        "space=inp-1\n",
        "count=3#for lines between 1st and last\n",
        "for i in range(1,inp+1):\n",
        "  for sp in range(space):\n",
        "    print(' ',end='')\n",
        "  space-=1\n",
        "  if i==1:\n",
        "    print(i)\n",
        "  elif i==inp:\n",
        "    for j in range(1,count+1):\n",
        "      print(j,end='')\n",
        "    print() \n",
        "  else:\n",
        "    for j in range(1,count+1):\n",
        "      if j==1 or j==count:\n",
        "        print(j,end='')\n",
        "      else:\n",
        "        print(' ',end='')\n",
        "    print()      \n",
        "    count+=2       \n"
      ],
      "execution_count": 11,
      "outputs": [
        {
          "output_type": "stream",
          "name": "stdout",
          "text": [
            "enter height: 5\n",
            "    1\n",
            "   1 3\n",
            "  1   5\n",
            " 1     7\n",
            "123456789\n"
          ]
        }
      ]
    },
    {
      "cell_type": "code",
      "metadata": {
        "colab": {
          "base_uri": "https://localhost:8080/"
        },
        "id": "i1QiDtLAq6hJ",
        "outputId": "13a8764a-307f-432f-e498-568e5a5b6c49"
      },
      "source": [
        "#t17\n",
        "inp=int(input('enter height: '))\n",
        "\n",
        "space=inp-1\n",
        "count=3#for lines between 1st and last\n",
        "for i in range(1,inp+1):\n",
        "  for sp in range(space):\n",
        "    print(' ',end='')\n",
        "  space-=1\n",
        "  if i==1:\n",
        "    print(i)\n",
        "  else:\n",
        "    for j in range(1,count+1):\n",
        "      if j==1 or j==count:\n",
        "        print(j,end='')\n",
        "      else:\n",
        "        print(' ',end='')\n",
        "    print()      \n",
        "    count+=2       \n",
        "#----------rest of triangle--\n",
        "space+=2\n",
        "count-=4\n",
        "for i in range(1,inp+1):\n",
        "  for sp in range(space):\n",
        "    print(' ',end='')\n",
        "  space+=1\n",
        "  for j in range(1,count+1):\n",
        "    if j==1 or j==count:\n",
        "       print(j,end='')\n",
        "    else:\n",
        "       print(' ',end='')\n",
        "  print()      \n",
        "  count-=2 "
      ],
      "execution_count": 20,
      "outputs": [
        {
          "output_type": "stream",
          "name": "stdout",
          "text": [
            "enter height: 5\n",
            "    1\n",
            "   1 3\n",
            "  1   5\n",
            " 1     7\n",
            "1       9\n",
            " 1     7\n",
            "  1   5\n",
            "   1 3\n",
            "    1\n",
            "     \n"
          ]
        }
      ]
    },
    {
      "cell_type": "code",
      "metadata": {
        "colab": {
          "base_uri": "https://localhost:8080/"
        },
        "id": "T5ZY0opMqYcI",
        "outputId": "43fa6434-d78a-4f5c-944d-137916c7e4e2"
      },
      "source": [
        "#t18\n",
        "num=int(input('enter number: '))\n",
        "for i in range(1,num+1):\n",
        "  print(i,end='')\n",
        "last=num-1  \n",
        "for j in range(num-1):\n",
        "  print(last,end='')\n",
        "  last-=1"
      ],
      "execution_count": 14,
      "outputs": [
        {
          "output_type": "stream",
          "name": "stdout",
          "text": [
            "enter number: 7\n",
            "1234567654321"
          ]
        }
      ]
    },
    {
      "cell_type": "code",
      "metadata": {
        "colab": {
          "base_uri": "https://localhost:8080/"
        },
        "id": "zYK7oPp1FYej",
        "outputId": "d512a587-555f-4e23-ef55-b59cfd7b5a3f"
      },
      "source": [
        "#t19 CORRECT\n",
        "def pal(num): #palindrome function\n",
        "  for i in range(1,num+1):\n",
        "    print(i,end='')\n",
        "  last=num-1  \n",
        "  for j in range(num-1):\n",
        "    print(last,end='')\n",
        "    last-=1\n",
        "#pal(5)      \n",
        "\n",
        "inp=int(input('enter input: '))\n",
        "newinp=inp-1\n",
        "space=newinp-1\n",
        "for i in range(1,newinp+1):\n",
        "  for j in range(space):\n",
        "    print(' ',end='')\n",
        "  space-=1\n",
        "  pal(i)  \n",
        "  print()\n"
      ],
      "execution_count": 2,
      "outputs": [
        {
          "output_type": "stream",
          "name": "stdout",
          "text": [
            "enter input: 7\n",
            "     1\n",
            "    121\n",
            "   12321\n",
            "  1234321\n",
            " 123454321\n",
            "12345654321\n"
          ]
        }
      ]
    },
    {
      "cell_type": "code",
      "metadata": {
        "colab": {
          "base_uri": "https://localhost:8080/"
        },
        "id": "nLIycpFrEMWk",
        "outputId": "03f08403-3038-4471-81b1-45964e563dfb"
      },
      "source": [
        "#t20\n",
        "N=int(input('enter height: '))\n",
        "space=N-2\n",
        "for i in range(N):\n",
        "  if i==0 or i==N-1:\n",
        "    for j in range(N):\n",
        "      print('*',end='')\n",
        "    print()\n",
        "  else:\n",
        "    for sp in range(space):\n",
        "      print(' ',end='')\n",
        "    space-=1\n",
        "    print('*',end='')\n",
        "    print()\n"
      ],
      "execution_count": 47,
      "outputs": [
        {
          "output_type": "stream",
          "name": "stdout",
          "text": [
            "enter height: 5\n",
            "*****\n",
            "   *\n",
            "  *\n",
            " *\n",
            "*****\n"
          ]
        }
      ]
    }
  ]
}