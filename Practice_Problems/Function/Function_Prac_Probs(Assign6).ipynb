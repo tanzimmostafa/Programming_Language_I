{
  "nbformat": 4,
  "nbformat_minor": 0,
  "metadata": {
    "colab": {
      "name": "Function_Prac_Probs(Ass6).ipynb",
      "provenance": [],
      "collapsed_sections": []
    },
    "kernelspec": {
      "name": "python3",
      "display_name": "Python 3"
    },
    "language_info": {
      "name": "python"
    }
  },
  "cells": [
    {
      "cell_type": "markdown",
      "source": [
        "EASY"
      ],
      "metadata": {
        "id": "BHB3RD2mrRO8"
      }
    },
    {
      "cell_type": "code",
      "metadata": {
        "colab": {
          "base_uri": "https://localhost:8080/"
        },
        "id": "FX-dsTdaqg_S",
        "outputId": "e9e10893-c08a-447c-c0a4-b542d8bd81eb"
      },
      "source": [
        "#A1\n",
        "def task1(string):\n",
        "  list1=[]\n",
        "  for i in string:\n",
        "    a=str(ord(i))+i+str(ord(i))\n",
        "    if a not in list1:\n",
        "      list1.append(a)\n",
        "  return list1\n",
        "print(task1(\"pythonbook\"))      "
      ],
      "execution_count": null,
      "outputs": [
        {
          "output_type": "stream",
          "name": "stdout",
          "text": [
            "['112p112', '121y121', '116t116', '104h104', '111o111', '110n110', '98b98', '107k107']\n"
          ]
        }
      ]
    },
    {
      "cell_type": "code",
      "metadata": {
        "colab": {
          "base_uri": "https://localhost:8080/"
        },
        "id": "xJ2DtrGdroKc",
        "outputId": "25ef00d7-bdec-4c5b-bb5f-8d0e50b1cebf"
      },
      "source": [
        "#A2\n",
        "def task2(string):\n",
        "  dict1={}\n",
        "  length=len(string)\n",
        "  for i in range(len(string)):\n",
        "    if string[i] not in dict1:\n",
        "      dict1[string[i]]=[i,i-length]\n",
        "    else:\n",
        "      dict1[string[i]].append(i)\n",
        "      dict1[string[i]].append(i-length)\n",
        "  return dict1\n",
        "print(task2(\"pythonbook\"))      \n",
        "        "
      ],
      "execution_count": null,
      "outputs": [
        {
          "output_type": "stream",
          "name": "stdout",
          "text": [
            "{'p': [0, -10], 'y': [1, -9], 't': [2, -8], 'h': [3, -7], 'o': [4, -6, 7, -3, 8, -2], 'n': [5, -5], 'b': [6, -4], 'k': [9, -1]}\n"
          ]
        }
      ]
    },
    {
      "cell_type": "markdown",
      "source": [
        "MEDIUM"
      ],
      "metadata": {
        "id": "5ac0w73mrPZe"
      }
    },
    {
      "cell_type": "code",
      "metadata": {
        "id": "rSZldSt3vteE",
        "colab": {
          "base_uri": "https://localhost:8080/"
        },
        "outputId": "ba6cfd68-c4d9-4296-b24c-2047dc7613db"
      },
      "source": [
        "#A3\n",
        "def task3(string):\n",
        "  list1=string.split(' ')\n",
        "  dict1={}\n",
        "  for word in list1:\n",
        "    if word not in dict1:\n",
        "      dict1[word]=1\n",
        "    else:\n",
        "      dict1[word]+=1\n",
        "  sor=sorted(dict1.values())  \n",
        "  print(dict1)\n",
        "  dict2={}\n",
        "  for i in sor:\n",
        "    for key,value in dict1.items():\n",
        "      if i==value:\n",
        "        dict2[key]=value\n",
        "        del dict1[key]\n",
        "        break\n",
        "  print(dict2)      \n",
        "\n",
        "task3(\"go there come and go here and there go care\")  "
      ],
      "execution_count": null,
      "outputs": [
        {
          "output_type": "stream",
          "name": "stdout",
          "text": [
            "{'go': 3, 'there': 2, 'come': 1, 'and': 2, 'here': 1, 'care': 1}\n",
            "{'come': 1, 'here': 1, 'care': 1, 'there': 2, 'and': 2, 'go': 3}\n"
          ]
        }
      ]
    },
    {
      "cell_type": "code",
      "metadata": {
        "colab": {
          "base_uri": "https://localhost:8080/"
        },
        "id": "TNKBRgBiz6-1",
        "outputId": "226efc43-18db-43d8-85b2-e1990cdfc952"
      },
      "source": [
        "#A4\n",
        "def even_check(num):\n",
        "  if num%2==0:\n",
        "    return \"even\"\n",
        "  else:\n",
        "    return \"odd\"\n",
        "def prime_check(num):\n",
        "  if num==1:\n",
        "    return \"not prime\"\n",
        "  else:  \n",
        "    for i in range(2,num):\n",
        "      if num%i==0:\n",
        "        return \"not prime\"\n",
        "    return \"prime\"    \n",
        "def perfect_check(num):\n",
        "  sum=0\n",
        "  for i in range(1,num):    \n",
        "    if num%i==0:\n",
        "      sum+=i\n",
        "  if sum==num:\n",
        "    return \"perfect\"\n",
        "  else:\n",
        "    return \"not perfect\"\n",
        "def task4(string):\n",
        "  dict1={}\n",
        "  for i in string:\n",
        "    if i not in dict1:\n",
        "      even= even_check(int(i))\n",
        "      prime= prime_check(int(i))\n",
        "      perfect= perfect_check(int(i))\n",
        "      tup_for_digit = (even, prime, perfect)\n",
        "      dict1[int(i)]=tup_for_digit\n",
        "\n",
        "  return dict1   \n",
        "print(task4(\"2441396\"))  \n",
        "\n"
      ],
      "execution_count": null,
      "outputs": [
        {
          "output_type": "stream",
          "name": "stdout",
          "text": [
            "{2: ('even', 'prime', 'not perfect'), 4: ('even', 'not prime', 'not perfect'), 1: ('odd', 'not prime', 'not perfect'), 3: ('odd', 'prime', 'not perfect'), 9: ('odd', 'not prime', 'not perfect'), 6: ('even', 'not prime', 'perfect')}\n"
          ]
        }
      ]
    },
    {
      "cell_type": "code",
      "metadata": {
        "id": "Cdt3IdWh6Hj3",
        "colab": {
          "base_uri": "https://localhost:8080/"
        },
        "outputId": "830e333b-2b9e-46ab-a9cd-66670e7e0efe"
      },
      "source": [
        "#A5 #without any built in functions\n",
        "matrix_A = [ [1,5, 4] , [-4,3, 3] ,[-4,0, 6]] \n",
        "matrix_B = [ [2,-1, -3] , [4,-1, -4], [2,6, 3] ]\n",
        "\n",
        "def elementwise_add(list1,list2): #function that adds elements wise 2 lists\n",
        "  list3=[]\n",
        "  for i in range(len(list1)):\n",
        "    for j in range(len(list2)):\n",
        "      if i==j:\n",
        "        list3.append(list1[i]+list2[j])\n",
        "        break\n",
        "  return list3      \n",
        "\n",
        "\n",
        "def task5(matrix_A,matrix_B):\n",
        "  result=[]\n",
        "  if len(matrix_A)!=len(matrix_B):\n",
        "    return \"No of rows not same\"\n",
        "  else:  \n",
        "    for i in range(len(matrix_A)):\n",
        "      for j in range(len(matrix_B)):\n",
        "        if i==j:\n",
        "          if len(matrix_A[i])==len(matrix_B[j]):#checking if number of cols same for both\n",
        "            add_list=elementwise_add(matrix_A[i],matrix_B[j])\n",
        "            result.append(add_list)\n",
        "            break\n",
        "          else:\n",
        "            return \"No of columns not same\"\n",
        "\n",
        "    return f\"matrix_sum = {result}\"\n",
        "\n",
        "print( task5(matrix_A,matrix_B) )\n",
        "#print(elementwise_add([1,5, 4],[2,-1, -3]))\n",
        "\n",
        "        "
      ],
      "execution_count": 23,
      "outputs": [
        {
          "output_type": "stream",
          "name": "stdout",
          "text": [
            "matrix_sum = [[3, 4, 1], [0, 2, -1], [-2, 6, 9]]\n"
          ]
        }
      ]
    },
    {
      "cell_type": "code",
      "source": [
        "#A5 using numpy|np.add()\n",
        "matrix_A = [ [1,5, 4] , [-4,3] ,[-4,0, 6]] \n",
        "matrix_B = [ [2,-1, -3] , [4,-1, -4], [2,6] ]\n",
        "\n",
        "import numpy as np\n",
        "def task5(matrix_A,matrix_B):\n",
        "  if len(matrix_A)!=len(matrix_B):#for checking if rows are same\n",
        "    return \"No of rows not same\" \n",
        "\n",
        "  for i in range(len(matrix_A)):#for checking whether columns are same\n",
        "    for j in range(len(matrix_B)):\n",
        "      if i==j:\n",
        "        if len(matrix_A[i])!=len(matrix_B[j]):\n",
        "          return \"No of columns not same\"\n",
        "\n",
        "  return (np.add(matrix_A,matrix_B)).tolist()\n",
        "\n",
        "print( task5(matrix_A,matrix_B) )\n"
      ],
      "metadata": {
        "colab": {
          "base_uri": "https://localhost:8080/"
        },
        "id": "jhwGsN0wrVyj",
        "outputId": "3ba70aa6-8eef-4671-c9f0-d452550dc4e4"
      },
      "execution_count": 22,
      "outputs": [
        {
          "output_type": "stream",
          "name": "stdout",
          "text": [
            "No of columns not same\n"
          ]
        }
      ]
    },
    {
      "cell_type": "markdown",
      "source": [
        "HARD"
      ],
      "metadata": {
        "id": "w2yyXouerLnR"
      }
    },
    {
      "cell_type": "code",
      "source": [
        "#A6\n",
        "matrix= [[1, 0, 0, 0], [0, 5, 0, 0], [0, 0, 9, 0], [0, 0, 0, 3]]\n",
        "\n",
        "def print_matrix_list(matrix):\n",
        "  result=''\n",
        "  for lists in matrix:\n",
        "    for j in range(len(lists)):\n",
        "      if j==len(lists)-1:\n",
        "        result+=str(lists[j])+\"\\n\"\n",
        "      else:\n",
        "        result+=str(lists[j])+\" \"\n",
        "\n",
        "  print(result,end='') \n",
        "\n",
        "print_matrix_list(matrix)\n"
      ],
      "metadata": {
        "colab": {
          "base_uri": "https://localhost:8080/"
        },
        "id": "1GhYyZ48rMd3",
        "outputId": "680cdd7f-2a8c-4bdb-9d80-157d682e8247"
      },
      "execution_count": 36,
      "outputs": [
        {
          "output_type": "stream",
          "name": "stdout",
          "text": [
            "1 0 0 0\n",
            "0 5 0 0\n",
            "0 0 9 0\n",
            "0 0 0 3\n"
          ]
        }
      ]
    },
    {
      "cell_type": "code",
      "source": [
        "#A7\n",
        "square_matrix_dict = {1 : [1,2,3] , 2 : [4,5,6] , 3 : [7,8,9] }\n",
        "\n",
        "def convert_to_list(dict1):\n",
        "  result=dict1.values()\n",
        "  return list(result)\n",
        "\n",
        "ans= convert_to_list(square_matrix_dict) \n",
        "print(ans)\n",
        "print_matrix_list(ans)\n",
        "\n"
      ],
      "metadata": {
        "colab": {
          "base_uri": "https://localhost:8080/"
        },
        "id": "4Ag3dEMTwHjV",
        "outputId": "60b22a2e-4a20-4c8b-a6b5-bc00b657b42e"
      },
      "execution_count": 37,
      "outputs": [
        {
          "output_type": "stream",
          "name": "stdout",
          "text": [
            "[[1, 2, 3], [4, 5, 6], [7, 8, 9]]\n",
            "1 2 3\n",
            "4 5 6\n",
            "7 8 9\n"
          ]
        }
      ]
    },
    {
      "cell_type": "code",
      "source": [
        "#A8\n",
        "square_matrix_dict = {1 : [1,2,3] , 2 : [4,5,6] , 3 : [7,8,9] }\n",
        "\n",
        "def convert_to_diagonal(dict1):\n",
        "  print(\"Non-diagonal matrix\")\n",
        "  list1=convert_to_list(dict1)\n",
        "  print(\"In list of list format:\",list1)\n",
        "  print(\"in original square format:\")\n",
        "  print_matrix_list(list1)\n",
        "  print(\"================\")\n",
        "  print(\"Diagonal matrix:\")\n",
        "  diagonal=[]\n",
        "  for i in range(len(list1)):\n",
        "    temp=[]\n",
        "    for j in range(len(list1[i])):\n",
        "      if i==j:\n",
        "        temp.append(list1[i][j])\n",
        "      else:\n",
        "        temp.append(0)\n",
        "    diagonal.append(temp)\n",
        "  print(\"In list of list format:\", diagonal)\n",
        "  print(\"in original square format:\") \n",
        "  print_matrix_list(diagonal) \n",
        "\n",
        "convert_to_diagonal(square_matrix_dict)\n"
      ],
      "metadata": {
        "colab": {
          "base_uri": "https://localhost:8080/"
        },
        "id": "ZVfZtUzFyY44",
        "outputId": "7424c7f4-ebc7-4a70-e306-35180f0f3269"
      },
      "execution_count": 40,
      "outputs": [
        {
          "output_type": "stream",
          "name": "stdout",
          "text": [
            "Non-diagonal matrix\n",
            "In list of list format: [[1, 2, 3], [4, 5, 6], [7, 8, 9]]\n",
            "in original square format:\n",
            "1 2 3\n",
            "4 5 6\n",
            "7 8 9\n",
            "================\n",
            "Diagonal matrix:\n",
            "In list of list format: [[1, 0, 0], [0, 5, 0], [0, 0, 9]]\n",
            "in original square format:\n",
            "1 0 0\n",
            "0 5 0\n",
            "0 0 9\n"
          ]
        }
      ]
    }
  ]
}