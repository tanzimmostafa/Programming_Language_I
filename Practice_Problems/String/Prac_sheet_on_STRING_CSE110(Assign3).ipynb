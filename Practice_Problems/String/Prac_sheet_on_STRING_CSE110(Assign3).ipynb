{
  "nbformat": 4,
  "nbformat_minor": 0,
  "metadata": {
    "colab": {
      "name": "Prac sheet on STRING-CSE110.ipynb",
      "provenance": [],
      "collapsed_sections": []
    },
    "kernelspec": {
      "name": "python3",
      "display_name": "Python 3"
    },
    "language_info": {
      "name": "python"
    }
  },
  "cells": [
    {
      "cell_type": "code",
      "metadata": {
        "colab": {
          "base_uri": "https://localhost:8080/"
        },
        "id": "oqwVSJPZghPk",
        "outputId": "fa782677-ff4b-4326-b151-3567448ca1ed"
      },
      "source": [
        "#Q1\n",
        "inp1=input('enter input: ')\n",
        "letter=0\n",
        "digits=0\n",
        "character=0\n",
        "for i in inp1:\n",
        "  if (ord(i)>=65 and ord(i)<=90) or (ord(i)>=97 and ord(i)<=122):\n",
        "    letter+=1\n",
        "  elif ord(i)>=48 and ord(i)<=57:\n",
        "    digits+=1\n",
        "  else:\n",
        "    character+=1\n",
        "\n",
        "print('The number of Alphabets in the string is:',letter)\n",
        "print('The number of Digits in the string is:',digits)\n",
        "print('The number of Special characters in the string is:',character)\n"
      ],
      "execution_count": null,
      "outputs": [
        {
          "output_type": "stream",
          "name": "stdout",
          "text": [
            "enter input: This is CSE110 Course.\n",
            "The number of Alphabets in the string is: 15\n",
            "The number of Digits in the string is: 3\n",
            "The number of Special characters in the string is: 4\n"
          ]
        }
      ]
    },
    {
      "cell_type": "code",
      "metadata": {
        "colab": {
          "base_uri": "https://localhost:8080/"
        },
        "id": "hyxEqJcai0OW",
        "outputId": "557f0a0a-78d8-4b14-f04c-5303dc3ad023"
      },
      "source": [
        "#Q2\n",
        "inp1=input('enter input: ').split(' ')\n",
        "print(inp1)\n",
        "largest=0\n",
        "lw='' #largest word\n",
        "smallest=len(inp1[0])\n",
        "sw=inp1[0]\n",
        "\n",
        "count=0\n",
        "word=''\n",
        "for i in inp1:\n",
        "  if i.isalpha():#if i contains only letters\n",
        "    length=len(i)\n",
        "    if length>largest:\n",
        "      largest=length\n",
        "      lw=i\n",
        "    if length<smallest:\n",
        "      smallest=length\n",
        "      sw=i\n",
        "  else:#if i contains . for example\n",
        "    for j in i:\n",
        "      if (ord(j)>=65 and ord(j)<=90) or (ord(j)>=97 and ord(j)<=122):#if a letter\n",
        "        count+=1\n",
        "        word+=j\n",
        "    length=count\n",
        "    if length>largest:\n",
        "      largest=length\n",
        "      lw=word\n",
        "    if length<smallest:\n",
        "      smallest=length\n",
        "      sw=word\n",
        "    count=0 \n",
        "    word=''          \n",
        "\n",
        "\n",
        "print('The largest word is “'+lw+'” and the smallest word is \\''+sw+'\\'.')      "
      ],
      "execution_count": null,
      "outputs": [
        {
          "output_type": "stream",
          "name": "stdout",
          "text": [
            "enter input: It is a string with the smallest and largest wordingsed.\n",
            "['It', 'is', 'a', 'string', 'with', 'the', 'smallest', 'and', 'largest', 'wordingsed.']\n",
            "The largest word is “wordingsed” and the smallest word is 'a'.\n"
          ]
        }
      ]
    },
    {
      "cell_type": "code",
      "metadata": {
        "colab": {
          "base_uri": "https://localhost:8080/"
        },
        "id": "fs_ros8Ulj4X",
        "outputId": "f013b226-507c-45fd-bc9f-40439101cb91"
      },
      "source": [
        "#Q3\n",
        "inp1=input(\"enter string1: \").lower()\n",
        "inp2=input(\"enter string2: \").lower()\n",
        "result=''\n",
        "for i in inp1:\n",
        "  if i not in inp2:\n",
        "    result+=i\n",
        "print(result)    \n"
      ],
      "execution_count": 3,
      "outputs": [
        {
          "output_type": "stream",
          "name": "stdout",
          "text": [
            "enter string1: this is cSe110 course and we love it\n",
            "enter string2: i1oalv\n",
            "ths s cse0 curse nd we e t\n"
          ]
        }
      ]
    },
    {
      "cell_type": "code",
      "metadata": {
        "colab": {
          "base_uri": "https://localhost:8080/"
        },
        "id": "c3GTfSLfB4Bn",
        "outputId": "2f111a7f-d56e-4170-bc81-304f68c09174"
      },
      "source": [
        "#Q4 #made sure any amount of spaces between words are conserved\n",
        "inp1=input(\"enter string1: \")\n",
        "if ord(inp1[0])>=97 and ord(inp1[0])<=122:#if 1st letter of string small\n",
        "  result=chr(ord(inp1[0])-32)\n",
        "else:\n",
        "  result=inp1[0]  \n",
        "for i in range(1,len(inp1)):\n",
        "  if ord(inp1[i])>=97 and ord(inp1[i])<=122 and inp1[i-1]==\" \":\n",
        "    result+=chr(ord(inp1[i])-32)\n",
        "  else:\n",
        "    result+=inp1[i]\n",
        "print(result)      "
      ],
      "execution_count": 14,
      "outputs": [
        {
          "output_type": "stream",
          "name": "stdout",
          "text": [
            "enter string1: I   love   python programming\n",
            "I   Love   Python Programming\n"
          ]
        }
      ]
    },
    {
      "cell_type": "code",
      "metadata": {
        "colab": {
          "base_uri": "https://localhost:8080/"
        },
        "id": "22XK7SR9Dfy3",
        "outputId": "190c6783-5cd3-4747-d7a0-8bdbb809a8d4"
      },
      "source": [
        "#Q5\n",
        "print(list1)\n",
        "product=1\n",
        "for i in list1:\n",
        "  product*=int(i)\n",
        "print(\"Product:\",product)  "
      ],
      "execution_count": 22,
      "outputs": [
        {
          "output_type": "stream",
          "name": "stdout",
          "text": [
            "enter string1: 1,2,3,4,5\n",
            "['1', '2', '3', '4', '5']\n",
            "Product: 120\n"
          ]
        }
      ]
    },
    {
      "cell_type": "code",
      "metadata": {
        "colab": {
          "base_uri": "https://localhost:8080/"
        },
        "id": "-ZHJCl6YHAYX",
        "outputId": "14459b9d-8871-4049-dad0-dc057707724e"
      },
      "source": [
        "#Q6\n",
        "num=int(input(\"enter string1: \"))\n",
        "sum=0\n",
        "term='1'\n",
        "series=''\n",
        "for i in range(num):\n",
        "  sum+=int(term)\n",
        "  series+=term+' + '\n",
        "  term+='1'\n",
        "print(series[:-3])\n",
        "print(\"The Sum is:\",sum)  "
      ],
      "execution_count": 28,
      "outputs": [
        {
          "output_type": "stream",
          "name": "stdout",
          "text": [
            "enter string1: 8\n",
            "1 + 11 + 111 + 1111 + 11111 + 111111 + 1111111 + 11111111\n",
            "The Sum is: 12345678\n"
          ]
        }
      ]
    },
    {
      "cell_type": "code",
      "metadata": {
        "colab": {
          "base_uri": "https://localhost:8080/"
        },
        "id": "w5xoRX5jHbOY",
        "outputId": "165d9b29-ce25-402f-95b8-f14fcd08c275"
      },
      "source": [
        "#Q7\n",
        "num=int(input(\"enter string1: \"))\n",
        "for i in range(1,11):\n",
        "  prod=num*i\n",
        "  print(str(num)+\"X\"+str(i)+'='+str(prod))"
      ],
      "execution_count": 31,
      "outputs": [
        {
          "output_type": "stream",
          "name": "stdout",
          "text": [
            "enter string1: 5\n",
            "5X1=5\n",
            "5X2=10\n",
            "5X3=15\n",
            "5X4=20\n",
            "5X5=25\n",
            "5X6=30\n",
            "5X7=35\n",
            "5X8=40\n",
            "5X9=45\n",
            "5X10=50\n"
          ]
        }
      ]
    }
  ]
}