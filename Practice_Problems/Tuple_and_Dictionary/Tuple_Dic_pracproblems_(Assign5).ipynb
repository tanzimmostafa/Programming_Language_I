{
  "nbformat": 4,
  "nbformat_minor": 0,
  "metadata": {
    "colab": {
      "name": "Tuple_Dic_pracproblems_(Ass5).ipynb",
      "provenance": [],
      "collapsed_sections": []
    },
    "kernelspec": {
      "name": "python3",
      "display_name": "Python 3"
    },
    "language_info": {
      "name": "python"
    }
  },
  "cells": [
    {
      "cell_type": "markdown",
      "metadata": {
        "id": "37lrkQHkVTcD"
      },
      "source": [
        "TUPLE"
      ]
    },
    {
      "cell_type": "code",
      "metadata": {
        "colab": {
          "base_uri": "https://localhost:8080/"
        },
        "id": "v69OMZGYyTSn",
        "outputId": "6f6aaab1-6179-4731-b4fe-e15cc1e2adc4"
      },
      "source": [
        "#Q1\n",
        "inp=input(\"enter string of numbers: \")\n",
        "list1=inp.split(',')\n",
        "magic=[]\n",
        "nonmagic=[]\n",
        "#print(list1)\n",
        "for i in range(len(list1)):#removing spaces\n",
        "  list1[i]=list1[i].strip(\" \")\n",
        "\n",
        "for num in list1:\n",
        "  sume=0\n",
        "  sumo=0\n",
        "  for count,digit in enumerate(num):#for each digit in number\n",
        "    if count%2==0:\n",
        "      sume+=int(digit)\n",
        "    else:#odd\n",
        "      sumo+=int(digit)\n",
        "  if sume==sumo:#is a magic number\n",
        "    magic.append(int(num))\n",
        "  else:\n",
        "    nonmagic.append(int(num))\n",
        "\n",
        "a=tuple(magic)\n",
        "b=tuple(nonmagic)\n",
        "result=(a,b)\n",
        "print(result)\n",
        "\n"
      ],
      "execution_count": null,
      "outputs": [
        {
          "output_type": "stream",
          "name": "stdout",
          "text": [
            "enter string of numbers: 442310, 441310, 42251, 42241, 451, 452\n",
            "((442310, 42251, 451), (441310, 42241, 452))\n"
          ]
        }
      ]
    },
    {
      "cell_type": "code",
      "source": [
        "#Q2 \n",
        "inp=input(\"enter string: \")\n",
        "R=0\n",
        "G=0\n",
        "B=0\n",
        "for letter in inp:\n",
        "  if letter=='R':\n",
        "    R+=1\n",
        "  elif letter=='G':\n",
        "    G+=1\n",
        "  elif letter==\"B\":\n",
        "    B+=1\n",
        "ans=[]\n",
        "if R>0:\n",
        "  ans.append(('Red',R))\n",
        "if G>0:\n",
        "  ans.append(('Green',G))\n",
        "if B>0:\n",
        "  ans.append(('Blue',B))\n",
        "print(tuple(ans))\n",
        "\n"
      ],
      "metadata": {
        "colab": {
          "base_uri": "https://localhost:8080/"
        },
        "id": "aJvJgxToTCGn",
        "outputId": "a567ef9b-3b40-4450-bb9c-7930ecb1aa83"
      },
      "execution_count": 3,
      "outputs": [
        {
          "output_type": "stream",
          "name": "stdout",
          "text": [
            "enter string: RRBBRBRB\n",
            "(('Red', 4), ('Blue', 4))\n"
          ]
        }
      ]
    },
    {
      "cell_type": "code",
      "metadata": {
        "colab": {
          "base_uri": "https://localhost:8080/"
        },
        "id": "sk4BFbon1BEI",
        "outputId": "5a026c45-3479-4848-923c-458095612228"
      },
      "source": [
        "#Q2 \n",
        "inp=input(\"enter string: \")\n",
        "R=0\n",
        "G=0\n",
        "B=0\n",
        "for letter in inp:\n",
        "  if letter=='R':\n",
        "    R+=1\n",
        "  elif letter=='G':\n",
        "    G+=1\n",
        "  elif letter==\"B\":\n",
        "    B+=1\n",
        "\n",
        "if R>0 and G>0 and B>0:\n",
        "  ans=(('Red',R),(\"Green\",G),(\"Blue\",B))\n",
        "  print(ans)\n",
        "\n",
        "elif R==0 and G!=0 and B!=0:\n",
        "  ans=((\"Green\",G),(\"Blue\",B))\n",
        "  print(ans)\n",
        "\n",
        "elif R!=0 and G==0 and B!=0:\n",
        "  ans=((\"Red\",R),(\"Blue\",B))\n",
        "  print(ans)\n",
        "\n",
        "elif R!=0 and G!=0 and B==0:\n",
        "  ans=((\"Red\",R),(\"Green\",G))\n",
        "  print(ans)  \n",
        "\n",
        "elif R==0 and G==0 and B!=0:\n",
        "  ans=((\"Blue\",B),)\n",
        "  print(ans)  \n",
        "\n",
        "elif R!=0 and G==0 and B==0:\n",
        "  ans=((\"Red\",R),)\n",
        "  print(ans)\n",
        "\n",
        "elif R==0 and G!=0 and B==0:\n",
        "  ans=((\"Green\",G),)\n",
        "  print(ans)  "
      ],
      "execution_count": null,
      "outputs": [
        {
          "output_type": "stream",
          "name": "stdout",
          "text": [
            "enter string of numbers: RRRRR\n",
            "(('Red', 5),)\n"
          ]
        }
      ]
    },
    {
      "cell_type": "code",
      "metadata": {
        "colab": {
          "base_uri": "https://localhost:8080/"
        },
        "id": "YjljSV7SRdwR",
        "outputId": "6d2c0b87-0b6e-4431-e9d6-0862b7eec11b"
      },
      "source": [
        "#Q3 little easier\n",
        "inp=input(\"enter: \")\n",
        "inp=inp[1:-1]\n",
        "list1=inp.split('), ')\n",
        "print(list1)\n",
        "print(list1[0].split(','))\n",
        "print(list1[1].split(','))\n",
        "print(list1[3].split(','))\n",
        "avglist=[]\n",
        "maxlist=None\n",
        "maxavg=-1\n",
        "for tup in list1:\n",
        "    templist=[]\n",
        "    temp=tup.split(',')\n",
        "    for elem in temp:\n",
        "        elem=elem.strip(' ')\n",
        "        elem=elem.strip('(')\n",
        "        elem=elem.strip(')')\n",
        "        templist.append(int(elem))\n",
        "    average=sum(templist)/len(templist)\n",
        "    avglist.append(average)        \n",
        "    #sum1=sum(templist)\n",
        "    if average>maxavg:\n",
        "      maxavg=average\n",
        "      maxlist=templist\n",
        "\n",
        "print(\"Average of tuples:\",avglist)\n",
        "print(\"Tuple with maximum sum is\",tuple(maxlist))     \n"
      ],
      "execution_count": null,
      "outputs": [
        {
          "output_type": "stream",
          "name": "stdout",
          "text": [
            "enter: ((33, 22, 11), (30, 45, 56, 45,20), (81, 90, 39, 45), (1, 2, 3, 4,5,6))\n",
            "['(33, 22, 11', '(30, 45, 56, 45,20', '(81, 90, 39, 45', '(1, 2, 3, 4,5,6)']\n",
            "['(33', ' 22', ' 11']\n",
            "['(30', ' 45', ' 56', ' 45', '20']\n",
            "['(1', ' 2', ' 3', ' 4', '5', '6)']\n",
            "Average of tuples: [22.0, 39.2, 63.75, 3.5]\n",
            "Tuple with maximum sum is (81, 90, 39, 45)\n"
          ]
        }
      ]
    },
    {
      "cell_type": "code",
      "metadata": {
        "id": "al_0Ckgp37gM",
        "colab": {
          "base_uri": "https://localhost:8080/"
        },
        "outputId": "82ca16b1-7623-4e30-b4b6-45a6555b29f4"
      },
      "source": [
        "#Q3 similar little different\n",
        "inp=input(\"enter: \")\n",
        "inp=inp[1:-1]\n",
        "#print(inp)\n",
        "list1=inp.split(')')\n",
        "print(\"list1\",list1)\n",
        "print(list1[0].split(','))\n",
        "print(list1[1].split(','))\n",
        "print(list1[3].split(','))\n",
        "avglist=[]\n",
        "maxlist=None\n",
        "maxsum=-1\n",
        "for tup in list1[:-1]:#last element is empty\n",
        "  templist=[]\n",
        "  temp=tup.split(',')\n",
        "  for elem in temp:\n",
        "    elem=elem.strip(' ')\n",
        "    elem=elem.strip('(')\n",
        "    if elem.isdigit():\n",
        "      templist.append(int(elem))\n",
        "  #print('avg', templist)    \n",
        "  average=sum(templist)/len(templist)\n",
        "  avglist.append(average)\n",
        "  sum1=sum(templist)\n",
        "  if sum1>maxsum:\n",
        "    maxsum=sum1\n",
        "    maxlist=templist \n",
        "    \n",
        "print(\"Average of tuples:\",avglist)\n",
        "print(\"Tuple with maximum sum is\",tuple(maxlist))     \n"
      ],
      "execution_count": null,
      "outputs": [
        {
          "output_type": "stream",
          "name": "stdout",
          "text": [
            "enter: ((33, 22, 11), (30, 45, 56, 45,20), (81, 90, 39, 45), (1, 2, 3, 4,5,6))\n",
            "list1 ['(33, 22, 11', ', (30, 45, 56, 45,20', ', (81, 90, 39, 45', ', (1, 2, 3, 4,5,6', '']\n",
            "['(33', ' 22', ' 11']\n",
            "['', ' (30', ' 45', ' 56', ' 45', '20']\n",
            "['', ' (1', ' 2', ' 3', ' 4', '5', '6']\n",
            "Average of tuples: [22.0, 39.2, 63.75, 3.5]\n",
            "Tuple with maximum sum is (81, 90, 39, 45)\n"
          ]
        }
      ]
    },
    {
      "cell_type": "markdown",
      "metadata": {
        "id": "eDYdsRaaVVuq"
      },
      "source": [
        "DICTIONARY"
      ]
    },
    {
      "cell_type": "code",
      "metadata": {
        "id": "mx66HHaoyNXi",
        "colab": {
          "base_uri": "https://localhost:8080/"
        },
        "outputId": "1bf1eb6c-28f2-47fd-ffd8-a2c2b346f72a"
      },
      "source": [
        "#Q1\n",
        "dict1 = {'w': 50, 'x': 100, 'y': 'Green', 'z': 400}\n",
        "dict2 = {'x': 300, 'y': 'Red', 'z': 600}\n",
        "\n",
        "dict3={}\n",
        "for i in dict1:#copying dict1 to dict3\n",
        "  dict3[i]=[dict1[i]]\n",
        "\n",
        "for i in dict3:\n",
        "  if i in dict2:\n",
        "    dict3[i].append(dict2[i])\n",
        "\n",
        "for i in dict2:#for remaining/uncommon elems\n",
        "  if i not in dict3:\n",
        "    dict3[i]=[dict2[i]]\n",
        "\n",
        "print(dict3)\n"
      ],
      "execution_count": null,
      "outputs": [
        {
          "output_type": "stream",
          "name": "stdout",
          "text": [
            "{'w': [50], 'x': [100, 300], 'y': ['Green', 'Red'], 'z': [400, 600]}\n"
          ]
        }
      ]
    },
    {
      "cell_type": "code",
      "metadata": {
        "colab": {
          "base_uri": "https://localhost:8080/"
        },
        "id": "Nsx5PL91-Gp-",
        "outputId": "bc075167-269d-439d-ffc9-fdcd739e7d5b"
      },
      "source": [
        "#Q2\n",
        "dict_1 = {\"N\":(4,9,3),\"k\":[95,37,197],\"F\":(32,5,97),\"s\":[31,94,55]}\n",
        "dict_primes={}\n",
        "for key,value in dict_1.items():\n",
        "  templist=[]#contains prime numbers\n",
        "  for num in value:\n",
        "    prime=True\n",
        "    for i in range(2,num):#prime=number divisible by 1 an itself\n",
        "      if num%i==0:#if there's another divisor\n",
        "        prime=False\n",
        "        break\n",
        "    if prime==True:\n",
        "      templist.append(num)    \n",
        "  if type(value)==list:\n",
        "    dict_primes[key]=templist\n",
        "  else:#if value==tuple\n",
        "    dict_primes[key]=tuple(templist)\n",
        "\n",
        "print(dict_primes)\n",
        "\n"
      ],
      "execution_count": null,
      "outputs": [
        {
          "output_type": "stream",
          "name": "stdout",
          "text": [
            "{'N': (3,), 'k': [37, 197], 'F': (5, 97), 's': [31]}\n"
          ]
        }
      ]
    },
    {
      "cell_type": "code",
      "metadata": {
        "colab": {
          "base_uri": "https://localhost:8080/"
        },
        "id": "paxwtYuDBh7P",
        "outputId": "580bfd9d-4729-4f3e-f062-0fa44c3520c0"
      },
      "source": [
        "#Q3\n",
        "given_dict = { \"Normal Skills\":[10,15,20], \"Ultimate Skill\":50 }\n",
        " \n",
        "sum1=sum(given_dict['Normal Skills'])\n",
        "sum1+=given_dict[\"Ultimate Skill\"]\n",
        "agent=''\n",
        "if sum1<=70:\n",
        "  agent='Rage'\n",
        "elif sum1<=100:\n",
        "  agent=\"Jett\"\n",
        "else:\n",
        "  agent=\"Sage\"\n",
        "\n",
        "print(\"Additive Damage Score is\", sum1)\n",
        "print(\"The agent's name is\", agent)"
      ],
      "execution_count": null,
      "outputs": [
        {
          "output_type": "stream",
          "name": "stdout",
          "text": [
            "Additive Damage Score is 95\n",
            "The agent's name is Jett\n"
          ]
        }
      ]
    }
  ]
}