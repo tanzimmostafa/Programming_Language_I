{
  "nbformat": 4,
  "nbformat_minor": 0,
  "metadata": {
    "colab": {
      "name": "Branching_Practice_Problems_(assignment1++)_CSE110.ipynb",
      "provenance": [],
      "collapsed_sections": []
    },
    "kernelspec": {
      "name": "python3",
      "display_name": "Python 3"
    },
    "language_info": {
      "name": "python"
    }
  },
  "cells": [
    {
      "cell_type": "code",
      "metadata": {
        "colab": {
          "base_uri": "https://localhost:8080/"
        },
        "id": "sEkMG4A6sgVH",
        "outputId": "2e8ab465-ccf1-4fab-c1b9-6248da362017"
      },
      "source": [
        "#t1\n",
        "money=int(input('enter input: '))\n",
        "\n",
        "fiveh=money//500\n",
        "money=money%500\n",
        "hundred=money//100\n",
        "money=money%100\n",
        "fifty=money//50\n",
        "money=money%50\n",
        "twenty=money//20\n",
        "money=money%20\n",
        "ten=money//10\n",
        "money=money%10\n",
        "five=money//5\n",
        "money=money%5\n",
        "two=money//2\n",
        "money=money%2\n",
        "one=money//1\n",
        "\n",
        "if fiveh!=0:\n",
        "  print('500 Taka:',fiveh, 'note(s)')\n",
        "if hundred!=0:\n",
        "  print('100 Taka:',hundred, 'note(s)')\n",
        "if fifty!=0:\n",
        "  print('50 Taka:',fifty, 'note(s)')\n",
        "if twenty!=0:\n",
        "  print('20 Taka:',twenty, 'note(s)')\n",
        "if ten!=0:\n",
        "  print('10 Taka:',ten, 'note(s)')\n",
        "if five!=0:\n",
        "  print('5 Taka:',five, 'note(s)')\n",
        "if two!=0:\n",
        "  print('2 Taka:',two, 'note(s)')\n",
        "if one!=0:\n",
        "  print('1 Taka:',one, 'note(s)')"
      ],
      "execution_count": 10,
      "outputs": [
        {
          "output_type": "stream",
          "name": "stdout",
          "text": [
            "enter input: 151\n",
            "100 Taka: 1 note(s)\n",
            "50 Taka: 1 note(s)\n",
            "1 Taka: 1 note(s)\n"
          ]
        }
      ]
    },
    {
      "cell_type": "code",
      "metadata": {
        "colab": {
          "base_uri": "https://localhost:8080/"
        },
        "id": "Kb6kiN0ouPMx",
        "outputId": "385212ca-3931-42f5-fb71-559860948444"
      },
      "source": [
        "#t2\n",
        "inp=input('enter 3 sides of triangle: ').split(',')\n",
        "a=int(inp[0])\n",
        "b=int(inp[1])\n",
        "c=int(inp[2])\n",
        "#In mathematics, the triangle inequality states that for any triangle to be valid, \n",
        "#the sum of the lengths of any two sides must be greater \n",
        "#than the length of the remaining side.\n",
        "if a+b>c and b+c>a and c+a>b:\n",
        "  print('Valid triangle')\n",
        "else:\n",
        "  print('Not a valid triangle')"
      ],
      "execution_count": 17,
      "outputs": [
        {
          "output_type": "stream",
          "name": "stdout",
          "text": [
            "enter 3 sides of triangle: 7,9,12\n",
            "Valid triangle\n"
          ]
        }
      ]
    },
    {
      "cell_type": "code",
      "metadata": {
        "colab": {
          "base_uri": "https://localhost:8080/"
        },
        "id": "wdX6wws2vSE7",
        "outputId": "0129e5ce-6471-4ead-e955-d54230645364"
      },
      "source": [
        "#t3\n",
        "import math\n",
        "inp=input('enter 3 sides of triangle: ').split(',')\n",
        "x=int(inp[0])\n",
        "y=int(inp[1])\n",
        "z=int(inp[2])\n",
        "\n",
        "s=(x+y+z)/2\n",
        "area=s*math.sqrt((s-x)*(s-y)*(s-z))\n",
        "print(area)"
      ],
      "execution_count": 20,
      "outputs": [
        {
          "output_type": "stream",
          "name": "stdout",
          "text": [
            "enter 3 sides of triangle: 7,9,12\n",
            "117.13240371477058\n"
          ]
        }
      ]
    },
    {
      "cell_type": "code",
      "metadata": {
        "colab": {
          "base_uri": "https://localhost:8080/"
        },
        "id": "AKx9iuk9w7eM",
        "outputId": "43e76755-9423-4fd8-d27d-65a49b2eedfe"
      },
      "source": [
        "#t4\n",
        "year=int(input('enter year: '))\n",
        "if (year%4==0 and year%100!=0) or (year%4==0 and year%100==0 and year%400==0):\n",
        "  print('A leap year')\n",
        "else:\n",
        "  print('Not a leap year')  "
      ],
      "execution_count": 23,
      "outputs": [
        {
          "output_type": "stream",
          "name": "stdout",
          "text": [
            "enter year: 2400\n",
            "A leap year\n"
          ]
        }
      ]
    }
  ]
}