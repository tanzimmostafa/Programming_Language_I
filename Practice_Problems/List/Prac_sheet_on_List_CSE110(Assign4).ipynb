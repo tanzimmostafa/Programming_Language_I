{
  "nbformat": 4,
  "nbformat_minor": 0,
  "metadata": {
    "colab": {
      "name": "Prac_sheet_on_List_CSE110(Assi4).ipynb",
      "provenance": [],
      "collapsed_sections": []
    },
    "kernelspec": {
      "name": "python3",
      "display_name": "Python 3"
    },
    "language_info": {
      "name": "python"
    }
  },
  "cells": [
    {
      "cell_type": "code",
      "metadata": {
        "colab": {
          "base_uri": "https://localhost:8080/"
        },
        "id": "1czKVfAFJo21",
        "outputId": "4d44892c-7f67-42e7-8ae1-d257f3fc24a0"
      },
      "source": [
        "#Q1\n",
        "List1 = [90,30,-30,20,12]\n",
        "List2 = [-8,-5,-2,100,6]\n",
        "rev=len(List2)-1\n",
        "for i in range(len(List1)):\n",
        "  print(List1[i],List2[rev])\n",
        "  rev-=1\n"
      ],
      "execution_count": 3,
      "outputs": [
        {
          "output_type": "stream",
          "name": "stdout",
          "text": [
            "90 6\n",
            "30 100\n",
            "-30 -2\n",
            "20 -5\n",
            "12 -8\n"
          ]
        }
      ]
    },
    {
      "cell_type": "code",
      "metadata": {
        "colab": {
          "base_uri": "https://localhost:8080/"
        },
        "id": "-tKyVW4ZKczv",
        "outputId": "09797058-f739-4382-e311-a264c2d01d4a"
      },
      "source": [
        "#Q2\n",
        "#input: Red,Green,Blue,White,Black\n",
        "list1=input(\"Enter list separated by comma: \").split(',')\n",
        "list2=[]\n",
        "for i in list1:\n",
        "  list2.append(i[::-1])\n",
        "print(list2)  \n"
      ],
      "execution_count": 6,
      "outputs": [
        {
          "output_type": "stream",
          "name": "stdout",
          "text": [
            "Enter list separated by comma: Red,Green,Blue,White,Black\n",
            "['deR', 'neerG', 'eulB', 'etihW', 'kcalB']\n"
          ]
        }
      ]
    },
    {
      "cell_type": "code",
      "metadata": {
        "colab": {
          "base_uri": "https://localhost:8080/"
        },
        "id": "NXBek5gwLSeH",
        "outputId": "1892fb48-5d0b-4608-f9b8-c7da2900524c"
      },
      "source": [
        "#Q3\n",
        "list1=input(\"Enter list separated by comma: \").split(',')\n",
        "\n",
        "for i in range(len(list1)):#turning values to integer\n",
        "  list1[i]=int(list1[i])\n",
        "even1='not found'\n",
        "odd1='not found'\n",
        "for i in list1:\n",
        "  if i%2==0:#even\n",
        "    even1=i\n",
        "    break\n",
        "for i in list1:\n",
        "  if i%2==1:#odd\n",
        "    odd1=i\n",
        "    break      \n",
        "print('First even:'+str(even1)+' and First odd:'+str(odd1))\n"
      ],
      "execution_count": 15,
      "outputs": [
        {
          "output_type": "stream",
          "name": "stdout",
          "text": [
            "Enter list separated by comma: 50, 52, 6, 2, 10\n",
            "First even:50 and First odd:not found\n"
          ]
        }
      ]
    },
    {
      "cell_type": "code",
      "metadata": {
        "colab": {
          "base_uri": "https://localhost:8080/"
        },
        "id": "nzGNcUwzL_QQ",
        "outputId": "60975fae-06be-4892-fec6-0a88962352cb"
      },
      "source": [
        "#Q4\n",
        "T = ['p', 'q', 'r','s']\n",
        "N = 2\n",
        "result=[]\n",
        "for i in range(1,N+1):\n",
        "  for j in T:\n",
        "    result.append(str(j)+str(i))\n",
        "print(result)    \n"
      ],
      "execution_count": 19,
      "outputs": [
        {
          "output_type": "stream",
          "name": "stdout",
          "text": [
            "['p1', 'q1', 'r1', 's1', 'p2', 'q2', 'r2', 's2']\n"
          ]
        }
      ]
    },
    {
      "cell_type": "code",
      "metadata": {
        "id": "a2la-_BaOQR3"
      },
      "source": [
        ""
      ],
      "execution_count": null,
      "outputs": []
    }
  ]
}