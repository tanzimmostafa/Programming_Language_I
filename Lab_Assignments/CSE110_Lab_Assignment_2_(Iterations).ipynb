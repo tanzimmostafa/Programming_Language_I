{
  "nbformat": 4,
  "nbformat_minor": 0,
  "metadata": {
    "colab": {
      "name": "20301050_Iffat_jahan_chowdhury_sec03_CSE110_Assignment02_(Iterations_).ipynb",
      "provenance": [],
      "collapsed_sections": []
    },
    "kernelspec": {
      "display_name": "Python 3",
      "language": "python",
      "name": "python3"
    },
    "language_info": {
      "codemirror_mode": {
        "name": "ipython",
        "version": 3
      },
      "file_extension": ".py",
      "mimetype": "text/x-python",
      "name": "python",
      "nbconvert_exporter": "python",
      "pygments_lexer": "ipython3",
      "version": "3.8.3"
    }
  },
  "cells": [
    {
      "cell_type": "markdown",
      "metadata": {
        "id": "4wbfWEkOSK4T"
      },
      "source": [
        "# CSE110 Assignment 2 \n",
        "\n",
        "This assignment is to guide you to solve basic programming problems using loop in Python. \n",
        "\n",
        "**<font color='red'>[MUST MAINTAIN VARIABLE NAMING CONVENTIONS FOR ALL THE TASKS]</font>**\n",
        "\n",
        "## Write the Python code of the following problems:"
      ]
    },
    {
      "cell_type": "markdown",
      "metadata": {
        "id": "w269kMywSK4V"
      },
      "source": [
        "### Task 1\n",
        "\n",
        "Write python program, which prints the following sequences of values in loops:\n",
        "\n",
        "a)\t24, 18, 12, 6, 0, -6\\\n",
        "b)\t-10, -5, 0, 5, 10, 15, 20\\\n",
        "c)\t18, 27, 36, 45, 54, 63\\\n",
        "d)\t18,-27, 36,-45,54,-63\n",
        "\n",
        "=====================================================================\n",
        "\n",
        "**Hints(1):** Use a while loop for solving these problems.\n",
        "\n",
        "**Hints(2):** We are already familiar with the print() function. But when we use it to print any value it automatically adds an additional newline after each print statement.\n",
        "\n",
        "For example:\\\n",
        "print(1)\\\n",
        "print(2)\n",
        "\n",
        "Output:\\\n",
        "1\\\n",
        "2\n",
        "\n",
        "=====================================================================\n",
        "\n",
        "To solve this problem, in Python3, we need to add an extra argument (end = \" \") in the print function which tells the program to skip printing the additional newline.\n",
        "\n",
        "For example:\\\n",
        "print(1, end =\" \")\\\n",
        "print(2)\n",
        "\n",
        "Output:(prints the next output right to the previous one)\\\n",
        "12\n",
        "\n",
        "=====================================================================\n",
        "\n",
        "In Task-1(a), the loop counter should be initialized at 24 and the loop should terminate when the loop counter reaches -6. The difference between the first two values is 24-18=6. So the loop counter value is getting decremented by 6 in every iteration.\n",
        "\n",
        "For your understanding task 1(a) code is done for you.\n"
      ]
    },
    {
      "cell_type": "code",
      "metadata": {
        "id": "H9nuTYCuSK4X",
        "outputId": "e1a08b2f-ccc1-4896-b1ec-5904ba1945d5"
      },
      "source": [
        "# a) 24, 18, 12, 6, 0, -6\n",
        "\n",
        "# initialize loop counter\n",
        "counter = 24\n",
        "\n",
        "# loop structure\n",
        "while counter >= -6:\n",
        "    \n",
        "    #inside loop body\n",
        "    if counter == -6:\n",
        "        print(counter, end = \"\") \n",
        "    else:\n",
        "        print(counter, end = \", \") \n",
        "     \n",
        "    counter = counter - 6 #updating loop counter\n",
        "    #inside loop body\n",
        "    \n",
        "#outside loop body"
      ],
      "execution_count": null,
      "outputs": [
        {
          "output_type": "stream",
          "text": [
            "24, 18, 12, 6, 0, -6"
          ],
          "name": "stdout"
        }
      ]
    },
    {
      "cell_type": "code",
      "metadata": {
        "id": "YWLB_TuLSK4h",
        "outputId": "56dbb026-62c0-46a8-cdcf-5e6e47f2f0a1"
      },
      "source": [
        "# b)-10, -5, 0, 5, 10, 15, 20\n",
        "\n",
        "count= -10\n",
        "while(count <= 20):\n",
        "    if(count%5==0):\n",
        "        print(count, end=',')\n",
        "    count= count+5"
      ],
      "execution_count": null,
      "outputs": [
        {
          "output_type": "stream",
          "text": [
            "-10,-5,0,5,10,15,20,"
          ],
          "name": "stdout"
        }
      ]
    },
    {
      "cell_type": "code",
      "metadata": {
        "colab": {
          "base_uri": "https://localhost:8080/"
        },
        "id": "4wrytyeNAdhK",
        "outputId": "af4b0531-482c-416b-a0e5-2f7865bc24b7"
      },
      "source": [
        "# b)-10, -5, 0, 5, 10, 15, 20\n",
        "\n",
        "# initialize loop counter\n",
        "counter = -10\n",
        "\n",
        "# loop structure\n",
        "while counter <= 20:\n",
        "    \n",
        "    #inside loop body\n",
        "    if counter == 20:\n",
        "        print(counter, end = \"\") \n",
        "    else:\n",
        "        print(counter, end = \", \") \n",
        "     \n",
        "    counter = counter +5 #updating loop counter"
      ],
      "execution_count": null,
      "outputs": [
        {
          "output_type": "stream",
          "name": "stdout",
          "text": [
            "-10, -5, 0, 5, 10, 15, 20"
          ]
        }
      ]
    },
    {
      "cell_type": "code",
      "metadata": {
        "id": "b5blHg8zSK4n",
        "outputId": "61875946-e2a2-4731-bc8f-b68206055087"
      },
      "source": [
        "# c)18, 27, 36, 45, 54, 63\n",
        "\n",
        "count = 18\n",
        "while(count<=63):\n",
        "    \n",
        "    if(count%9==0):\n",
        "        print(count, end=',')\n",
        "    count= count+9    "
      ],
      "execution_count": null,
      "outputs": [
        {
          "output_type": "stream",
          "text": [
            "18,27,36,45,54,63,"
          ],
          "name": "stdout"
        }
      ]
    },
    {
      "cell_type": "markdown",
      "metadata": {
        "id": "VlRJZhqVSK4v"
      },
      "source": [
        "**Hints for 1(d):** \n",
        "\n",
        "print(5 * (-1)) gives output -5\\\n",
        "print(\"-\" + str(5)) gives output -5"
      ]
    },
    {
      "cell_type": "code",
      "metadata": {
        "id": "lA6BDPaaSK4v",
        "colab": {
          "base_uri": "https://localhost:8080/"
        },
        "outputId": "eecae035-dabd-4082-f474-ced881896dd8"
      },
      "source": [
        "# d)18,-27, 36,-45,54,-63\n",
        "\n",
        "x=2\n",
        "while(x<=7):\n",
        "    if (x==7):\n",
        "      print(9*(-x),end='')\n",
        "    elif(x%2==0):\n",
        "        print(9*x, end=',')\n",
        "    else:\n",
        "        print(9*(-x),end=',')\n",
        "    x+=1\n",
        "    \n"
      ],
      "execution_count": null,
      "outputs": [
        {
          "output_type": "stream",
          "name": "stdout",
          "text": [
            "18,-27,36,-45,54,-63"
          ]
        }
      ]
    },
    {
      "cell_type": "code",
      "metadata": {
        "colab": {
          "base_uri": "https://localhost:8080/"
        },
        "id": "QgCS0zWdBw3S",
        "outputId": "8b4a0426-d81c-458e-abd3-80989b48e0d2"
      },
      "source": [
        "# d)18,-27,36,-45,54,-63\n",
        "counter=18\n",
        "while counter<=63:\n",
        "  if counter==63:\n",
        "    print(counter*-1,end='')\n",
        "  elif counter%2==0:\n",
        "    print(counter,end=',')\n",
        "  else:\n",
        "    print(counter*-1,end=',')\n",
        "  counter+=9  \n",
        "\n"
      ],
      "execution_count": null,
      "outputs": [
        {
          "output_type": "stream",
          "name": "stdout",
          "text": [
            "18,-27,36,-45,54,-63"
          ]
        }
      ]
    },
    {
      "cell_type": "markdown",
      "metadata": {
        "id": "fB7DLiLjSK41"
      },
      "source": [
        "====================================================================\\\n",
        "<font color='blue'>\n",
        "All the tasks can be solved using both the \"while loop\" and the \"for loop\". But you need to choose the best looping construct which is the most suitable for solving a particular task.\n",
        "</font>\n",
        "\n",
        "===================================================================="
      ]
    },
    {
      "cell_type": "markdown",
      "metadata": {
        "id": "RGkTLNE8SK43"
      },
      "source": [
        "### Task 2\n",
        "Write a Python code for the following:\n",
        "\n",
        "1)\tAsk the user to enter the name of his favorite car.\\\n",
        "2)\tAsk the user to enter a Number\n",
        "\n",
        "Display the name of the user’s favorite car, the number of times specified in the second step.\n",
        "\n",
        "==========================================================\n",
        "\n",
        "**Example 01:** If the user enters “Toyota” and 20, your program should print the name “Toyota” twenty times.\n",
        "\n",
        "**Input:**\\\n",
        "Toyota\\\n",
        "2\n",
        "\n",
        "**Output:**\\\n",
        "Toyota\\\n",
        "Toyota\n",
        "\n",
        "==========================================================\n",
        "\n",
        "**Example02:** If the user enters “Veyron” and 5, your program should print the name “Veyron” five times.\n",
        "\n",
        "**Input:**\\\n",
        "Veyron\\\n",
        "5\n",
        "\n",
        "**Output:**\\\n",
        "Veyron\\\n",
        "Veyron\\\n",
        "Veyron\\\n",
        "Veyron\\\n",
        "Veyron\n"
      ]
    },
    {
      "cell_type": "code",
      "metadata": {
        "id": "u5yX33mvSK45",
        "outputId": "c4f5536e-cf8f-4da8-f4a3-1b731f6120fd"
      },
      "source": [
        "#Todo\n",
        "x = input('Enter the name of your favorite car: ')\n",
        "y = int(input('Enter a number: '))\n",
        "h = 1\n",
        "while (h<=y):\n",
        "    print (x)\n",
        "    h=h+1"
      ],
      "execution_count": null,
      "outputs": [
        {
          "output_type": "stream",
          "text": [
            "Enter the name of your favorite car: lambo\n",
            "Enter a number: 4\n",
            "lambo\n",
            "lambo\n",
            "lambo\n",
            "lambo\n"
          ],
          "name": "stdout"
        }
      ]
    },
    {
      "cell_type": "markdown",
      "metadata": {
        "id": "9Kspl8SHEVDb"
      },
      "source": [
        "### Task 3\n",
        "Write a Python code of a program that adds all numbers that are multiples of **both 7 and 9** up to 600 (including 600).\n",
        "\n",
        "Output: 2835\n"
      ]
    },
    {
      "cell_type": "code",
      "metadata": {
        "id": "Q6dix8WhSK5B",
        "outputId": "9805b133-614f-4fe1-d5a4-3ffed31fba45"
      },
      "source": [
        "#Todo\n",
        "x = 1\n",
        "sum=0\n",
        "while (x<=600):\n",
        "    if(x%63==0):\n",
        "        sum+=x\n",
        "    x=x+1\n",
        "print(sum)"
      ],
      "execution_count": null,
      "outputs": [
        {
          "output_type": "stream",
          "text": [
            "2835\n"
          ],
          "name": "stdout"
        }
      ]
    },
    {
      "cell_type": "markdown",
      "metadata": {
        "id": "8swUoCy9SK5F"
      },
      "source": [
        "### Task 4\n",
        "Write a Python code of a program that adds all numbers that are multiples of **either 7 or 9** up to 600(including 600). \\\n",
        "Ensure that numbers like 63 are added only once in the sum.\n",
        "\n",
        "Output: 42649\n"
      ]
    },
    {
      "cell_type": "code",
      "metadata": {
        "id": "pbIA-waFSK5G",
        "outputId": "c672a806-9eca-4903-dbf8-437c908b2d3c"
      },
      "source": [
        "#Todo\n",
        "x=1\n",
        "sum=0\n",
        "while(x<=600):\n",
        "    if((x%7==0)or(x%9==0)):\n",
        "        sum=sum+x\n",
        "    x+=1\n",
        "print(sum)"
      ],
      "execution_count": null,
      "outputs": [
        {
          "output_type": "stream",
          "text": [
            "42649\n"
          ],
          "name": "stdout"
        }
      ]
    },
    {
      "cell_type": "markdown",
      "metadata": {
        "id": "H3hLyguASK5L"
      },
      "source": [
        "### Task 5\n",
        "Write a Python code of a program that adds all numbers that are multiples of **either 7 or 9 but not both**, up to 600(including 600).\n",
        "\n",
        "Output: 39814\n"
      ]
    },
    {
      "cell_type": "code",
      "metadata": {
        "id": "LiAvUr1QSK5M",
        "outputId": "6fcd2e7e-844f-4aec-ad5b-9e19de0643da"
      },
      "source": [
        "#Todo\n",
        "x=1\n",
        "sum=0\n",
        "while(x<=600):\n",
        "    if(((x%7==0) or (x%9==0)) and (x%63 != 0)):\n",
        "        sum+=x\n",
        "    x+=1\n",
        "print(sum)"
      ],
      "execution_count": null,
      "outputs": [
        {
          "output_type": "stream",
          "text": [
            "39814\n"
          ],
          "name": "stdout"
        }
      ]
    },
    {
      "cell_type": "markdown",
      "metadata": {
        "id": "8SmvPvfaSK5P"
      },
      "source": [
        "### Task 6\n",
        "Write a Python code to displays all the **odd numbers** between 10 and 50.\n",
        "\n",
        "Output: 11 13 15 17 19 21 23 25 27 29 31 33 35 37 39 41 43 45 47 49\n"
      ]
    },
    {
      "cell_type": "code",
      "metadata": {
        "id": "PJmT9fvuSK5Q",
        "colab": {
          "base_uri": "https://localhost:8080/"
        },
        "outputId": "8715f5a1-3ef5-4a04-d39f-a73d8b771984"
      },
      "source": [
        "#Todo\n",
        "x=10\n",
        "while(x<=50):\n",
        "    if(x%2!=0):\n",
        "        print(x, end=' ')\n",
        "    x+=1"
      ],
      "execution_count": null,
      "outputs": [
        {
          "output_type": "stream",
          "name": "stdout",
          "text": [
            "11 13 15 17 19 21 23 25 27 29 31 33 35 37 39 41 43 45 47 49 "
          ]
        }
      ]
    },
    {
      "cell_type": "markdown",
      "metadata": {
        "id": "Nw4dX_MeSK5V"
      },
      "source": [
        "### Task 7\n",
        "Write a Python code that will calculate the **value of y if the expression** of y is as follows (n is the input):  \n",
        "\n",
        "$y = 1^2 - 2^2 +3^2 -4^2 +5^2 .........+ n^2 $\n",
        "\n",
        "\n",
        "==========================================================\n",
        "\n",
        "**Example01:** \n",
        "\n",
        "**Input:**\\\n",
        "10\n",
        "\n",
        "**Output:**\\\n",
        "-55\n",
        "\n",
        "==========================================================\n",
        "\n",
        "**Example02:** \n",
        "\n",
        "**Input:**\\\n",
        "20\n",
        "\n",
        "**Output:**\\\n",
        "-210\n",
        "\n"
      ]
    },
    {
      "cell_type": "code",
      "metadata": {
        "id": "BbJe-7AuSK5V",
        "outputId": "8d68dcbf-22f8-4680-9238-f34879c60111"
      },
      "source": [
        "#Todo\n",
        "p=int(input('Please enter a number: '))\n",
        "x=1\n",
        "sum=0\n",
        "while(x<=p):\n",
        "    if(x%2 != 0):\n",
        "        z=x**2\n",
        "    else:\n",
        "        z=(-x**2)\n",
        "    sum=sum+z\n",
        "    x=x+1\n",
        "print(sum)\n",
        "    "
      ],
      "execution_count": null,
      "outputs": [
        {
          "output_type": "stream",
          "text": [
            "Please enter a number: 10\n",
            "-55\n"
          ],
          "name": "stdout"
        }
      ]
    },
    {
      "cell_type": "markdown",
      "metadata": {
        "id": "dO1negsH2iY-"
      },
      "source": [
        "### Task 8\n",
        "Write a Python code of a program that asks the user to enter ten numbers then display the total and the average of **ONLY** the **odd numbers** among those ten numbers. <font color='red'>[Use of list is completely unnecesary for this task]</font>\n",
        "==========================================================\n",
        "\n",
        "**Example01:** \n",
        "\n",
        "**Input:**\\\n",
        "1\n",
        "\n",
        "2\n",
        "\n",
        "3\n",
        "\n",
        "4\n",
        "\n",
        "5\n",
        "\n",
        "6\n",
        "\n",
        "7\n",
        "\n",
        "8\n",
        "\n",
        "9\n",
        "\n",
        "10\n",
        "\n",
        "**Output:**\n",
        "Total is 25 and Average is 5.0\n",
        "\n",
        "\n",
        "**Explanation:**\n",
        "\n",
        "Total is 25 = (1+3+5+7+9) and Average is 25/5 = 5.0\n",
        "\n",
        "==========================================================\n",
        "\n",
        "\n",
        "**Example02:** \n",
        "\n",
        "**Input:**\\\n",
        "-20\n",
        "\n",
        "3\n",
        "\n",
        "-5\n",
        "\n",
        "40\n",
        "\n",
        "-17\n",
        "\n",
        "9\n",
        "\n",
        "20\n",
        "\n",
        "-8\n",
        "\n",
        "99\n",
        "  \n",
        "-200\n",
        "\n",
        "**Output:**\n",
        "\n",
        "Total is 89 and Average is 17.8\n",
        "\n",
        "\n",
        "**Explanation:**\n",
        "\n",
        "Total is 89 =(3+(-5)+(-17)+9+99) and Average is 89/5 = 17.8\n",
        "\n"
      ]
    },
    {
      "cell_type": "code",
      "metadata": {
        "id": "c0akirXXSK5m",
        "colab": {
          "base_uri": "https://localhost:8080/"
        },
        "outputId": "033393c4-2a8a-494b-d254-ab95712d7d5d"
      },
      "source": [
        "#Todo\n",
        "odd_sum=0\n",
        "odd_count=0\n",
        "for x in range(10):\n",
        "    num= int(input('Enter a number: '))\n",
        "    if num%2==1:\n",
        "        odd_sum= odd_sum+num\n",
        "        odd_count+=1\n",
        "average=((odd_sum)/(odd_count))\n",
        "print(odd_sum)\n",
        "print(average)"
      ],
      "execution_count": 2,
      "outputs": [
        {
          "output_type": "stream",
          "name": "stdout",
          "text": [
            "Enter a number: -20\n",
            "Enter a number: 3\n",
            "Enter a number: -5\n",
            "Enter a number: 40\n",
            "Enter a number: -17\n",
            "Enter a number: 9\n",
            "Enter a number: 20\n",
            "Enter a number: -8\n",
            "Enter a number: 99\n",
            "Enter a number: -200\n",
            "89\n",
            "17.8\n"
          ]
        }
      ]
    },
    {
      "cell_type": "markdown",
      "metadata": {
        "id": "cGdMk_vuSK5s"
      },
      "source": [
        "### Task 9\n",
        "Write a Python code for the following:\n",
        "* Ask the user to enter a Number, N\n",
        "* Display the summation of multiples of 7 up to that number (**from 1 to N inclusive**)\n",
        "\n",
        "==========================================================\n",
        "\n",
        "**Example01:** \n",
        "\n",
        "**Input:**\\\n",
        "50\n",
        "\n",
        "**Output:**\\\n",
        "196\n",
        "\n",
        "**Explanation:**\\\n",
        "7 + 14 + 21 + 28 + 35 + 42 + 49 = 196\n",
        "\n",
        "==========================================================\n",
        "\n",
        "**Example02:** \n",
        "\n",
        "**Input:**\\\n",
        "75\n",
        "\n",
        "**Output:**\\\n",
        "385\n",
        "\n",
        "**Explanation:**\\\n",
        "7 + 14 + 21 + 28 + 35 + 42 + 49 + 56 + 63 + 70 = 385\n",
        "\n",
        "\n",
        "\n"
      ]
    },
    {
      "cell_type": "code",
      "metadata": {
        "id": "zLsrA8dSSK5t",
        "outputId": "173eab0c-7bdb-4314-a187-fd713ae07120"
      },
      "source": [
        "#Todo\n",
        "p=int(input('Please enter a number: '))\n",
        "x=1\n",
        "sum=0\n",
        "while(x<=p):\n",
        "    if(x%7==0):\n",
        "        sum+=x\n",
        "    x+=1\n",
        "print(sum) "
      ],
      "execution_count": null,
      "outputs": [
        {
          "output_type": "stream",
          "text": [
            "Please enter a number: 50\n",
            "196\n"
          ],
          "name": "stdout"
        }
      ]
    },
    {
      "cell_type": "markdown",
      "metadata": {
        "id": "OZ9pVIvhSK5w"
      },
      "source": [
        "### Task 10\n",
        "Write a Python code that will read 10 numbers from the user, and then print the first number, the sum of the first 2 numbers, the sum of the first 3 numbers, and so on up to the sum of 10 numbers.\n",
        "\n",
        "==========================================================\n",
        "\n",
        "\n",
        "For example,\n",
        "\n",
        "The user enters 10, output 10, then \\\n",
        "The user enters 2, (10+2) = 12, output 12, then \\\n",
        "The user enters 4, (10+2+4) = 16, output 16, then \\\n",
        "The user enters 20, (10+2+4+20) = 36, output 36, and continuous till the 10$^{th}$ input\n"
      ]
    },
    {
      "cell_type": "code",
      "metadata": {
        "id": "FCwYrfGGSK5w",
        "outputId": "d1e3af61-2c60-4269-dcdc-34e3c0051fa5"
      },
      "source": [
        "#Todo\n",
        "sum=0\n",
        "for x in range(10):\n",
        "    num=int(input('Please enter a number'))\n",
        "    sum+=num\n",
        "    print(sum)"
      ],
      "execution_count": null,
      "outputs": [
        {
          "output_type": "stream",
          "text": [
            "Please enter a number10\n",
            "10\n",
            "Please enter a number2\n",
            "12\n",
            "Please enter a number4\n",
            "16\n",
            "Please enter a number20\n",
            "36\n",
            "Please enter a number1\n",
            "37\n",
            "Please enter a number2\n",
            "39\n",
            "Please enter a number3\n",
            "42\n",
            "Please enter a number4\n",
            "46\n",
            "Please enter a number5\n",
            "51\n",
            "Please enter a number6\n",
            "57\n"
          ],
          "name": "stdout"
        }
      ]
    },
    {
      "cell_type": "markdown",
      "metadata": {
        "id": "dUsVuzILSK50"
      },
      "source": [
        "### Task 11\n",
        "Write a Python program which takes a number and prints the digits from the unit place, then the tenth, then hundredth, etc. <font color='red'>(Right to Left)</font>\n",
        "\n",
        "<font color='red'>[Consider the input number to be an INTEGER]</font>\n",
        "\n",
        "**Example:** If the user gives 32768, then print 8, 6, 7, 2, 3 \n",
        "\n",
        "=========================================================================\n",
        "\n",
        "**Hint:**  The input() function, converts the input data to String data type by default. Use this knowledge to solve this problem.\n",
        "\n"
      ]
    },
    {
      "cell_type": "markdown",
      "metadata": {
        "id": "hAm9Ll-G3Wcy"
      },
      "source": [
        "Hint (2): First to get the digit from the right side, take the remainder of the number using modulus (%) operator and print the digit. For dropping the last digit, perform floor division by 10 on the number. Then start over.\n",
        "32,768 % 10 = 8\n",
        "\n",
        "32,768 // 10 = 3, 276\n",
        "\n",
        "3, 276 % 10 = 6\n",
        "\n",
        "3, 276 // 10 = 327\n",
        "\n",
        "327 % 10 = 7\n",
        "\n",
        "327 // 10 = 32\n",
        "\n",
        "32 % 10 = 2\n",
        "\n",
        "32 //10 = 3\n",
        "\n",
        "3 % 10 = 3\n",
        "\n",
        "3 // 10 = 0\n",
        "\n",
        "Done! When the number becomes 0 your loop should end."
      ]
    },
    {
      "cell_type": "code",
      "metadata": {
        "colab": {
          "base_uri": "https://localhost:8080/"
        },
        "id": "Qunm_8dE3WR_",
        "outputId": "e906b3ae-b475-4553-d718-cc416c36cfa6"
      },
      "source": [
        "num=int(input(\"enter number\"))\n",
        "while num!=0:\n",
        "  print(num%10)\n",
        "  num=num//10\n",
        "\n"
      ],
      "execution_count": null,
      "outputs": [
        {
          "output_type": "stream",
          "text": [
            "enter number32768\n",
            "8\n",
            "6\n",
            "7\n",
            "2\n",
            "3\n"
          ],
          "name": "stdout"
        }
      ]
    },
    {
      "cell_type": "code",
      "metadata": {
        "colab": {
          "base_uri": "https://localhost:8080/"
        },
        "id": "01E-nBYTsrOh",
        "outputId": "e94282cb-b99c-4a57-d16a-4e3af3c514e8"
      },
      "source": [
        "#Todo\n",
        "n=int(input('Please enter anumber: '))\n",
        "b=str(n)\n",
        "counter=-1\n",
        "for i in range(len(b)):\n",
        "    print(b[counter])\n",
        "    counter-=1"
      ],
      "execution_count": null,
      "outputs": [
        {
          "output_type": "stream",
          "text": [
            "Please enter anumber: 32768\n",
            "8\n",
            "6\n",
            "7\n",
            "2\n",
            "3\n"
          ],
          "name": "stdout"
        }
      ]
    },
    {
      "cell_type": "markdown",
      "metadata": {
        "id": "xWxrM53vvfUV"
      },
      "source": [
        "### Task 12\n",
        "Write a Python program that takes a number from the user and prints its digits from left to right. <font color='red'> (left to right) </font>\n",
        "\n",
        "<font color='red'>[The input number has to be an INTEGER]</font>\n",
        "\n",
        "=========================================================================\n",
        "\n",
        "**Example:** if the user gives 32768, then print 3, 2, 7, 6, 8 \n",
        "\n",
        "=========================================================================\n",
        "\n",
        "Hint(1): The input() function, converts the input data to String data type by default. Use this knowledge to solve this problem.\n",
        "\n",
        "Hint(2):\n",
        "\n",
        "Step1: count how many digits\n",
        "\n",
        "Step2: calculate 10 to the power that (number of digits) minus 1.\n",
        "\n",
        "Step3: Say, 32768 has 5 digits, so you calculate 10 to the power 4 which is 10,000. Then divide 32,768 by 10,000 and thus you get 3.\n",
        "\n",
        "Take remainder of 32,768 by 10,000 and thus you get 2,768 \n",
        "\n",
        "Then divide 10,000 by 10 to get 1,000\n",
        "\n",
        "Then divide 2,768 by 1,000 and thus you get 2.\n",
        "\n",
        "take remainder of 2,768 by 1,000 and thus you get 768 keep going on until there is no more digits left (zero!).\n",
        "\n",
        "In short:\n",
        "Loop 1: First count digits, say 5 in this case for 32,768\n",
        "\n",
        "Loop 2: Then calculate 10 to the power 4 (5-1), that is 10,000.\n",
        "\n",
        "Loop 3: Then repeat following three steps\n",
        "\n",
        "32,768 // 10,000 = 3\n",
        "\n",
        "32,768 % 10,000 = 2,768\n",
        "\n",
        "10,000//10 = 1,000\n",
        "\n",
        "2,768 // 1,000 = 2\n",
        "\n",
        "2,768 % 1,000 = 768\n",
        "\n",
        "1,000//10 = 100\n",
        "\n",
        "768 // 100 = 7\n",
        "\n",
        "768 % 100 = 68\n",
        "\n",
        "100//10= 10\n",
        "\n",
        "68 //10 = 6\n",
        "\n",
        "68 % 10 = 8\n",
        "\n",
        "10//10= 1\n",
        "\n",
        "8 //1 = 8\n",
        "\n",
        "8 % 1 = 0\n",
        "\n",
        "1//10=0"
      ]
    },
    {
      "cell_type": "code",
      "metadata": {
        "id": "2Ntfdr2tv230",
        "colab": {
          "base_uri": "https://localhost:8080/"
        },
        "outputId": "5c3c1df1-2570-47d0-e9a4-3bc2257a8be2"
      },
      "source": [
        "num=int(input(\"enter number: \"))\n",
        "a=num\n",
        "count_digit=0\n",
        "\n",
        "while a!=0:#counting number of digits\n",
        "    a=a//10 #drops last digit\n",
        "    count_digit+=1\n",
        "   \n",
        "#print(count_digit)    \n",
        "\n",
        "\n",
        "power=10**(count_digit-1)\n",
        "\n",
        "while num!=0:\n",
        "    print(num//power)\n",
        "    num=num%power\n",
        "    power=power//10"
      ],
      "execution_count": null,
      "outputs": [
        {
          "output_type": "stream",
          "text": [
            "enter number: 32768\n",
            "3\n",
            "2\n",
            "7\n",
            "6\n",
            "8\n"
          ],
          "name": "stdout"
        }
      ]
    },
    {
      "cell_type": "code",
      "metadata": {
        "id": "8zTFg5CG4h8X"
      },
      "source": [
        ""
      ],
      "execution_count": null,
      "outputs": []
    },
    {
      "cell_type": "markdown",
      "metadata": {
        "id": "VIeR6DT9SK53"
      },
      "source": [
        "### Task 13\n",
        "\n",
        "Write a Python program that takes a number and tells how many digits are in that number. \\\n",
        "<font color='red'>[Consider the input number has to be an INTEGER] </font>\n",
        "\n",
        "<font color='red'>You are not allowed to use len() function</font>\n",
        "\n",
        "**Example:** If the user gives 9876, you should print 4. \n",
        "\n",
        "\n",
        "\n",
        "**Hint:** Keep floor dividing by ten and count how many times this could be divided. \n",
        "\n",
        "9876 floor divide by 10, is 987, count that got 1 digit (total 1) \\\n",
        "987 floor divide by 10, is 98, count that got 1 digit (total 2) \\\n",
        "98 floor divide by 10, is 9, count that got 1 digit (total 3) \\\n",
        "9 floor divide by 10, is 0, count that got 1 digit (total 4) \n",
        "\n",
        "Done! (When the number becomes 0 your loop should end.)\n",
        "\n"
      ]
    },
    {
      "cell_type": "code",
      "metadata": {
        "id": "IgqcBx8eSK54",
        "outputId": "3b8fed3d-7790-4304-d6e4-c0a8310ec888"
      },
      "source": [
        "#Todo\n",
        "\n",
        "num=int(input('Enter a number: '))\n",
        "digit_count=0\n",
        "\n",
        "while(num>0):\n",
        "    num=num//10\n",
        "    digit_count+=1\n",
        "        \n",
        "print(digit_count)"
      ],
      "execution_count": null,
      "outputs": [
        {
          "output_type": "stream",
          "text": [
            "Enter a number: 9876\n",
            "4\n"
          ],
          "name": "stdout"
        }
      ]
    },
    {
      "cell_type": "code",
      "metadata": {
        "id": "1mbvaP4HYzHp"
      },
      "source": [
        ""
      ],
      "execution_count": null,
      "outputs": []
    },
    {
      "cell_type": "markdown",
      "metadata": {
        "id": "fTbwwo3mSK6A"
      },
      "source": [
        "### Task 14\n",
        "\n",
        "Write a Python program that takes a number from the user and prints the divisors of that number and then print how many divisors were there.\n",
        "<font color='red'>[The input number has to be an INTEGER]</font>\n",
        "\n",
        "==========================================================\n",
        "\n",
        "**Example01:** \n",
        "\n",
        "**Input:**\\\n",
        "6\n",
        "\n",
        "**Output:**\\\n",
        "1, 2, 3, 6 \\\n",
        "Total 4 divisors.\n",
        "\n",
        "\n",
        "==========================================================\n",
        "\n",
        "**Example02:** \n",
        "\n",
        "**Input:**\\\n",
        "121\n",
        "\n",
        "**Output:**\\\n",
        "1, 11, 121 \\\n",
        "Total 3 divisors.\n",
        "\n",
        "\n"
      ]
    },
    {
      "cell_type": "code",
      "metadata": {
        "id": "aFSd6sYXSK6A",
        "outputId": "2a95c780-86f4-4333-ff2c-24f954dd7ae2"
      },
      "source": [
        "#Todo\n",
        "x=1\n",
        "divisors_count=0\n",
        "num=int(input('Please enter a number: '))\n",
        "while(x<=num):\n",
        "    if(num%x==0):\n",
        "        print(x)\n",
        "        divisors_count+=1\n",
        "    x+=1\n",
        "    \n",
        "print('Number of divisors: ',divisors_count)"
      ],
      "execution_count": null,
      "outputs": [
        {
          "output_type": "stream",
          "text": [
            "Please enter a number: 6\n",
            "1\n",
            "2\n",
            "3\n",
            "6\n",
            "Number of divisors:  4\n"
          ],
          "name": "stdout"
        }
      ]
    },
    {
      "cell_type": "markdown",
      "metadata": {
        "id": "swvpit_vSK6E"
      },
      "source": [
        "# Task 15\n",
        "Write a Python program that takes a number and tells if it is a perfect number or not. <font color='red'>[The input number has to be an INTEGER]</font>\n",
        "\n",
        "**Perfect Number:** An integer number is said to be a perfect number if its factors, including 1 but not the number itself, sum to the number.\n",
        "\n",
        "==========================================================\n",
        "\n",
        "**Example01:** \n",
        "\n",
        "**Input:**\\\n",
        "6\n",
        "\n",
        "**Output:**\\\n",
        "6 is a perfect number\n",
        "\n",
        "**Explanation:**\\\n",
        "6 have 4 divisors: 1, 2, 3, and 6. \\\n",
        "If we add all factors except itself, 6 = 1 + 2 + 3.\n",
        "\n",
        "==========================================================\n",
        "\n",
        "\n",
        "**Example02:** \n",
        "\n",
        "**Input:**\\\n",
        "20\n",
        "\n",
        "**Output:**\\\n",
        "28 is a perfect number\n",
        "\n",
        "**Explanation:**\\\n",
        "28 have 6 divisors: 1, 2, 4, 7, 14, and 28. \\\n",
        "If we add all factors except itself, 28 = 1 + 2 + 4 + 7 + 14.\n",
        "\n",
        "==========================================================\n",
        "\n",
        "**Example03:** \n",
        "\n",
        "**Input:**\\\n",
        "33\n",
        "\n",
        "**Output:**\\\n",
        "33 is not a perfect number\n",
        "\n",
        "**Explanation:**\\\n",
        "33 have 3 divisors: 1, 3, 11, and 33. \\\n",
        "If we add all factors except itself, 15 = 1 + 3 + 11.\n",
        "\n"
      ]
    },
    {
      "cell_type": "code",
      "metadata": {
        "id": "WxrTdQ67SK6E",
        "outputId": "03aa9939-2d2d-4ec2-b0df-ab0c02d6c1aa"
      },
      "source": [
        "#Todo\n",
        "num=int(input('Enter a number: '))\n",
        "sum=0\n",
        "for x in range (1,num):\n",
        "    if(num%x==0):\n",
        "        sum+=x\n",
        "if(sum==num):\n",
        "    print(num, 'is a perfect number')"
      ],
      "execution_count": null,
      "outputs": [
        {
          "output_type": "stream",
          "text": [
            "Enter a number: 6\n",
            "6 is a perfect number\n"
          ],
          "name": "stdout"
        }
      ]
    },
    {
      "cell_type": "markdown",
      "metadata": {
        "id": "JunF6mTuSK6H"
      },
      "source": [
        "### Task 16\n",
        "\n",
        "Write a Python program that asks the user for one number and tells if it is a prime number or not. <font color='red'>[The input number has to be an INTEGER]</font>\n",
        "\n",
        "**Prime Number:** If a number has only two divisors, (1 and itself), then it is prime. If it is divisible by more numbers, then it is not a prime.\n",
        "\n",
        "==========================================================\n",
        "\n",
        "**Hint:** use the divisor count from task 16. \n",
        "\n",
        "==========================================================\n",
        "\n",
        "**Example01:** \n",
        "\n",
        "**Input:**\\\n",
        "11\n",
        "\n",
        "**Output:**\\\n",
        "11 is a prime number\n",
        "\n",
        "**Explanation:**\\\n",
        "11 has only 2 divisors: 1, and 11.\n",
        "\n",
        "==========================================================\n",
        "\n",
        "**Example02:** \n",
        "\n",
        "**Input:**\\\n",
        "6\n",
        "\n",
        "**Output:**\\\n",
        "6 is not a prime number\n",
        "\n",
        "**Explanation:**\\\n",
        "6 have 4 divisors: 1, 2, 3 and 6.\n",
        "\n",
        "\n",
        "\n",
        "\n"
      ]
    },
    {
      "cell_type": "code",
      "metadata": {
        "id": "s_UhmEARSK6I",
        "outputId": "b1d74492-5975-4986-9e9b-4072feefeee0"
      },
      "source": [
        "#Todo\n",
        "num=int(input ('Enter a number: '))\n",
        "divisor_count=0\n",
        "for x in range (1,(num+1)):\n",
        "    if(num%x==0):\n",
        "        divisor_count+=1\n",
        "if (divisor_count==2):\n",
        "    print(num, 'is a prime number')"
      ],
      "execution_count": null,
      "outputs": [
        {
          "output_type": "stream",
          "text": [
            "Enter a number: 11\n",
            "11 is a prime number\n"
          ],
          "name": "stdout"
        }
      ]
    },
    {
      "cell_type": "markdown",
      "metadata": {
        "id": "2LrNlU1XSK6L"
      },
      "source": [
        "### Task 17\n",
        "\n",
        "Write a Python program that asks the user for a quantity then takes that many numbers and prints the maximum, minimum and average of those numbers. \n",
        "\n",
        "**<font color='red'>[CANNOT USE MAX,MIN BUILT-IN FUNCTIONS][FOR THIS TASK YOU DO NOT NEED TO USE LISTS]</font>** \n",
        "\n",
        "==========================================================\n",
        "\n",
        "**Example01:** If the user enters 5 as an input for quantity. Then enters 10, 4, -1, -100, and 1. \\\n",
        "Your program output should be: “Maximum 10”, “Minimum -100”, “Average is -17.2”\n",
        "\n",
        "**Input:**\\\n",
        "5\n",
        "10\n",
        "4\n",
        "-1\n",
        "-100\n",
        "1.\n",
        "\n",
        "**Output:**\\\n",
        "Maximum 10\\\n",
        "Minimum -100\\\n",
        "Average is -17.2\n",
        "\n",
        "**Explanation:**\\\n",
        "Average calculation: (10+4 + (-1) + (-100) + 1)/5 = -86/5=-17.2\n",
        "\n"
      ]
    },
    {
      "cell_type": "markdown",
      "metadata": {
        "id": "vyKdiIcxxwTR"
      },
      "source": [
        ""
      ]
    },
    {
      "cell_type": "code",
      "metadata": {
        "colab": {
          "base_uri": "https://localhost:8080/"
        },
        "id": "7sH-Pa38wpIo",
        "outputId": "a1473b47-0d66-49ef-f70e-981ea6903a39"
      },
      "source": [
        "#Todo\n",
        "p=int(input('Enter how many numbers will be taken: '))\n",
        "q=int(input('Enter a number: '))\n",
        "sum=q\n",
        "max=q\n",
        "min=q\n",
        "count=1\n",
        "for x in range (p-1):\n",
        "    number=int(input('Enter a number: '))\n",
        "    sum=sum+number\n",
        "    count+=1\n",
        "    if number>max:\n",
        "      max=number\n",
        "    if number<min:\n",
        "      min = number  \n",
        "\n",
        "print('Maximum number is: ',max)\n",
        "print('Minimum number is: ',min)\n",
        "avg=sum/count\n",
        "print('Average is: ',avg)"
      ],
      "execution_count": null,
      "outputs": [
        {
          "output_type": "stream",
          "text": [
            "Enter how many numbers will be taken: 5\n",
            "Enter a number: 10\n",
            "Enter a number: 4\n",
            "Enter a number: -1\n",
            "Enter a number: -100\n",
            "Enter a number: 1\n",
            "Maximum number is:  10\n",
            "Minimum number is:  -100\n",
            "Average is:  -17.2\n"
          ],
          "name": "stdout"
        }
      ]
    },
    {
      "cell_type": "markdown",
      "metadata": {
        "id": "QLXvNSiOxhlI"
      },
      "source": [
        "## Task 18\n",
        "\n",
        "Write a python program that prints a square of size N using + where N will be given as input.\n",
        "\n",
        "=======================================\n",
        "\n",
        "**Sample Input**\n",
        "5\n",
        "\n",
        "**Sample Output**<br>\n",
        "+++++<br>\n",
        "+++++<br>\n",
        "+++++<br>\n",
        "+++++<br>\n",
        "+++++<br>\n",
        "\n",
        "\n",
        "=======================================\n",
        "\n",
        "**Sample Input**\n",
        "3\n",
        "\n",
        "**Sample Output**<br>\n",
        "+++<br>\n",
        "+++<br>\n",
        "+++<br>"
      ]
    },
    {
      "cell_type": "code",
      "metadata": {
        "id": "nuU0BJmQwsSa",
        "outputId": "be7d118a-b860-494b-eb42-f8e58187fceb"
      },
      "source": [
        "#Todo\n",
        "N=int(input('Enter a number: '))\n",
        "for i in range (N):\n",
        "    for j in range (N):\n",
        "        print('+',end='')\n",
        "    print()"
      ],
      "execution_count": null,
      "outputs": [
        {
          "output_type": "stream",
          "text": [
            "Enter a number: 3\n",
            "+++\n",
            "+++\n",
            "+++\n"
          ],
          "name": "stdout"
        }
      ]
    },
    {
      "cell_type": "markdown",
      "metadata": {
        "id": "9tK1-MjFwqM-"
      },
      "source": [
        "### Task 19\n",
        "\n",
        "Write a python program that prints a rectangle of size M (height/line numbers) and N(length/column numbers) using incrementing numbers where M,N will be given as input.\n",
        "\n",
        "===================================\n",
        "\n",
        "**Sample Input**\n",
        "4,6\n",
        "\n",
        "**Sample Output**<br>\n",
        "123456<br>\n",
        "123456<br>\n",
        "123456<br>\n",
        "123456<br>\n",
        "\n",
        "\n",
        "===================================\n",
        "\n",
        "\n",
        "**Sample Input**\n",
        "3,2\n",
        "\n",
        "**Sample Output**<br>\n",
        "12<br>\n",
        "12<br>\n",
        "12<br>\n"
      ]
    },
    {
      "cell_type": "code",
      "metadata": {
        "id": "KcyhD8gNxYdi",
        "colab": {
          "base_uri": "https://localhost:8080/"
        },
        "outputId": "87af714d-3f08-47c8-f40e-e8519337555c"
      },
      "source": [
        "#Todo\n",
        "row=int(input('Enter height : '))\n",
        "col=int(input('Enter length: '))\n",
        "for i in range(1, row+1):\n",
        "    for j in range(1, col+1):\n",
        "        print(j,end='')\n",
        "    print()"
      ],
      "execution_count": 3,
      "outputs": [
        {
          "output_type": "stream",
          "name": "stdout",
          "text": [
            "Enter height : 4\n",
            "Enter length: 6\n",
            "123456\n",
            "123456\n",
            "123456\n",
            "123456\n"
          ]
        }
      ]
    },
    {
      "cell_type": "markdown",
      "metadata": {
        "id": "ReUpRcLuw0_b"
      },
      "source": [
        "### Task 20\n",
        "\n",
        "Write a python program that prints a right angled triangle of height N using incrementing numbers where N will be given as input.\n",
        "\n",
        "====================================\n",
        "\n",
        "**Sample Input**\n",
        "4\n",
        "\n",
        "**Sample Output**<br>\n",
        "1<br>\n",
        "12<br>\n",
        "123<br>\n",
        "1234<br>\n",
        "\n",
        "====================================\n",
        "\n",
        "**Sample Input**\n",
        "5\n",
        "\n",
        "**Sample Output**<br>\n",
        "1<br>\n",
        "12<br>\n",
        "123<br>\n",
        "1234<br>\n",
        "12345<br>"
      ]
    },
    {
      "cell_type": "code",
      "metadata": {
        "id": "UtqBxocnxai9",
        "outputId": "e9532326-b83b-441d-ce84-c97cc293f617"
      },
      "source": [
        "# Todo\n",
        "column=int(input('Enter a number: '))\n",
        "for i in range(1, column+1):\n",
        "    for j in range(1, i+1):\n",
        "        print(j,end='')\n",
        "    print()\n"
      ],
      "execution_count": null,
      "outputs": [
        {
          "output_type": "stream",
          "text": [
            "Enter a number: 4\n",
            "1\n",
            "12\n",
            "123\n",
            "1234\n"
          ],
          "name": "stdout"
        }
      ]
    },
    {
      "cell_type": "markdown",
      "metadata": {
        "id": "AWbbbs5mSK6O"
      },
      "source": [
        "## Optional Tasks (21 -26) [Ungraded]"
      ]
    },
    {
      "cell_type": "markdown",
      "metadata": {
        "id": "a0SjEWlsw6Vt"
      },
      "source": [
        "### Task 21\n",
        "\n",
        "Write a python program that prints all the fibonacci number from 0 to N where N will be given. \n",
        "\n",
        "**A Fibonacci number is a number which is the summation of its previous two fibonacci number.**\n",
        "\n",
        "First two fibonacci number are 0 and 1. So the 3rd Fib will be 0+1=1, 4th Fib will be 1+1=2, 5th Fib will be 1+2=3 and so on.\n",
        "\n",
        "==============================\n",
        "\n",
        "**Sample Input**<br>\n",
        "10\n",
        "\n",
        "**Sample Output**<br>\n",
        "0 1 1 2 3 5 8\n",
        "\n",
        "==============================\n",
        "\n",
        "\n",
        "**Sample Input**<br>\n",
        "15\n",
        "\n",
        "**Sample Output**<br>\n",
        "0 1 1 2 3 5 8 13"
      ]
    },
    {
      "cell_type": "code",
      "metadata": {
        "id": "vQhQFFBWx-h0",
        "colab": {
          "base_uri": "https://localhost:8080/"
        },
        "outputId": "427baef5-15d1-46a3-cce2-873dc3523221"
      },
      "source": [
        "#Todo\n",
        "p=int(input('Enter a number: '))\n",
        "first_fib=0\n",
        "second_fib=1\n",
        "sum_fib=(first_fib+second_fib)\n",
        "if p>=0:\n",
        "  print(0)\n",
        "if p>=1:\n",
        "  print(1)\n",
        "\n",
        "while(sum_fib<=p):\n",
        "    print(sum_fib)\n",
        "    first_fib=second_fib\n",
        "    second_fib=sum_fib\n",
        "    sum_fib=first_fib+second_fib"
      ],
      "execution_count": 5,
      "outputs": [
        {
          "output_type": "stream",
          "name": "stdout",
          "text": [
            "Enter a number: 10\n",
            "0\n",
            "1\n",
            "1\n",
            "2\n",
            "3\n",
            "5\n",
            "8\n"
          ]
        }
      ]
    },
    {
      "cell_type": "markdown",
      "metadata": {
        "id": "bByH1fWsw7av"
      },
      "source": [
        "### Task 22\n",
        "\n",
        "Write a python program that converts a Decimal Integer number to a Boolean Number. \n",
        "\n",
        "**A decimal can be converted to a binary number by keeping track of the remainders after each division of that number by 2. **\n",
        "\n",
        "================================\n",
        "\n",
        "For example, to convert 10 to a binary number, we can follow the following approach\n",
        "\n",
        "10/2 = 5 (Remainder 0) \n",
        "<br>5/2 = 2 (Remainder 1) \n",
        "<br>2/2 = 1 (Remainder 0) \n",
        "<br>1/2 = 0 (Remainder 1) \n",
        "\n",
        "Take the remainders from bottom to top, which is, 1010. Binary of 10 is 1010.\n",
        "\n",
        "**Sample Input** <br>\n",
        "10\n",
        "\n",
        "**Sample Output**<br>\n",
        "1010\n",
        "\n",
        "================================\n",
        "\n",
        "For example, to convert 13 to a binary number, we can follow the following approach\n",
        "\n",
        "13/2 = 6 (Remainder 1) \n",
        "<br>6/2 = 3 (Remainder 0) \n",
        "<br>3/2 = 1 (Remainder 1) \n",
        "<br>1/2 = 0 (Remainder 1) \n",
        "\n",
        "Take the remainders from bottom to top, which is, 1101. Binary of 13 is 1101.\n",
        "\n",
        "**Sample Input** <br>\n",
        "13\n",
        "\n",
        "**Sample Output**<br>\n",
        "1101"
      ]
    },
    {
      "cell_type": "code",
      "metadata": {
        "id": "AEXGx3skyBha",
        "colab": {
          "base_uri": "https://localhost:8080/"
        },
        "outputId": "232620c7-d72d-4fe6-880d-9a245c838600"
      },
      "source": [
        "#Todo\n",
        "num= int(input(\"enter number\"))\n",
        "answer=''\n",
        "while num!=0:\n",
        "  x=num%2 #remainder\n",
        "  answer+=str(x)\n",
        "  num=num//2\n",
        "print(answer[::-1])#printing reversed\n",
        "\n",
        "#a='abcd' #another way of reverse printing\n",
        "#c=1\n",
        "#b=-1\n",
        "#while c<=len(a):\n",
        "    #print(a[b],end='')\n",
        "    #b=b-1\n",
        "    #c=c+1"
      ],
      "execution_count": null,
      "outputs": [
        {
          "output_type": "stream",
          "text": [
            "enter number13\n",
            "1101\n"
          ],
          "name": "stdout"
        }
      ]
    },
    {
      "cell_type": "markdown",
      "metadata": {
        "id": "g_aR1Ozgw_rr"
      },
      "source": [
        "### Task 23\n",
        "\n",
        "Write a python program that converts a Binary number to a Decimal Integer Number. \n",
        "\n",
        "**A binary number can be converted to its corresponding decimal number by multiplying each binary digit with a power of 2 where the power denotes the position of the binary digit**\n",
        "\n",
        "========================================\n",
        "\n",
        "For example, to convert 1010, we can do this -\n",
        "\n",
        "\n",
        "$2^{3}$ x 1 + $2^{2}$ x 0 + $2^{1}$ x 1 + $2^{0}$ x 0 = 10\n",
        "\n",
        "\n",
        "**Sample Input** <br>\n",
        "1010\n",
        "\n",
        "**Sample Output** <br>\n",
        "10\n",
        "\n",
        "========================================\n",
        "\n",
        "For example, to convert 1101, we can do this -\n",
        "\n",
        "\n",
        "$2^{3}$ x 1 + $2^{2}$ x 1 + $2^{1}$ x 0 + $2^{0}$ x 1 = 13\n",
        "\n",
        "\n",
        "**Sample Input** <br>\n",
        "1101\n",
        "\n",
        "**Sample Output** <br>\n",
        "13"
      ]
    },
    {
      "cell_type": "code",
      "metadata": {
        "id": "ZZmhMI6VyCky",
        "colab": {
          "base_uri": "https://localhost:8080/"
        },
        "outputId": "e208c567-ea47-4118-fce0-a52efc3acaef"
      },
      "source": [
        "#Todo\n",
        "num=input('Enter number: ')\n",
        "\n",
        "sum=0\n",
        "position=len(num)-1\n",
        "for i in num:\n",
        "    sum+= (2**position)* int(i)\n",
        "    position-=1\n",
        "    \n",
        "print(sum)    \n",
        "    "
      ],
      "execution_count": 7,
      "outputs": [
        {
          "output_type": "stream",
          "name": "stdout",
          "text": [
            "Enter number: 1101\n",
            "13\n"
          ]
        }
      ]
    },
    {
      "cell_type": "markdown",
      "metadata": {
        "id": "GymIX5_vSK6Q"
      },
      "source": [
        "### Task 24\n",
        "\n",
        "Take five numbers from the user and find the minimum and the average of **only the even** numbers entered by the user. [If the user enters odd numbers ignore them] \n",
        "\n",
        "**<font color='red'>[CANNOT USE MAX,MIN BUILT-IN FUNCTIONS] [FOR THIS TASK YOU DO NOT NEED TO USE LISTS]</font>** \n",
        "\n",
        "Assume, the first input is always an even number.\n",
        "\n",
        "============================================================\n",
        "\n",
        "**Example01:** If the user enters 10, 4, -1, -100, and 1. \\\n",
        "Output: “Minimum -100”, “Average is 28.66667”\n",
        "\n",
        "**Input:**\\\n",
        "10\n",
        "\n",
        "4\n",
        "\n",
        "-1\n",
        "\n",
        "-100\n",
        "\n",
        "1\n",
        "\n",
        "**Output:**\\\n",
        "Minimum -100\\\n",
        "Average is 28.66667\n",
        "\n",
        "**Explanation:**\\\n",
        "Average calculation: (10+4 + (-100))/3 = -86/3=-28.66667\n",
        "\n",
        "============================================================\n",
        "\n",
        "**Example02:** If the user enters 2, 10, 1, 21, and 3. \\\n",
        "Output: Minimum 2”, “Average is 6.0”\n",
        "\n",
        "**Input:**\\\n",
        "2\n",
        "\n",
        "10\n",
        "\n",
        "1\n",
        "\n",
        "21\n",
        "\n",
        "3\n",
        "\n",
        "**Output:**\\\n",
        "Minimum 2\\\n",
        "Average is 6.0\n",
        "\n",
        "**Explanation:**\\\n",
        "Average calculation: (2+10)/2 = 12/2= 6\n",
        "\n",
        "\n",
        "\n"
      ]
    },
    {
      "cell_type": "code",
      "metadata": {
        "id": "CnrBzeq1SK6R",
        "colab": {
          "base_uri": "https://localhost:8080/"
        },
        "outputId": "81198fd7-ccd7-4fe5-ed5c-ad43e1d046ec"
      },
      "source": [
        "#Todo\n",
        "num1=int(input('enter number: '))\n",
        "min=num1\n",
        "sum=num1\n",
        "counter=1\n",
        "\n",
        "for i in range(4):\n",
        "    num=int( input(\"enter number: \") )\n",
        "    if num%2==0:\n",
        "        sum+=num\n",
        "        counter+=1\n",
        "        if num<min:\n",
        "            min=num\n",
        "        \n",
        "print('minimum: ',min)\n",
        "print('Average: ',round(sum/counter,5))        "
      ],
      "execution_count": 8,
      "outputs": [
        {
          "output_type": "stream",
          "name": "stdout",
          "text": [
            "enter number: 2\n",
            "enter number: 10\n",
            "enter number: 1\n",
            "enter number: 21\n",
            "enter number: 3\n",
            "minimum:  2\n",
            "Average:  6.0\n"
          ]
        }
      ]
    },
    {
      "cell_type": "markdown",
      "metadata": {
        "id": "F2iSIEcHSK6U"
      },
      "source": [
        "### Task 25\n",
        "\n",
        "Write a Python code for the following:\n",
        "* Ask the user to enter a number, N (Total number of inputs to be taken). Assume that the user will never enter the first number as zero.\n",
        "* Take N number of inputs\n",
        "* Prints out the product of all the numbers read\n",
        "\n",
        "For example, if the first input is 4, then the program has to read in four numbers from the user and print the product of these four numbers. \n",
        "\n",
        "=========================================================================\n",
        "\n",
        "**Example01:**\n",
        "\n",
        "**Input:**\\\n",
        "5 \n",
        "\n",
        "10 \n",
        "\n",
        "6 \n",
        "\n",
        "4 \n",
        "\n",
        "2 \n",
        "\n",
        "1 \n",
        "\n",
        "**Output:**\\\n",
        "480\n",
        "\n",
        "**Explanation:**\\\n",
        "5 is the total number of inputs taken. Then, the calculation should be 10 X 6 X 4 X 2 X 1 = 480 \n",
        "\n",
        "\n",
        "\n",
        "\n",
        "\n"
      ]
    },
    {
      "cell_type": "code",
      "metadata": {
        "id": "NFDi7tjZSK6U",
        "colab": {
          "base_uri": "https://localhost:8080/"
        },
        "outputId": "c16be250-3da5-481f-8e92-d6c6b18de09a"
      },
      "source": [
        "#Todo\n",
        "a= int( input('enter quantity: ') )\n",
        "\n",
        "prod=1\n",
        "for i in range(a):\n",
        "    b=int(input(\"enter num: \"))\n",
        "    prod=prod*b\n",
        "\n",
        "print(prod)    \n"
      ],
      "execution_count": null,
      "outputs": [
        {
          "output_type": "stream",
          "text": [
            "enter quantity: 5\n",
            "enter num: 10\n",
            "enter num: 6\n",
            "enter num: 4\n",
            "enter num: 2\n",
            "enter num: 1\n",
            "480\n"
          ],
          "name": "stdout"
        }
      ]
    },
    {
      "cell_type": "markdown",
      "metadata": {
        "id": "1Ef3zxQsSK6Y"
      },
      "source": [
        "### Task 26\n",
        "Ask the user for a range (a starting number and an ending number). \n",
        "**Count** how many numbers are prime numbers and how many numbers are perfect numbers between that range and **print** those numbers. \n",
        "\n",
        "\n",
        "=========================================================================\n",
        "\n",
        "**Hint (1):** Declare two strings/lists to store the prime and perfect numbers. Inside the iteration store the values of the prime and perfect numbers in the pre- declared variables.\n",
        "\n",
        "**Hint (2):**\n",
        "Need to use string concat.\n",
        "\n",
        "ans = \"Prime numbers:\"\\\n",
        "prime_value = 11\n",
        "\n",
        "ans = ans + str(11)\n",
        "\n",
        "print(ans)\n",
        "\n",
        "ans = ans + str(13) \n",
        "\n",
        "print(ans)\n",
        "\n",
        "\n",
        "=========================================================================\n",
        "\n",
        "**Example:**between 2 and 6, there are 3 prime numbers (2, 3, 5) and 1 perfect number (6). \n",
        "\n",
        "**Input:**\\\n",
        "2\n",
        "\n",
        "6\n",
        "\n",
        "**Output:**\\\n",
        "Between 2 and 6,\\\n",
        "Found 3 prime numbers \\\n",
        "Found 1 perfect number.\\\n",
        "Prime numbers: 2, 3, 5.\\\n",
        "Perfect numbers: 6.\n",
        "\n"
      ]
    },
    {
      "cell_type": "code",
      "metadata": {
        "id": "_YU9xdPBSK6Y",
        "colab": {
          "base_uri": "https://localhost:8080/"
        },
        "outputId": "920a4896-a90e-4731-cd8c-bf26594bfb97"
      },
      "source": [
        "#Todo\n",
        "input_1=int(input(\"enter a number: \"))\n",
        "input_2=int(input(\"enter another number for range: \"))\n",
        "\n",
        "\n",
        "prime=''\n",
        "counter=0#total prime no.s\n",
        "\n",
        "for number in range(input_1,input_2+1):\n",
        "  divisors=0\n",
        "\n",
        "  if number>1:\n",
        "       divisors=0\n",
        "       for value in range(1,number+1):\n",
        "         if number%value==0:\n",
        "           divisors+=1          \n",
        "       if divisors==2:\n",
        "         counter=counter+1\n",
        "         prime+=str(value)+' ' \n",
        "\n",
        "print('no of prime no.s', counter)\n",
        "print('prime no.s: ', prime)\n",
        "perf=''\n",
        "total=0#total perf\n",
        "for value in range(input_1,input_2+1):\n",
        "  number=0\n",
        "  total=0\n",
        "  for counter in range(1,value):\n",
        "    if value%counter==0:\n",
        "      number=number+counter\n",
        "  if number==value:\n",
        "    total=total+1\n",
        "    #print(value,end=\" \")\n",
        "    perf=perf+str(value)+' '\n",
        "    #print(total)\n",
        "    \n",
        "print('no of perf no.s', total)\n",
        "print('perf no.s: ', perf)    "
      ],
      "execution_count": null,
      "outputs": [
        {
          "output_type": "stream",
          "text": [
            "enter a number: 2\n",
            "enter another number for range: 6\n",
            "no of prime no.s 3\n",
            "prime no.s:  2 3 5 \n",
            "no of perf no.s 1\n",
            "perf no.s:  6 \n"
          ],
          "name": "stdout"
        }
      ]
    }
  ]
}