{
  "nbformat": 4,
  "nbformat_minor": 0,
  "metadata": {
    "colab": {
      "name": "CSE110_Assignment07_(Sorting).ipynb",
      "provenance": [],
      "collapsed_sections": []
    },
    "kernelspec": {
      "display_name": "Python 3",
      "language": "python",
      "name": "python3"
    },
    "language_info": {
      "codemirror_mode": {
        "name": "ipython",
        "version": 3
      },
      "file_extension": ".py",
      "mimetype": "text/x-python",
      "name": "python",
      "nbconvert_exporter": "python",
      "pygments_lexer": "ipython3",
      "version": "3.8.3"
    }
  },
  "cells": [
    {
      "cell_type": "markdown",
      "metadata": {
        "id": "oMYzsTcnHEll"
      },
      "source": [
        "# CSE110 Assignment 7\n",
        "\n",
        "\n",
        "## Write the Python code of the following problems:\n",
        "**<font color='red'>[MUST MAINTAIN VARIABLE NAMING CONVENTIONS FOR ALL THE TASKS]</font>**"
      ]
    },
    {
      "cell_type": "markdown",
      "metadata": {
        "id": "jT-t2zlnHEll"
      },
      "source": [
        "### Task 1\n",
        "\n",
        "Given a list named my_list. <br/>\n",
        "my_list=[10,1,20,3,6,2,5,11,15,2,12,14,17,18,29] <br/>\n",
        "Now use bubble sort to sort my_list into ascending order.\n",
        "\n",
        "**Output**<br/>\n",
        "[1, 2, 2, 3, 5, 6, 10, 11, 12, 14, 15, 17, 18, 20, 29]"
      ]
    },
    {
      "cell_type": "code",
      "metadata": {
        "colab": {
          "base_uri": "https://localhost:8080/"
        },
        "id": "7qXVakLgHElm",
        "outputId": "4d8ff8b7-dd38-470d-f67a-87d74dd07b2e"
      },
      "source": [
        "#Bubble sort \n",
        "my_list = [10,1,20,3,6,2,5,11,15,2,12,14,17,18,29]\n",
        "for i in range(len(my_list)-1):#n-1\n",
        "    for j in range(0,len(my_list)-i-1):#n-i-2\n",
        "     if my_list[j]>my_list[j+1]: #ascending order\n",
        "        temp = my_list[j]\n",
        "        my_list[j] = my_list[j+1]\n",
        "        my_list[j+1] = temp\n",
        "      \n",
        "print(my_list)"
      ],
      "execution_count": null,
      "outputs": [
        {
          "output_type": "stream",
          "text": [
            "[1, 2, 2, 3, 5, 6, 10, 11, 12, 14, 15, 17, 18, 20, 29]\n"
          ],
          "name": "stdout"
        }
      ]
    },
    {
      "cell_type": "markdown",
      "metadata": {
        "id": "w1QgeWd2HElp"
      },
      "source": [
        "### Task 2\n",
        "\n",
        "Given a list named my_list. <br/>\n",
        "my_list=[10,1,20,3,6,2,5,11,15,2,12,14,17,18,29] <br/>\n",
        "Now use selection sort to sort my_list into ascending order.\n",
        "\n",
        "**Output**<br/>\n",
        "[1, 2, 2, 3, 5, 6, 10, 11, 12, 14, 15, 17, 18, 20, 29]\n",
        "\n"
      ]
    },
    {
      "cell_type": "code",
      "metadata": {
        "colab": {
          "base_uri": "https://localhost:8080/"
        },
        "id": "am0B_8ICHElq",
        "outputId": "236daea6-a546-48a7-bc86-142fe7bfbdde"
      },
      "source": [
        "#Selection sort \n",
        "my_list=[10,1,20,3,6,2,5,11,15,2,12,14,17,18,29]\n",
        "for i in range(len(my_list)):\n",
        "  min_index=i\n",
        "\n",
        "  for j in range(i+1,len(my_list)):\n",
        "    if my_list[j]<my_list[min_index]:\n",
        "      min_index=j\n",
        "  temp=my_list[min_index]#swapping\n",
        "  my_list[min_index]=my_list[i]\n",
        "  my_list[i]=temp\n",
        "\n",
        "print(my_list)"
      ],
      "execution_count": null,
      "outputs": [
        {
          "output_type": "stream",
          "text": [
            "[1, 2, 2, 3, 5, 6, 10, 11, 12, 14, 15, 17, 18, 20, 29]\n"
          ],
          "name": "stdout"
        }
      ]
    },
    {
      "cell_type": "markdown",
      "metadata": {
        "id": "j4ffr2CAHElt"
      },
      "source": [
        "### Task  3\n",
        "\n",
        "Given a list named my_list. <br/>\n",
        "my_list=[10,1,20,3,6,2,5,11,15,2,12,14,17,18,29] <br/>\n",
        "Now use any of the two sorts used above to sort the list in descending order.\n",
        "\n",
        "**Output**<br/>\n",
        "[29, 20, 18, 17, 15, 14, 12, 11, 10, 6, 5, 3, 2, 2, 1]\n"
      ]
    },
    {
      "cell_type": "code",
      "metadata": {
        "id": "n2X3YR-_HElt",
        "colab": {
          "base_uri": "https://localhost:8080/"
        },
        "outputId": "c26bf9a1-ac0a-4ccf-8a50-8f352da74f56"
      },
      "source": [
        "#Bubble sort \n",
        "my_list = [10,1,20,3,6,2,5,11,15,2,12,14,17,18,29]\n",
        "for i in range(len(my_list)-1):#n-1\n",
        "    for j in range(0,len(my_list)-i-1):#n-i-2\n",
        "     if my_list[j]<my_list[j+1]: #descending order\n",
        "        temp = my_list[j]\n",
        "        my_list[j] = my_list[j+1]\n",
        "        my_list[j+1] = temp\n",
        "      \n",
        "print(my_list)"
      ],
      "execution_count": null,
      "outputs": [
        {
          "output_type": "stream",
          "text": [
            "[29, 20, 18, 17, 15, 14, 12, 11, 10, 6, 5, 3, 2, 2, 1]\n"
          ],
          "name": "stdout"
        }
      ]
    },
    {
      "cell_type": "markdown",
      "metadata": {
        "id": "9iYiiTWWHElw"
      },
      "source": [
        "### Task 4\n",
        "\n",
        "Suppose you have a sitting arrangement of the students of the final exam in a list. The list contains the last two digits of their roll number.<br/>\n",
        "\n",
        "sitting_list=[10,30,20,70,11,15,22,16,58,100,12,56,70,80] <br/>\n",
        "\n",
        "Now you want to organize the sitting arrangement. You decided to sort all the students in the even indices into ascending order and all the students in the odd indices  into descending order.  <br/>\n",
        "\n",
        "So write a python program that organizes the list for you the way you decided.<br/>\n",
        "\n",
        "\n",
        "**Sample Output**<br/>\n",
        "[10, 100, 11, 80, 12, 70, 20, 56, 22, 30, 58, 16, 70, 15]"
      ]
    },
    {
      "cell_type": "code",
      "metadata": {
        "colab": {
          "base_uri": "https://localhost:8080/"
        },
        "id": "0kPQu_7Ryrro",
        "outputId": "ede61edd-77b0-4df9-9ea8-605653367df0"
      },
      "source": [
        "#Selection sort \n",
        "sitting_list=[10,30,20,70,11,15,22,16,58,100,12,56,70,80]\n",
        "for i in range(0,len(sitting_list),2):  #even indices er jonno loop tai start hobe 0th index theke and increment 2\n",
        "  min_index=i\n",
        "\n",
        "  for j in range(i+2,len(sitting_list),2):\n",
        "    if sitting_list[j]<sitting_list[min_index]:#ascending\n",
        "      min_index=j\n",
        "  temp=sitting_list[min_index]#swapping\n",
        "  sitting_list[min_index]=sitting_list[i]\n",
        "  sitting_list[i]=temp                         #ei porjonto even index er gula ascending order e shajiyechi\n",
        "\n",
        "\n",
        "for i in range(1,len(sitting_list),2):  #SAME THING AGAIN FOR ODD\n",
        "  max_index=i\n",
        "\n",
        "  for j in range(i+2,len(sitting_list),2):\n",
        "    if sitting_list[j]>sitting_list[max_index]:#descending\n",
        "      max_index=j\n",
        "  temp=sitting_list[max_index]#swapping\n",
        "  sitting_list[max_index]=sitting_list[i]\n",
        "  sitting_list[i]=temp        \n",
        "\n",
        "print(sitting_list)"
      ],
      "execution_count": null,
      "outputs": [
        {
          "output_type": "stream",
          "text": [
            "[10, 100, 11, 80, 12, 70, 20, 56, 22, 30, 58, 16, 70, 15]\n"
          ],
          "name": "stdout"
        }
      ]
    },
    {
      "cell_type": "code",
      "metadata": {
        "id": "nPdUAKDJHElw",
        "colab": {
          "base_uri": "https://localhost:8080/"
        },
        "outputId": "931253b0-8d10-4e9b-ca08-9f247397ae40"
      },
      "source": [
        "#Bubble sort \n",
        "my_list = [10,30,20,70,11,15,22,16,58,100,12,56,70,80]\n",
        "for i in range(0,len(my_list)-1,2):#n-1\n",
        "    for j in range(0,len(my_list)-i-1,2):#n-i-2\n",
        "     if j+2<=len(my_list)-1 and my_list[j]>my_list[j+2]: #ascending order\n",
        "        temp = my_list[j]\n",
        "        my_list[j] = my_list[j+2]\n",
        "        my_list[j+2] = temp\n",
        "\n",
        "for i in range(1,len(my_list)-1,2):#n-1\n",
        "    for j in range(1,len(my_list)-i-1,2):#n-i-2\n",
        "     if my_list[j]<my_list[j+2]: #descending order\n",
        "        temp = my_list[j]\n",
        "        my_list[j] = my_list[j+2]\n",
        "        my_list[j+2] = temp\n",
        "      \n",
        "print(my_list)"
      ],
      "execution_count": null,
      "outputs": [
        {
          "output_type": "stream",
          "name": "stdout",
          "text": [
            "[10, 100, 11, 80, 12, 70, 20, 56, 22, 30, 58, 16, 70, 15]\n"
          ]
        }
      ]
    },
    {
      "cell_type": "markdown",
      "metadata": {
        "id": "291RIfMYdAAD"
      },
      "source": [
        "### Task 5\n",
        "\n",
        "Suppose a list contains marks earned in the courses CSE110, PHY111, and MAT110 of each student consecutively in a nested list form. Your task is to take a course name as input from the user and sort the list based on the marks obtained in that course in order to finally print the names of the students in descending order of marks obtained i.e. from the student who earned the highest marks to the student who earned the lowest. <br/>\n",
        "\n",
        "For example, the list may look like <br/>\n",
        "lst = [ [\"Alan\", 95, 87, 91], [\"Turing\", 92, 90, 83], [\"Elon\", 87, 92, 80], [\"Musk\", 85, 94, 90] ] <br/>\n",
        "where for each nested list, 1st index holds the name of the student, 2nd index is total marks earned in the CSE110 course, 3rd index is PHY111 marks and 4th index is MAT110 marks. \n",
        "\n",
        "=====================================================\n",
        "\n",
        "**Hint:**<br/>\n",
        "You may create a function for sorting, then call it every time when needed instead of rewriting the code.\n",
        "\n",
        "You may get the data in the individual lists from the given nested list.\n",
        "\n",
        "=====================================================\n",
        "\n",
        "**Sample Input 1**<br/>\n",
        "MAT110\n",
        "\n",
        "**Sample Output 1**<br/>\n",
        "Alan <br/>\n",
        "Musk <br/>\n",
        "Turing <br/>\n",
        "Elon\n",
        "\n",
        "**Explanation:**<br/>\n",
        "Here the user gives us \"MAT110\" as the course name. Now, the students Alan, Turing, Elon and Musk earned 91, 83, 80 and 90 marks respectively in this course. If we sort it, Alan got the highest marks of 91 followed by Musk with 90 marks and Turing with 83 marks. Among these 4 students, Elon obtained the lowest marks in the MAT110 course with 80 marks. All of these has been illustrated in our sample output.\n",
        "\n",
        "=====================================================\n",
        "\n",
        "**Sample Input 2**<br/>\n",
        "PHY111\n",
        "\n",
        "**Sample Output 2**<br/>\n",
        "Musk <br/>\n",
        "Elon <br/>\n",
        "Turing <br/>\n",
        "Alan"
      ]
    },
    {
      "cell_type": "code",
      "metadata": {
        "colab": {
          "base_uri": "https://localhost:8080/"
        },
        "id": "LsTnY1ng9e_1",
        "outputId": "b0cf8249-3542-4cd6-d44b-22eed0561814"
      },
      "source": [
        "#Modified Selection sort \n",
        "lst = [ [\"Alan\", 95, 87, 91], [\"Turing\", 92, 90, 83], [\"Elon\", 87, 92, 80], [\"Musk\", 85, 94, 90] ]\n",
        "course_name=input('Enter course name: ')\n",
        "\n",
        "course_idx= None\n",
        "if(course_name=='CSE110'): course_idx = 1\n",
        "elif(course_name=='PHY111'): course_idx = 2\n",
        "elif(course_name=='MAT110'): course_idx = 3\n",
        "\n",
        "for i in range(len(lst)): #SELECTION SORT\n",
        "  max_index=i\n",
        "\n",
        "  for j in range(i+1,len(lst)):\n",
        "    if lst[j][course_idx]>lst[max_index][course_idx]:\n",
        "      max_index=j\n",
        "\n",
        "  temp=lst[max_index]#swapping the lists inside acc to desc order of course chosen\n",
        "  lst[max_index]=lst[i]\n",
        "  lst[i]=temp\n",
        "\n",
        "#print(lst)#the lists themselves got swapped acc to course number chosen\n",
        "for i in range(len(lst)):\n",
        "  print(lst[i][0])"
      ],
      "execution_count": null,
      "outputs": [
        {
          "output_type": "stream",
          "text": [
            "Enter course name: PHY111\n",
            "Musk\n",
            "Elon\n",
            "Turing\n",
            "Alan\n"
          ],
          "name": "stdout"
        }
      ]
    },
    {
      "cell_type": "code",
      "metadata": {
        "colab": {
          "base_uri": "https://localhost:8080/"
        },
        "id": "gPCFf_hIc_kf",
        "outputId": "44186a15-b790-4764-e0a6-a21a33c99580"
      },
      "source": [
        "#another way\n",
        "#creating function using Selection sort \n",
        "def selection_sort(list1):\n",
        "  my_list=list1  \n",
        "  for i in range(len(my_list)):\n",
        "    min_index=i\n",
        "\n",
        "    for j in range(i+1,len(my_list)):\n",
        "      if my_list[j]>my_list[min_index]:\n",
        "        min_index=j\n",
        "    temp=my_list[min_index]#swapping\n",
        "    my_list[min_index]=my_list[i]\n",
        "    my_list[i]=temp\n",
        "\n",
        "  return my_list\n",
        "\n",
        "lst = [ [\"Alan\", 95, 87, 91], [\"Turing\", 92, 90, 83], [\"Elon\", 87, 92, 80], [\"Musk\", 85, 92, 90] ]\n",
        "string=input(\"Enter course: \")\n",
        "\n",
        "course_idx= None\n",
        "if(string=='CSE110'): course_idx = 1\n",
        "elif(string=='PHY111'): course_idx = 2\n",
        "elif(string=='MAT110'): course_idx = 3\n",
        "\n",
        "list2=[]  \n",
        "for i in lst:\n",
        "  list2.append(i[course_idx])\n",
        "\n",
        "sorted=selection_sort(list2)\n",
        "#print(sorted)\n",
        "result_list=[]\n",
        "for i in sorted:#comparing with dic in order of sorted list and printing the value\n",
        "  for j in lst:\n",
        "    if j[course_idx]==i:\n",
        "      if j[0] not in result_list:#in case multiple people hv same score ina sub\n",
        "        result_list.append(j[0])\n",
        "        break\n",
        "for i in result_list:\n",
        "  print(i)        \n"
      ],
      "execution_count": null,
      "outputs": [
        {
          "output_type": "stream",
          "name": "stdout",
          "text": [
            "Enter course: PHY111\n",
            "Elon\n",
            "Musk\n",
            "Turing\n",
            "Alan\n"
          ]
        }
      ]
    },
    {
      "cell_type": "markdown",
      "metadata": {
        "id": "B0Rqbyi4HEl2"
      },
      "source": [
        "### Task 6\n",
        "\n",
        "Suppose you have a list named my_list. Your task is to sort the list and print the count of numbers that have changed their position. <br/>\n",
        "my_list = [4,2,3,1,6,5] <br/>\n",
        "Sorted list would be [1,2,3,4,5,6] where 4 numbers have changed their position.\n",
        "\n",
        "\n",
        "**Sample Output**<br/>\n",
        "4"
      ]
    },
    {
      "cell_type": "code",
      "metadata": {
        "id": "AMc8jAa7HEl2",
        "colab": {
          "base_uri": "https://localhost:8080/"
        },
        "outputId": "bf371b76-17be-4d27-d4c9-08113281653f"
      },
      "source": [
        "#todo\n",
        "my_list = [4,2,3,1,6,5]\n",
        "new_list=[]\n",
        "count=0\n",
        "for k in range(0,len(my_list)):#copying input list\n",
        "    new_list.append(my_list[k])\n",
        "\n",
        "for i in range(len(my_list)):#Selection sort \n",
        "  min_index=i\n",
        "\n",
        "  for j in range(i+1,len(my_list)):\n",
        "    if my_list[j]<my_list[min_index]:\n",
        "      min_index=j\n",
        "  temp=my_list[min_index]#swapping\n",
        "  my_list[min_index]=my_list[i]\n",
        "  my_list[i]=temp                      #my_list ta sorted aar new_list ta te user theke newa list ta te copy kore rakha\n",
        "\n",
        "                                          \n",
        "for x in range(len(my_list)):\n",
        "    if my_list[x] != new_list[x]:\n",
        "        count+=1            #ekhon oi dui ta list er jei element gula match korbe na oi gulai position change koreche \n",
        "                                #jaar jonno count+=1 hocche\n",
        "\n",
        "print(count)"
      ],
      "execution_count": null,
      "outputs": [
        {
          "output_type": "stream",
          "text": [
            "4\n"
          ],
          "name": "stdout"
        }
      ]
    },
    {
      "cell_type": "markdown",
      "metadata": {
        "id": "iIH5n0sJHEl5"
      },
      "source": [
        "### Task 7\n",
        "\n",
        "Write a python program that takes two lists from the user, merges the two lists, sorts the list, and find the median of the elements of the two lists.\n",
        "\n",
        "=====================================================\n",
        "\n",
        "\n",
        "**Sample Input 1**<br/>\n",
        "list_one = [1,2,1,4] <br/>\n",
        "list_two = [5,4,1]\n",
        "\n",
        "\n",
        "**Sample Output 1**<br/>\n",
        "Sorted list = [1, 1, 1, 2, 4, 4, 5] <br/>\n",
        "Median = 2\n",
        "\n",
        "=====================================================\n",
        "\n",
        "\n",
        "**Sample Input 2**<br/>\n",
        "list_one= [1,7,9,10] <br/>\n",
        "list_two= [2,7,6,5]\n",
        "\n",
        "\n",
        "**Sample Output 2**<br/>\n",
        "Sorted list=[1, 2, 5, 6, 7, 7, 9, 10] <br/>\n",
        "Median=6.5\n",
        "\n"
      ]
    },
    {
      "cell_type": "code",
      "metadata": {
        "id": "KsFxC7XbHEl6",
        "colab": {
          "base_uri": "https://localhost:8080/"
        },
        "outputId": "2eef0743-2b32-4ad1-b9d1-938483c6eb64"
      },
      "source": [
        "#todo\n",
        "list_one=[]\n",
        "temp = input().split(',')\n",
        "for i in temp:\n",
        "    list_one.append(int(i))#creating integer list\n",
        "\n",
        "list_two=[]\n",
        "temp = input().split(',')\n",
        "for i in temp:\n",
        "    list_two.append(int(i))\n",
        "    \n",
        "list_merged=list_one + list_two  #merging\n",
        "\n",
        "for i in range(len(list_merged)-1):\n",
        "    min_index  = i\n",
        "    for j in range(i+1,len(list_merged)):\n",
        "        if list_merged[j] < list_merged[min_index]:\n",
        "            min_index = j\n",
        "    temp = list_merged[i]\n",
        "    list_merged[i] = list_merged[min_index]\n",
        "    list_merged[min_index] = temp\n",
        "    \n",
        "print('Sorted list=',list_merged)\n",
        "\n",
        "\n",
        "if len(list_merged)%2 != 0: #odd        #list tar total element jodi odd hoy list tar majhkhaner element tai median hobe\n",
        "    m= len(list_merged)//2              #ei line tay majhkhaner element er index number ber korechi\n",
        "    median=list_merged[int(m)]          #majhkhaner element ta ke median variable e store korechi\n",
        "    \n",
        "else:#if even number of elements\n",
        "    m=int( len(list_merged)//2 )                           #list tar total element even \n",
        "    median=(list_merged[m] + list_merged[m-1])/2    #tai median hobe majkhaner element aar taar ager element er average\n",
        "print(median)\n"
      ],
      "execution_count": null,
      "outputs": [
        {
          "output_type": "stream",
          "text": [
            "1,7,9,10\n",
            "2,7,6,5\n",
            "Sorted list= [1, 2, 5, 6, 7, 7, 9, 10]\n",
            "6.5\n"
          ],
          "name": "stdout"
        }
      ]
    },
    {
      "cell_type": "markdown",
      "metadata": {
        "id": "-XKiwBR1HEl8"
      },
      "source": [
        "### Task 8\n",
        "\n",
        "\n",
        "Write a python program that takes a list from user containing both positive and negative numbers. The program then finds two pairs of values whose summation is closest to zero.\n",
        "\n",
        "=====================================================\n",
        "\n",
        "**Sample Input 1**<br/>\n",
        "list_one = [-10,15,2,4,-4,7,-8] \n",
        "\n",
        "\n",
        "**Sample Output 1**<br/>\n",
        "Two pairs which have the smallest sum = 4 and -4\n",
        "\n",
        "=====================================================\n",
        "\n",
        "\n",
        "**Sample Input 2**<br/>\n",
        "list_one = [1,-8,4,-7,-20,26,70,-85]\n",
        "\n",
        "\n",
        "**Sample Output 2**<br/>\n",
        "Two pairs which have the smallest sum = 4 and -7"
      ]
    },
    {
      "cell_type": "code",
      "source": [
        "#todo\n",
        "d={}\n",
        "n = [1,-8,4,-7,-20,26,70,-85]\n",
        "for i in range(len(n)):\n",
        "    for j in range(i+1,len(n)):\n",
        "          d[abs(n[i]+n[j])]=[n[i],n[j]]\n",
        "print(d) #d contains all possible combinations, with sum as key and pair of values as value\n",
        "list_of_keys=list(d.keys())    #turning keys of dictionary to a list\n",
        "minsum=list_of_keys[0]    #taking minm initially as first element\n",
        "   \n",
        "for k in list_of_keys:\n",
        "  if k<minsum:\n",
        "    minsum=k\n",
        "\n",
        "print(f\"Two pairs which have the smallest sum = {d[minsum][0]} and {d[minsum][1]}\")\n",
        "\n",
        "#f=formated string, {}er bhetor er bhetore ja thakbe oi tar value ta dekhabe\n",
        "    "
      ],
      "metadata": {
        "colab": {
          "base_uri": "https://localhost:8080/"
        },
        "id": "EYQCKN8klJBd",
        "outputId": "987910be-99b9-4a42-80b2-fd6c88353c4e"
      },
      "execution_count": 1,
      "outputs": [
        {
          "output_type": "stream",
          "name": "stdout",
          "text": [
            "{7: [1, -8], 5: [1, 4], 6: [-20, 26], 19: [-7, 26], 27: [-7, -20], 71: [1, 70], 84: [1, -85], 4: [-8, 4], 15: [70, -85], 28: [-8, -20], 18: [-8, 26], 62: [-8, 70], 93: [-8, -85], 3: [4, -7], 16: [4, -20], 30: [4, 26], 74: [4, 70], 81: [4, -85], 63: [-7, 70], 92: [-7, -85], 50: [-20, 70], 105: [-20, -85], 96: [26, 70], 59: [26, -85]}\n",
            "Two pairs which have the smallest sum = 4 and -7\n"
          ]
        }
      ]
    },
    {
      "cell_type": "code",
      "source": [
        "#another way\n",
        "#lis = [-10, 15, 2, 4, -4, 7, -8]\n",
        "lis = [1, -8, 4, -7, -20, 26, 70, -85]\n",
        "min = 99999999999999999999\n",
        "for i in range(len(lis)):\n",
        "  for j in range(i+1, len(lis)):\n",
        "    #if lis[i] == lis[j]:\n",
        "      #continue\n",
        "    sum =abs(lis[i]+lis[j])\n",
        "    #print(sum)\n",
        "    if sum < min:\n",
        "      min = sum\n",
        "      start = lis[i]\n",
        "      end = lis[j]\n",
        "      #print(min, start, end)\n",
        "print(f\"Two pairs which have the smallest sum = {start} and {end}\")"
      ],
      "metadata": {
        "colab": {
          "base_uri": "https://localhost:8080/"
        },
        "id": "eNJ7vV5a0tms",
        "outputId": "eb0123a9-30c6-4aa8-d0be-f3b902724734"
      },
      "execution_count": 2,
      "outputs": [
        {
          "output_type": "stream",
          "name": "stdout",
          "text": [
            "Two pairs which have the smallest sum = 4 and -7\n"
          ]
        }
      ]
    },
    {
      "cell_type": "code",
      "metadata": {
        "colab": {
          "base_uri": "https://localhost:8080/"
        },
        "id": "ZRFIPAiYO8ET",
        "outputId": "70ec69bd-42dd-4fd5-f5ed-5a0674d655b4"
      },
      "source": [
        "#todo, similar to way1\n",
        "d={}\n",
        "n = [1,-8,4,-7,-20,26,70,-85]\n",
        "for i in range(len(n)):\n",
        "    for j in range(i+1,len(n)):\n",
        "          d[n[i]+n[j]]=[n[i],n[j]]\n",
        "print(d) #d contains all possible combinations, with sum as key and pair of values as value\n",
        "list_of_keys=list(d.keys())    #turning keys of dictionary to a list\n",
        "minsum=abs(list_of_keys[0])    #taking minm initially as first element\n",
        "   \n",
        "for k in list_of_keys:\n",
        "  if abs(k)<minsum:\n",
        "    minsum=abs(k)\n",
        "    key=k#the actual key\n",
        "\n",
        "print(f\"Two pairs which have the smallest sum = {d[key][0]} and {d[key][1]}\")\n",
        "\n",
        "#f=formated string, {}er bhetor er bhetore ja thakbe oi tar value ta dekhabe\n",
        "    "
      ],
      "execution_count": null,
      "outputs": [
        {
          "output_type": "stream",
          "name": "stdout",
          "text": [
            "{-7: [-8, 1], 5: [4, 1], -6: [-7, 1], -19: [-20, 1], 27: [26, 1], 71: [70, 1], -84: [-85, 1], -4: [4, -8], -15: [-85, 70], -28: [-20, -8], 18: [26, -8], 62: [70, -8], -93: [-85, -8], -3: [-7, 4], -16: [-20, 4], 30: [26, 4], 74: [70, 4], -81: [-85, 4], -27: [-20, -7], 19: [26, -7], 63: [70, -7], -92: [-85, -7], 6: [26, -20], 50: [70, -20], -105: [-85, -20], 96: [70, 26], -59: [-85, 26]}\n",
            "Two pairs which have the smallest sum = -7 and 4\n"
          ]
        }
      ]
    }
  ]
}