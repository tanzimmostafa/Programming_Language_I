{
  "nbformat": 4,
  "nbformat_minor": 0,
  "metadata": {
    "kernelspec": {
      "display_name": "Python 3",
      "language": "python",
      "name": "python3"
    },
    "language_info": {
      "codemirror_mode": {
        "name": "ipython",
        "version": 3
      },
      "file_extension": ".py",
      "mimetype": "text/x-python",
      "name": "python",
      "nbconvert_exporter": "python",
      "pygments_lexer": "ipython3",
      "version": "3.7.6"
    },
    "colab": {
      "name": "CSE110_Lab_Assignment_3_STRING_Summer21.ipynb",
      "provenance": [],
      "collapsed_sections": []
    }
  },
  "cells": [
    {
      "cell_type": "markdown",
      "metadata": {
        "id": "xDNsncrtU1yM"
      },
      "source": [
        "# CSE110 Lab Assignment 3\n",
        "\n",
        "This Assignment is to help you develop your concept of Strings in Python."
      ]
    },
    {
      "cell_type": "markdown",
      "metadata": {
        "id": "gh4GUDaIU1yO"
      },
      "source": [
        "\n",
        "\n",
        "\n",
        "\n",
        "\n",
        "\n",
        "##Write your name, student ID and CSE110 theory section number below:\n",
        "\n",
        "\n",
        "\n",
        "\n",
        "\n"
      ]
    },
    {
      "cell_type": "code",
      "metadata": {
        "id": "OAYfzLIqgqyE"
      },
      "source": [
        "#STUDENT NAME:\n",
        "#STUDENT ID:\n",
        "#CSE110 THEORY SECTION: "
      ],
      "execution_count": null,
      "outputs": []
    },
    {
      "cell_type": "markdown",
      "metadata": {
        "id": "KD4EKJf6U1yQ"
      },
      "source": [
        "## Write the code in Python to do the following tasks:\n",
        "\n",
        "**<font color='red'>[MUST MAINTAIN VARIABLE NAMING CONVENTIONS FOR ALL THE TASKS]</font>**\n",
        "\n",
        "\n",
        "### Task 1 \n",
        "\n",
        "Write a Python program that will ask the user to input a string (containing exactly one word). Then your program should print subsequent substrings of the given string as shown in the examples below.\n",
        "\n",
        "=====================================================================\n",
        "\n",
        "**Example 1:**\\\n",
        "Input: BANGLA\\\n",
        "Output:\\\n",
        "B\\\n",
        "BA\\\n",
        "BAN\\\n",
        "BANG\\\n",
        "BANGL\\\n",
        "BANGLA\n",
        "\n",
        "=====================================================================\n",
        "\n",
        "**Example 2:**\\\n",
        "Input: DREAM\\\n",
        "Output:\\\n",
        "D\\\n",
        "DR\\\n",
        "DRE\\\n",
        "DREA\\\n",
        "DREAM\n",
        "\n",
        "=====================================================================\n",
        "\n",
        "**Hints(1):** Need to use \"for loop\" for this task.\n",
        "\n",
        "**Hints(2):** Need to use print() function for printing newlines.\n",
        "\n",
        "For example:\\\n",
        "print(1)\\\n",
        "print(2)\n",
        "\n",
        "Output:\\\n",
        "1\\\n",
        "2\n",
        "\n",
        "=====================================================================\n",
        "\n",
        "We need use print(end = \"\") to skip printing the additional newline.\n",
        "\n",
        "For example:\\\n",
        "print(1, end =\" \")\\\n",
        "print(2)\n",
        "\n",
        "Output:(prints the following output right next to the previous one)\\\n",
        "12\n",
        "\n",
        "=====================================================================\n",
        "\n",
        "\n",
        "\n",
        "\n"
      ]
    },
    {
      "cell_type": "code",
      "metadata": {
        "id": "vJhpmj2XU1yR",
        "colab": {
          "base_uri": "https://localhost:8080/"
        },
        "outputId": "7253de51-ae54-4c8b-8df7-110b469d2d10"
      },
      "source": [
        "#to do\n",
        "word=input('Enter a word: ')\n",
        "for i in range(1, len(word)+1):\n",
        "    sub_string=word[0:i]\n",
        "    print (sub_string)\n",
        "    \n"
      ],
      "execution_count": 3,
      "outputs": [
        {
          "output_type": "stream",
          "name": "stdout",
          "text": [
            "Enter a word: DREAM\n",
            "D\n",
            "DR\n",
            "DRE\n",
            "DREA\n",
            "DREAM\n"
          ]
        }
      ]
    },
    {
      "cell_type": "markdown",
      "metadata": {
        "id": "pbdeIVcyU1yi"
      },
      "source": [
        "### Task 2\n",
        "\n",
        "Write a Python program that will ask the user to enter a  word as an input. \n",
        "\n",
        "* If the length of the input string is less than 4, then your program should print the same string as an output. \n",
        "* If the input string’s length is greater than 3, then your program should add \"er\" at the end of the input string. \n",
        "* If the input string already ends with \"er\", then add \"est\" instead. \n",
        "* If the input string already ends with \"est\", then your program should print the same input string as an output.\n",
        "\n",
        "=====================================================================\n",
        "\n",
        "**Example 1:**\\\n",
        "Input: strong\\\n",
        "Output: stronger\n",
        "\n",
        "=====================================================================\n",
        "\n",
        "**Example 2:**\\\n",
        "Input: stronger\\\n",
        "Output: strongest\n",
        "\n",
        "=====================================================================\n",
        "\n",
        "**Example 3:**\\\n",
        "Input: strongest\\\n",
        "Output: strongest\n",
        "\n",
        "=====================================================================\n",
        "\n",
        "**Example 4:**\\\n",
        "Input: abc\\\n",
        "Output: abc\n",
        "\n",
        "====================================================================="
      ]
    },
    {
      "cell_type": "code",
      "metadata": {
        "id": "A5df9pmJU1yj",
        "colab": {
          "base_uri": "https://localhost:8080/"
        },
        "outputId": "1b265040-d36f-46b7-8c91-e6c8756a1746"
      },
      "source": [
        "#to do\n",
        "#todo\n",
        "w=input('Enter a word: ')\n",
        "\n",
        "if (len(w)<4):\n",
        "    print(w)\n",
        "    \n",
        "elif (len(w)>3):    \n",
        "    if (w[len(w)-2:]=='er'):\n",
        "        w=w[0:-2]+'est'\n",
        "        print(w)\n",
        "    elif (w[len(w)-3:]=='est'):\n",
        "        print(w)\n",
        "    else:\n",
        "        w=w+'er'\n",
        "        print(w)\n",
        "    "
      ],
      "execution_count": null,
      "outputs": [
        {
          "output_type": "stream",
          "text": [
            "Enter a word: stronger\n",
            "strongest\n"
          ],
          "name": "stdout"
        }
      ]
    },
    {
      "cell_type": "markdown",
      "metadata": {
        "id": "PsBbgc4YU1yp"
      },
      "source": [
        "### Task 3\n",
        "\n",
        "Write a Python program that will ask the user to input a string (containing exactly one word). Then print the ASCII code for each character in the String using the ord() function. \n",
        "\n",
        "To check if your program is working correctly or not, you can find a list of all correct values from the following website. Look at “Dec” and “Char” columns only, ignore other columns.\\\n",
        "link: http://www.asciitable.com/\n",
        "\n",
        "=====================================================================\n",
        "\n",
        "**Example 1:**\\\n",
        "Input: Programming\\\n",
        "Output:\\\n",
        "P : 80\\\n",
        "r : 114\\\n",
        "o : 111\\\n",
        "g : 103\\\n",
        "r : 114\\\n",
        "a : 97\\\n",
        "m : 109\\\n",
        "m : 109\\\n",
        "i : 105\\\n",
        "n : 110\\\n",
        "g : 103\n",
        "\n",
        "=====================================================================\n",
        "\n",
        "**Example 2:**\\\n",
        "Input: hunger\\\n",
        "Output:\\\n",
        "h : 104\\\n",
        "u : 117\\\n",
        "n : 110\\\n",
        "g : 103\\\n",
        "e : 101\\\n",
        "r : 114 \n",
        "\n",
        "====================================================================="
      ]
    },
    {
      "cell_type": "code",
      "metadata": {
        "id": "r8by7ONZU1ys",
        "colab": {
          "base_uri": "https://localhost:8080/"
        },
        "outputId": "15883d20-cecc-45d3-eb96-9eb141cd7989"
      },
      "source": [
        "#to do\n",
        "#todo\n",
        "word=input('Enter a word: ')\n",
        "for i in word:\n",
        "    print(i,':',ord(i))\n",
        "\n"
      ],
      "execution_count": 4,
      "outputs": [
        {
          "output_type": "stream",
          "name": "stdout",
          "text": [
            "Enter a word: hunger\n",
            "h : 104\n",
            "u : 117\n",
            "n : 110\n",
            "g : 103\n",
            "e : 101\n",
            "r : 114\n"
          ]
        }
      ]
    },
    {
      "cell_type": "markdown",
      "metadata": {
        "id": "O8lIVppgU1yw"
      },
      "source": [
        "### Task 4\n",
        "\n",
        "Take a string as a input from the user with all small letters. Then print the next alphabet in sequence for each alphabet found in the input.\n",
        "\n",
        "=====================================================================\n",
        "\n",
        "\n",
        "*Hint: You need to use functions ord() and chr(). The ASCII value of ‘a’ is 97 and ‘z’ is 122.*\n",
        "\n",
        "=====================================================================\n",
        "\n",
        "**Example 1:**\\\n",
        "Input: abcd\\\n",
        "Output: bcde\n",
        "\n",
        "=====================================================================\n",
        "\n",
        "**Example 2:**\\\n",
        "Input: the cow\\\n",
        "Output: uif!dpx\n",
        "\n",
        "=====================================================================\n",
        "\n",
        "**Example 3: <font color='red'>[Must fulfil this criteria]</font>**\\\n",
        "Input: xyzabc\\\n",
        "Output: yzabcd\n",
        "\n",
        "=====================================================================\n"
      ]
    },
    {
      "cell_type": "code",
      "metadata": {
        "id": "Hyvy8WNNU1yx",
        "colab": {
          "base_uri": "https://localhost:8080/"
        },
        "outputId": "4df9d9ff-be8c-41fe-f66d-960e12225ef2"
      },
      "source": [
        "#to do\n",
        "#todo\n",
        "word=input('Enter a word in small letters: ')\n",
        "for i in word:\n",
        "    x=ord(str(i))\n",
        "    y=x+1\n",
        "    if x==122:\n",
        "        print('a',end='')\n",
        "        continue\n",
        "    print(chr(y),end='')\n"
      ],
      "execution_count": 6,
      "outputs": [
        {
          "output_type": "stream",
          "name": "stdout",
          "text": [
            "Enter a word in small letters: xyzabc\n",
            "yzabcd"
          ]
        }
      ]
    },
    {
      "cell_type": "markdown",
      "metadata": {
        "id": "leVtdAsdymXM"
      },
      "source": [
        "### Task 5\n",
        "\n",
        "Write a Python program that will ask the user to enter two strings (s1, s2) as an input. Then create a mixed string with alternative characters from each string. Any leftover chars will be appended at the end of the resulting string.\n",
        "\n",
        "=====================================================================\n",
        "\n",
        "*Hint: For adding the leftover characters you may use string slicing.*\n",
        "\n",
        "=====================================================================\n",
        "\n",
        "**Example 1:**\\\n",
        "Input:\\\n",
        "\"ABCD\"\\\n",
        "\"efgh\"\n",
        "\n",
        "Output:\\\n",
        "AeBfCgDh\n",
        "\n",
        "=====================================================================\n",
        "\n",
        "**Example 2:**\\\n",
        "Input:\\\n",
        "\"ABCDENDFGH\"\\\n",
        "\"ijkl\"\n",
        "\n",
        "Output:\\\n",
        "AiBjCkDlENDFGH\n",
        "\n",
        "=====================================================================\n",
        "\n",
        "**Example 3:**\\\n",
        "Input:\\\n",
        "\"ijkl\"\\\n",
        "\"ABCDENDFGH\"\n",
        "\n",
        "Output:\\\n",
        "iAjBkClDENDFGH\n",
        "\n",
        "=====================================================================\n"
      ]
    },
    {
      "cell_type": "code",
      "metadata": {
        "id": "kC1cq47myny6",
        "colab": {
          "base_uri": "https://localhost:8080/"
        },
        "outputId": "6027e6b5-1b4b-436b-b5d1-fb45a2e7b21d"
      },
      "source": [
        "#Todo\n",
        "s1=input('Enter a string:')\n",
        "s2=input('Enter a string:')\n",
        "s=''\n",
        "if (len(s1)>len(s2)):\n",
        "    for i in range (0,len(s2)):#loop over length of smaller string\n",
        "        s=s+s1[i]+s2[i]\n",
        "s=s+s1[len(s2):]\n",
        "\n",
        "if (len(s2)>=len(s1)):\n",
        "    for i in range (0,len(s1)):\n",
        "        s=s+s1[i]+s2[i]\n",
        "s=s+s2[len(s1):]\n",
        "\n",
        "print(s)        \n",
        "    "
      ],
      "execution_count": null,
      "outputs": [
        {
          "output_type": "stream",
          "text": [
            "Enter a string:ABCD\n",
            "Enter a string:efgh\n",
            "AeBfCgDh\n"
          ],
          "name": "stdout"
        }
      ]
    },
    {
      "cell_type": "markdown",
      "metadata": {
        "id": "AWQJrJW3U1y3"
      },
      "source": [
        "### Task 6\n",
        "Given a string, create a new string with all the consecutive duplicates **removed**. \n",
        "\n",
        "=====================================================================\n",
        "\n",
        "**Hint:** You may make a new string to store the result. You can check whether the current character and the next character are the same, then add that character to the new string.\n",
        "\n",
        "=====================================================================\n",
        "\n",
        "\n",
        "**Sample Input**:\\\n",
        "AAABBBBCDDBBECE\n",
        "\n",
        "**Sample Output:**\\\n",
        "ABCDBECE\n",
        "\n",
        "=====================================================================\n"
      ]
    },
    {
      "cell_type": "code",
      "metadata": {
        "id": "oNv_JNgUU1y4",
        "colab": {
          "base_uri": "https://localhost:8080/"
        },
        "outputId": "ac7fd238-5960-46c8-edb6-8cec42828e11"
      },
      "source": [
        "#to do\n",
        "#Todo\n",
        "s=input('Enter a string: ')\n",
        "new_string=(s[0])\n",
        "for i in s:\n",
        "    if (i != new_string[-1]):\n",
        "        new_string+=i\n",
        "print(new_string)"
      ],
      "execution_count": null,
      "outputs": [
        {
          "output_type": "stream",
          "text": [
            "Enter a string: AAABBBBCDDBBECE\n",
            "ABCDBECE\n"
          ],
          "name": "stdout"
        }
      ]
    },
    {
      "cell_type": "markdown",
      "metadata": {
        "id": "4zI6tmFN0i4y"
      },
      "source": [
        "### Task 7\n",
        "\n",
        "Write a python program that takes 2 inputs from the user, where the first input is a string with length greater than 1. The second input is the index of the first given string from where you have to start reversing. Then print the new string back to the user.\n",
        "\n",
        "=====================================================================\n",
        "\n",
        "**Sample Input 1:**\n",
        "\n",
        "72418\n",
        "\n",
        "4\n",
        "\n",
        "**Sample Output 1:**\n",
        "\n",
        "81427\n",
        "\n",
        "\n",
        "**Explanation**: Our second input, index '4' is the last index of our first input String '72418', hence the entire string is reversed giving us '81427'.\n",
        "\n",
        "=====================================================================\n",
        "\n",
        "**Sample Input 2:**\n",
        "\n",
        "12345 \n",
        "\n",
        "2\n",
        "\n",
        "**Sample Output 2:**\n",
        "\n",
        "32145\n",
        "\n",
        "**Explanation**: The second input is '2' so we have to reverse from index 2 of our first input. The 2nd index of our first input String is '3', index 1 is '2' and index 0 is '1'. Hence, if we reverse indexes 0 to 2, we get '321'. Index 3 and 4 which is '4' and '5' respectively remains unchanged hence our final output is '32145'.\n",
        "\n",
        "=====================================================================\n",
        "\n",
        "**Sample Input 3:**\n",
        "\n",
        "aBcd1234defg\n",
        "\n",
        "5\n",
        "\n",
        "**Sample Output 3:**\n",
        "\n",
        "21dcBa34defg\n",
        "\n",
        "**Explanation**: From our first input String 'aBcd1234defg', \n",
        "\n",
        "index 0 = 'a'\n",
        "\n",
        "index 1 = 'B'\n",
        "\n",
        "index 2 = 'c'\n",
        "\n",
        "index 3 = 'd'\n",
        "\n",
        "index 4 = '1'\n",
        "\n",
        "index 5 = '2'\n",
        "\n",
        "index 6 = '3'\n",
        "\n",
        "Since our second input is 5, index 0 to index 5 is reversed and we have '21dcBa' and the rest is unchanged from indexes 6 to 11 ('34defg'). Therefore, we have '21dcBa34defg' finally.\n",
        "\n",
        "=====================================================================\n"
      ]
    },
    {
      "cell_type": "code",
      "metadata": {
        "id": "NoqaHxEq81np",
        "colab": {
          "base_uri": "https://localhost:8080/"
        },
        "outputId": "1fb0f78c-7022-40bb-84b8-8ba609886142"
      },
      "source": [
        "#to do\n",
        "string=input('enter string: ')\n",
        "index=int(input('enter index: '))\n",
        "copy_index=index\n",
        "\n",
        "new_str=''\n",
        "counter=index\n",
        "for i in range(index+1):#loop will run index+1 times\n",
        "    new_str+=string[index]\n",
        "    index-=1\n",
        "\n",
        "#reverse part done\n",
        "#now to add rest of string\n",
        "\n",
        "for i in range(copy_index+1,len(string)):\n",
        "    new_str+=string[i]\n",
        "\n",
        "print(new_str)    "
      ],
      "execution_count": null,
      "outputs": [
        {
          "output_type": "stream",
          "text": [
            "enter string: aBcd1234defg\n",
            "enter index: 5\n",
            "21dcBa34defg\n"
          ],
          "name": "stdout"
        }
      ]
    },
    {
      "cell_type": "markdown",
      "metadata": {
        "id": "G1KGod9C87t_"
      },
      "source": [
        "### Task 8\n",
        "\n",
        "Write a python program that splits a given string on a given split character. The first input is a String and the second input is the character that will be used to split the first String. <font color='red'>[You cannot use the built-in split function]</font>\n",
        "\n",
        "=====================================================================\n",
        "\n",
        "**Sample Input 1:**<br/>\n",
        "This-is-CSE110<br/>\n",
        "-<br/>\n",
        "\n",
        "**Sample Output 1:**<br/>\n",
        "This<br/>\n",
        "is<br/>\n",
        "CSE110\n",
        "\n",
        "**Explanation**: The second input which is the character '-', is used to split or divide the first input String 'This-is-CSE110' into 'This', 'is' and 'CSE110' which are printed individually in seperate lines.\n",
        "\n",
        "=====================================================================\n",
        "\n",
        "**Sample Input 2**:\n",
        "tom@gmail,harry@yahoo,bob@gmail,mary@gmail\n",
        "\n",
        ",\n",
        "\n",
        "**Sample Output 2**:\n",
        "\n",
        "tom@gmail\n",
        "\n",
        "harry@yahoo\n",
        "\n",
        "bob@gmail\n",
        "\n",
        "mary@gmail\n",
        "\n",
        "====================================================================="
      ]
    },
    {
      "cell_type": "code",
      "metadata": {
        "id": "A9zuROkY9qre",
        "colab": {
          "base_uri": "https://localhost:8080/"
        },
        "outputId": "a69c5b28-a719-4440-b88f-758049287f2e"
      },
      "source": [
        "#to do\n",
        "str1=input('enter string: ')\n",
        "splitchar=input('enter split character: ')\n",
        "\n",
        "newstr=''\n",
        "for i in str1:\n",
        "  if i==splitchar:\n",
        "    print(newstr)\n",
        "    newstr=''\n",
        "  else:\n",
        "    newstr+=i\n",
        "print(newstr)      \n"
      ],
      "execution_count": 7,
      "outputs": [
        {
          "output_type": "stream",
          "name": "stdout",
          "text": [
            "enter string: This-is-CSE110\n",
            "enter split character: -\n",
            "This\n",
            "is\n",
            "CSE110\n"
          ]
        }
      ]
    },
    {
      "cell_type": "markdown",
      "metadata": {
        "id": "lPoDvm8YU1y9"
      },
      "source": [
        "### Task 9\n",
        "\n",
        "Suppose you are given two strings, s1, and s2. Now, print a new string made up of the last characters and then the first characters of the input strings.\n",
        "\n",
        "=====================================================================\n",
        "\n",
        "**Sample Input 1**:\n",
        "\n",
        "s1 = new\n",
        "\n",
        "s2= string\n",
        "\n",
        "**Sample Output 1**:\n",
        "\n",
        "gwsn\n",
        "\n",
        "**Explanation:** The last character of the String s2 is 'g'. The last character of the String s1 is 'w'. The first character of the String s2 is 's'. The first character of the String s1 is 'n'. Together they give us the ouput we want 'gwsn'.\n",
        "\n",
        "=====================================================================\n",
        "\n",
        "**Sample Input 2**:\n",
        "\n",
        "s1 = abcd\n",
        "\n",
        "s2= efgh\n",
        "\n",
        "**Sample Output 2**: \n",
        "\n",
        "hdea\n",
        "\n",
        "**Explanation:** The last characters of the Strings s2 and s1 is 'h' and 'd' respectively while the first characters of the Strings is 'e' and 'a' respectively. Together they give us the ouput we want 'gwsn'.\n",
        "\n",
        "=====================================================================\n"
      ]
    },
    {
      "cell_type": "code",
      "metadata": {
        "id": "z26BN9B3U1y_",
        "colab": {
          "base_uri": "https://localhost:8080/"
        },
        "outputId": "3681eb6b-30af-406c-a6b0-f69a6e961d7e"
      },
      "source": [
        "#to do\n",
        "string1= input('enter string 1: ')\n",
        "string2= input('enter string 1: ')\n",
        "\n",
        "newstring=string2[len(string2)-1]+string1[len(string1)-1]+string2[0]+string1[0]\n",
        "print(newstring)\n"
      ],
      "execution_count": null,
      "outputs": [
        {
          "output_type": "stream",
          "text": [
            "enter string 1: new\n",
            "enter string 1: string\n",
            "gwsn\n"
          ],
          "name": "stdout"
        }
      ]
    },
    {
      "cell_type": "markdown",
      "metadata": {
        "id": "ZrjtT-I_U1zD"
      },
      "source": [
        "### Task 10\n",
        "\n",
        "Write a Python program that takes a String as input from the user, removes the characters at even index and prints the resulting String in uppercase.\n",
        "\n",
        "=====================================================================\n",
        "\n",
        "**Sample Input 1**:\n",
        "\n",
        "String\n",
        "\n",
        "**Sample Output 1**: \n",
        "\n",
        "TIG\n",
        "\n",
        "**Explanation**: The characters 'S', 'r' and 'n' are at index positions 0, 2, and 4 respectively. Hence they are removed and the remaining characters 'tig' are capitalized giving us output 'TIG'.\n",
        "\n",
        "=====================================================================\n",
        "\n",
        "**Sample Input 2**:\n",
        "\n",
        "abcd\n",
        "\n",
        "**Sample Output 2**: \n",
        "\n",
        "BD\n",
        "\n",
        "=====================================================================\n"
      ]
    },
    {
      "cell_type": "code",
      "metadata": {
        "id": "3r7Ripj7U1zE",
        "colab": {
          "base_uri": "https://localhost:8080/"
        },
        "outputId": "7403bc66-0487-436c-f5d7-0b992abb3481"
      },
      "source": [
        "#to do\n",
        "string1=input('enter string: ')\n",
        "newstr=''\n",
        "for i in range(len(string1)):\n",
        "  if i%2==1:\n",
        "    newstr+=string1[i].upper()\n",
        "\n",
        "print(newstr)\n",
        "\n"
      ],
      "execution_count": null,
      "outputs": [
        {
          "output_type": "stream",
          "text": [
            "enter string: String\n",
            "TIG\n"
          ],
          "name": "stdout"
        }
      ]
    },
    {
      "cell_type": "markdown",
      "metadata": {
        "id": "AWgZaBZCzmaM"
      },
      "source": [
        "### Task 11\n",
        "\n",
        "Write a python program that takes two inputs. The first input is a string and the second input is a number. If the number is even then concatenate the given string two times the given number and if the number is odd then concatenate the given string three times the given number.\n",
        "\n",
        "=====================================================================\n",
        "\n",
        "**Sample Input 1**:\n",
        "\n",
        "CSE110\n",
        "\n",
        "4\n",
        "\n",
        "**Sample output 1**:\n",
        "\n",
        "CSE110CSE110CSE110CSE110CSE110CSE110CSE110CSE110\n",
        "\n",
        "**Explanation**: The second input which is the number 4 is even, therefore the first string input 'CSE110' is concatenated(joined together) 4*2 = 8 times.\n",
        "\n",
        "=====================================================================\n",
        "\n",
        "**Sample Input 2**:\n",
        "\n",
        "CSE110\n",
        "\n",
        "3\n",
        "\n",
        "**Sample Output 2**:\n",
        "\n",
        "CSE110CSE110CSE110CSE110CSE110CSE110CSE110CSE110CSE110\n",
        "\n",
        "=====================================================================\n"
      ]
    },
    {
      "cell_type": "code",
      "metadata": {
        "id": "ICW-03YOznTp",
        "colab": {
          "base_uri": "https://localhost:8080/"
        },
        "outputId": "454c3ede-5615-4539-d6c8-e3d591722a7a"
      },
      "source": [
        "#to do\n",
        "a=input('enter string: ')\n",
        "num=int(input('enter number: '))\n",
        "newstr=''\n",
        "if num%2==0:#even\n",
        "  for i in range(num*2):\n",
        "    newstr+=a\n",
        "else:\n",
        "  for i in range(num*3):\n",
        "    newstr+=a  \n",
        "\n",
        "print(newstr)\n"
      ],
      "execution_count": null,
      "outputs": [
        {
          "output_type": "stream",
          "text": [
            "enter string: CSE110\n",
            "enter number: 3\n",
            "CSE110CSE110CSE110CSE110CSE110CSE110CSE110CSE110CSE110\n"
          ],
          "name": "stdout"
        }
      ]
    },
    {
      "cell_type": "markdown",
      "metadata": {
        "id": "7a_1pYjfU1zI"
      },
      "source": [
        "### Task 12\n",
        "\n",
        "Write a python program that takes 2 inputs from the user. The first input is a string and the second input is a letter. The program should remove all occurences of the letter from the given string and print the output. If the letter is not found in the string and the length of string is greater than 3, then remove the first letter and last letter of the given string and print it. Otherwise print the string as it is. [You can assume that all the input will be in lowercase letter]\n",
        "\n",
        "=====================================================================\n",
        "\n",
        "\n",
        "**Sample Input 1**:\n",
        "\n",
        "tanjiro kamado\n",
        "\n",
        "a\n",
        "\n",
        "**Sample output 1**:\n",
        "\n",
        "tnjiro kmdo\n",
        "\n",
        "**Explanation**: All 3 instances of the character 'a' is removed from the input String 'tanjiro kamado' to give us output 'tnjiro kmdo'.\n",
        "\n",
        "=====================================================================\n",
        "\n",
        "**Sample Input 2**:\n",
        "\n",
        "eren yeager\n",
        "\n",
        "k\n",
        "\n",
        "\n",
        "**Sample Output 2**:\n",
        "\n",
        "ren yeage\n",
        "\n",
        "**Explanation**: The character 'k' is absent in the first input String 'eren yeager' and it's length is 11 which is greater than 3 therefore the first character 'e' and the last character 'r' is removed. Hence, the final String is 'ren yeage'.\n",
        "\n",
        "=====================================================================\n",
        "\n",
        "Sample Input 3:\n",
        "\n",
        "hi\n",
        "\n",
        "a\n",
        "\n",
        "Sample Output 3:\n",
        "\n",
        "hi\n",
        "\n",
        "**Explanation**: The letter 'a' is not found in our first input 'hi', the length of which is 2. Since the character is not present and the length is less than 3, we print the String 'hi' as it is.\n",
        "\n",
        "=====================================================================\n"
      ]
    },
    {
      "cell_type": "code",
      "metadata": {
        "id": "vToa7yazU1zI",
        "colab": {
          "base_uri": "https://localhost:8080/"
        },
        "outputId": "deeb3b23-2e35-4750-e564-08d74a345138"
      },
      "source": [
        "#to do\n",
        "str1=input('Enter str1: ')\n",
        "letter=input('Enter letter: ')\n",
        "flag=False\n",
        "newstr=''\n",
        "for i in str1:\n",
        "    if i!=letter:\n",
        "        newstr+=i\n",
        "    else:#if letter found\n",
        "        flag=True\n",
        "\n",
        "if flag==True:\n",
        "    print(newstr)\n",
        "elif flag==False and len(str1)>3:\n",
        "  newstr=str1[1:(len(str1)-1)]\n",
        "  print(newstr)\n",
        "else:\n",
        "  print(str1)      "
      ],
      "execution_count": null,
      "outputs": [
        {
          "output_type": "stream",
          "text": [
            "Enter str1: hi\n",
            "Enter letter: a\n",
            "hi\n"
          ],
          "name": "stdout"
        }
      ]
    },
    {
      "cell_type": "markdown",
      "metadata": {
        "id": "WZXnxHTdGrMC"
      },
      "source": [
        "## Optional Tasks (13 - 15) [Ungraded]"
      ]
    },
    {
      "cell_type": "markdown",
      "metadata": {
        "id": "nwRZ3_0tC3fq"
      },
      "source": [
        "### Task 13\n",
        "\n",
        "\n",
        "Write a python program that takes a string as an input from the user and then modifies the string in such a way that the string always starts with an uppercase letter and the case of each subsequent letter is the opposite of the previous letter (uppercase character followed by a lowercase character followed by an uppercase character and so on).  Finally the modified string is printed to show the user.\n",
        "\n",
        "*Hints:  Flags/counters can be used to manage uppercase-lowercase.*\n",
        "\n",
        "=====================================================================\n",
        "\n",
        "**Sample Input 1:**\\\n",
        "Python programming is very easy\n",
        "\n",
        "**Sample Output 1:**\\\n",
        "PyThOn PrOgRaMmInG iS vErY eAsY\n",
        "\n",
        "=====================================================================\n",
        "\n",
        "**Sample Input 2:**\\\n",
        "I&nbsp;&nbsp;&nbsp;&nbsp;&nbsp;&nbsp;     love       &nbsp;&nbsp;&nbsp;&nbsp;&nbsp;&nbsp;&nbsp; Python &nbsp;&nbsp;&nbsp;&nbsp;&nbsp;&nbsp;&nbsp;&nbsp;Programming\n",
        "\n",
        "**Sample Output 2:**\\\n",
        "I&nbsp;&nbsp;&nbsp;&nbsp;&nbsp;&nbsp;     lOvE       &nbsp;&nbsp;&nbsp;&nbsp;&nbsp;&nbsp;&nbsp;pYtHoN&nbsp;&nbsp;&nbsp;&nbsp;&nbsp;&nbsp;&nbsp;&nbsp;pRoGrAmMiNg\n",
        "\n",
        "=====================================================================\n",
        "\n",
        "**Sample Input 3:**\\\n",
        "CSE110 Course\n",
        "\n",
        "**Sample Output 3**\\\n",
        "CsE110 cOuRsE\n",
        "\n",
        "\n",
        "\n",
        "=====================================================================\n",
        "\n",
        "**Sample Input 4:**\\\n",
        "c\n",
        "\n",
        "**Sample Output 4:**\\\n",
        "C\n",
        "\n",
        "=====================================================================\n"
      ]
    },
    {
      "cell_type": "code",
      "metadata": {
        "id": "LEnaTlyoMJdS",
        "colab": {
          "base_uri": "https://localhost:8080/"
        },
        "outputId": "07f23fe0-b107-4d71-b714-9cb56004880c"
      },
      "source": [
        "#todo\n",
        "a=input('enter:')\n",
        "print(a[2])\n",
        "print(a[2].isspace())\n",
        "\n",
        "new=''\n",
        "k=0 \n",
        "for i in range(len(a)):\n",
        "    if (a[i].isspace()):\n",
        "      new+=a[i]\n",
        "      continue\n",
        "    elif k%2==1:#odd\n",
        "        new+=a[i].lower()\n",
        "    else:\n",
        "        new+=a[i].upper()\n",
        "    k=k+1\n",
        "print(new)\n"
      ],
      "execution_count": null,
      "outputs": [
        {
          "output_type": "stream",
          "text": [
            "enter:CSE110 Course\n",
            "E\n",
            "False\n",
            "CsE110 CoUrSe\n"
          ],
          "name": "stdout"
        }
      ]
    },
    {
      "cell_type": "markdown",
      "metadata": {
        "id": "EEkcqbIJBKel"
      },
      "source": [
        "### Task 14 \n",
        "An anagram is a play on words created by rearranging the letters of the original word to make a new word or phrase.\n",
        "So we can say two words are anagrams if they contain all of the same letters, but in a different order.\n",
        "\n",
        "\n",
        "Write a python program that takes two strings from the user and tells if they are anagram or not.\n",
        "\n",
        "=====================================================================\n",
        "\n",
        "<b>Sample Input 1: </b><br/>\n",
        "dusty<br/>\n",
        "study<br/>\n",
        "<b>Sample Output 1: </b> <br/>\n",
        "They are anagram<br/>\n",
        "\n",
        "=====================================================================\n",
        "\n",
        "<b>Sample Input 2: </b><br/>\n",
        "dustyyy<br/>\n",
        "study<br/>\n",
        "<b>Sample Output 2: </b><br/>\n",
        "They are not anagram"
      ]
    },
    {
      "cell_type": "code",
      "metadata": {
        "colab": {
          "base_uri": "https://localhost:8080/"
        },
        "id": "tY_OHT0d24kb",
        "outputId": "4859eaa6-00a1-46ff-92e1-3d1ee267f462"
      },
      "source": [
        "# to do\n",
        "#using purely string and replace function\n",
        "inp1=input('enter string: ') \n",
        "inp2=input('enter string: ') \n",
        "\n",
        "flag=True\n",
        "if len(inp1)!=len(inp2) or inp1==inp2:\n",
        "  flag=False\n",
        "\n",
        "else:\n",
        "  for i in inp1:# #dusty\n",
        "    for j in inp2: #study\n",
        "      if i==j:\n",
        "        inp2=inp2.replace(j,\"\",1)#remove the first occurence of element j from inp2 \n",
        "        break\n",
        "  if len(inp2)!=0:#if inp2 didn't get all elements deleted\n",
        "    flag=False \n",
        "\n",
        "\n",
        "if flag==True:\n",
        "  print('They are anagram')\n",
        "else:\n",
        "  print('They are not anagram') \n",
        "\n"
      ],
      "execution_count": 16,
      "outputs": [
        {
          "output_type": "stream",
          "name": "stdout",
          "text": [
            "enter string: study\n",
            "enter string: studyyy\n",
            "They are not anagram\n"
          ]
        }
      ]
    },
    {
      "cell_type": "code",
      "metadata": {
        "colab": {
          "base_uri": "https://localhost:8080/"
        },
        "id": "DeL6HX7fyM0q",
        "outputId": "4afa7d94-cfbc-440e-8759-0b08cd3c66f2"
      },
      "source": [
        "#using dictionary\n",
        "inp1=input('enter string: ')\n",
        "inp2=input('enter string: ')\n",
        "dic1={}\n",
        "dic2={}\n",
        "for i in inp1:\n",
        "  if i not in dic1:\n",
        "    dic1[i]=1\n",
        "  else:\n",
        "    dic1[i]=dic1[i]+1 \n",
        "\n",
        "for i in inp2:\n",
        "  if i not in dic2:\n",
        "    dic2[i]=1\n",
        "  else:\n",
        "    dic2[i]=dic2[i]+1\n",
        "\n",
        "if dic1==dic2 and inp1!=inp2:\n",
        "  print('They are anagram')\n",
        "else:\n",
        "  print('They are not anagram')  \n"
      ],
      "execution_count": 10,
      "outputs": [
        {
          "output_type": "stream",
          "name": "stdout",
          "text": [
            "enter string: study\n",
            "enter string: study\n",
            "They are  not anagram\n"
          ]
        }
      ]
    },
    {
      "cell_type": "code",
      "metadata": {
        "id": "dvjY9pE2BLVT",
        "colab": {
          "base_uri": "https://localhost:8080/"
        },
        "outputId": "f8feb62b-d56b-4b84-d146-805ddee4c91b"
      },
      "source": [
        "#using list\n",
        "lst1=list( input('enter string: ') )\n",
        "lst2=list( input('enter string: ') )\n",
        "\n",
        "flag=True\n",
        "if len(lst1)!=len(lst2) or lst1==lst2:\n",
        "  flag=False\n",
        "\n",
        "else:\n",
        "  for i in lst1:# i=lst1 character\n",
        "    for j in range(len(lst2)):\n",
        "      if i==lst2[j]:\n",
        "        del lst2[j]#delete that element with index j from lst2 \n",
        "        break\n",
        "  if len(lst2)!=0:#if lst2 didn't get all elements deleted\n",
        "    flag=False \n",
        "\n",
        "\n",
        "if flag==True:\n",
        "  print('They are anagram')\n",
        "else:\n",
        "  print('They are not anagram') \n"
      ],
      "execution_count": null,
      "outputs": [
        {
          "output_type": "stream",
          "text": [
            "enter string: dusty\n",
            "enter string: study\n",
            "They are anagram\n"
          ],
          "name": "stdout"
        }
      ]
    },
    {
      "cell_type": "markdown",
      "metadata": {
        "id": "sHeGC4Tf7z81"
      },
      "source": [
        "###Task 15\n",
        "\n",
        "Write a python program thats prints the largest consecutive sequence from a given string S. For example, if S = ‘AABBBCCAAAA’, print ‘AAAA’. If more than one largest consecutive sequence exists, print the first one. Print NONE if no consecutive sequence is found.\n",
        "\n",
        "=====================================================================\n",
        "\n",
        "**Sample Input 1:**<br/>\n",
        "AABBBCCAAAA<br/>\n",
        "**Sample Output 1:**<br/>\n",
        "AAAA<br/>\n",
        "\n",
        "=====================================================================\n",
        "\n",
        "**Sample Input 2:**<br/>\n",
        "AABBCC<br/>\n",
        "**Sample Output 2:**<br/>\n",
        "AA<br/>\n",
        "\n",
        "=====================================================================\n",
        "\n",
        "**Sample Input 3:**<br/>\n",
        "ABCD<br/>\n",
        "**Sample Output 3:**<br/>\n",
        "NONE<br/>\n",
        "\n",
        "====================================================================="
      ]
    },
    {
      "cell_type": "code",
      "metadata": {
        "id": "lModRb2L0oqS"
      },
      "source": [
        "#to do\n",
        "string=input('enter string: ')\n",
        "\n",
        "maxletter=''#max occurring letter is stored here\n",
        "maxnum=0#max number of occurrences of maxletter is stored here\n",
        "\n",
        "templetter=string[0]#temp letter storage\n",
        "tempnum=0#temp occurrences of that letter\n",
        "\n",
        "for i in range(0,len(string)):\n",
        "    if string[i]==templetter:\n",
        "        tempnum+=1\n",
        "    else:#if current letter not equal to previous letter/templetter \n",
        "        if tempnum>maxnum:\n",
        "            maxnum=tempnum\n",
        "            maxletter=templetter\n",
        "        templetter=string[i]#temp letter updated\n",
        "        tempnum=1#current occurrence of tmep letter is 1\n",
        "\n",
        "if tempnum>maxnum:#have to repeat this code for the last character's occurence\n",
        "    maxnum=tempnum\n",
        "    maxletter=templetter\n",
        "\n",
        "if maxnum==1:#i.e only 1 occurrence \n",
        "    print('NONE')\n",
        "    \n",
        "else:        \n",
        "    print(maxletter*maxnum)        \n",
        "    \n",
        "    \n"
      ],
      "execution_count": null,
      "outputs": []
    }
  ]
}