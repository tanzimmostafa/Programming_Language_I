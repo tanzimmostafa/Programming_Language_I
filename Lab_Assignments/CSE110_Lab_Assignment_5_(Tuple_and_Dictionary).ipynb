{
  "nbformat": 4,
  "nbformat_minor": 0,
  "metadata": {
    "kernelspec": {
      "display_name": "Python 3",
      "language": "python",
      "name": "python3"
    },
    "language_info": {
      "codemirror_mode": {
        "name": "ipython",
        "version": 3
      },
      "file_extension": ".py",
      "mimetype": "text/x-python",
      "name": "python",
      "nbconvert_exporter": "python",
      "pygments_lexer": "ipython3",
      "version": "3.7.6"
    },
    "colab": {
      "name": "CSE110 Lab Assignment 5 (Tuple and Dictionary).ipynb",
      "provenance": [],
      "collapsed_sections": []
    }
  },
  "cells": [
    {
      "cell_type": "markdown",
      "metadata": {
        "id": "U4PRkuyUtDRw"
      },
      "source": [
        "# CSE110 Lab Assignment 5\n",
        "\n",
        "This Assignment is to help you develop your concept of Tuples and Dictionaries in Python.\n",
        "\n",
        "Write your name, student ID and CSE110 theory section number below:\n"
      ]
    },
    {
      "cell_type": "code",
      "metadata": {
        "id": "wl7fu2qrggWI"
      },
      "source": [
        "#STUDENT NAME:\n",
        "#STUDENT ID:\n",
        "#CSE110 THEORY SECTION: "
      ],
      "execution_count": null,
      "outputs": []
    },
    {
      "cell_type": "markdown",
      "metadata": {
        "id": "PD425BrvtDRy"
      },
      "source": [
        "## Write the code in Python to do the following tasks:\n",
        "\n",
        "**<font color='red'>[MUST MAINTAIN VARIABLE NAMING CONVENTIONS FOR ALL THE TASKS]</font>**\n",
        "\n",
        "## Part 1: Tuple"
      ]
    },
    {
      "cell_type": "markdown",
      "metadata": {
        "id": "FNOorLYXtDRz"
      },
      "source": [
        "### Task 1\n",
        "\n",
        "Assume, you have been given a tuple.\n",
        "\n",
        "a_tuple = (\"The Institute\",\\\n",
        "        (\"Best Mystery & Thriller\", \"The Silent Patient\", 68821),\\\n",
        "        75717,\\\n",
        "        [1, 2, 3, 400, 5, 6, 7],\\\n",
        "        (\"Best Fiction\", \"The Testaments\", 98291)\\\n",
        ")\n",
        "\n",
        "Write **one line** of Python code to access and print the value 400.\n",
        "\n",
        "===================================================================\n",
        "\n",
        "Output: 400\n",
        "\n",
        "===================================================================\n"
      ]
    },
    {
      "cell_type": "code",
      "metadata": {
        "id": "NDKB1cIMtDR0",
        "colab": {
          "base_uri": "https://localhost:8080/"
        },
        "outputId": "3eedf538-c1d6-4d2c-a200-513371389f07"
      },
      "source": [
        "#to do\n",
        "a_tuple = (\"The Institute\",(\"Best Mystery & Thriller\", \"The Silent Patient\", 68821),75717,[1, 2, 3, 400, 5, 6, 7],(\"Best Fiction\", \"The Testaments\", 98291))\n",
        "print(a_tuple[3][3])"
      ],
      "execution_count": 1,
      "outputs": [
        {
          "output_type": "stream",
          "name": "stdout",
          "text": [
            "400\n"
          ]
        }
      ]
    },
    {
      "cell_type": "markdown",
      "metadata": {
        "id": "BXlIw1svtDR-"
      },
      "source": [
        "### Task 2\n",
        "\n",
        "Assume, you have been given a tuple. Write a Python program that creates a **new tuple** excluding the first and last two elements of the given tuple and prints the new tuple. \n",
        "\n",
        "**Hint:** You may use tuple slicing.\n",
        "\n",
        "===================================================================\n",
        "\n",
        "**Sample Input 1:**\\\n",
        "(10, 20, 24, 25, 26, 35, 70)\n",
        "\n",
        "\n",
        "**Sample Output 1:**\\\n",
        "(24, 25, 26)\n",
        "\n",
        "===================================================================\n",
        "\n",
        "**Sample Input 2:**\\\n",
        "(-10, 20, 30, 40)\n",
        "\n",
        "\n",
        "**Sample Output 2:**\\\n",
        "()\n",
        "\n",
        "===================================================================\n",
        "\n",
        "**Sample Input 3:**\\\n",
        "(-10, 20, 25, 30, 40)\n",
        "\n",
        "\n",
        "**Sample Output 3:**\\\n",
        "(25,)\n",
        "\n",
        "===================================================================\n"
      ]
    },
    {
      "cell_type": "code",
      "metadata": {
        "id": "FTJ-5AmNtDR_",
        "colab": {
          "base_uri": "https://localhost:8080/"
        },
        "outputId": "5454d4c0-7f26-463b-817b-ff18db075ef7"
      },
      "source": [
        "#to do\n",
        "a_tuple   = (-10, 20, 25, 30, 40)\n",
        "new_tuple = a_tuple [2:-2] \n",
        "\n",
        "print(new_tuple)"
      ],
      "execution_count": 5,
      "outputs": [
        {
          "output_type": "stream",
          "name": "stdout",
          "text": [
            "(25,)\n"
          ]
        }
      ]
    },
    {
      "cell_type": "markdown",
      "metadata": {
        "id": "Z3GS2TE6tDSG"
      },
      "source": [
        "### Task 3\n",
        "\n",
        "Assume, you have been given a tuple. \n",
        "\n",
        "\n",
        "book_info = (\\\n",
        "    (\"Best Mystery & Thriller\",\"The Silent Patient\",68,821),\\\n",
        "    (\"Best Horror\",\"The Institute\",75,717),\\\n",
        "    (\"Best History & Biography\",\"The five\",31,783 ),\\\n",
        "    (\"Best Fiction\",\"The Testaments\",98,291)\\\n",
        ")\n",
        "\n",
        "Write a Python program that prints the size of the tuple and all its elements as shown below.\n",
        "\n",
        "===================================================================\n",
        "\n",
        "**Output:**\\\n",
        "Size of the tuple is: 4\\\n",
        "('Best Mystery & Thriller', 'The Silent Patient', 68, 821)\\\n",
        "('Best Horror', 'The Institute', 75, 717)\\\n",
        "('Best History & Biography', 'The five', 31, 783)\\\n",
        "('Best Fiction', 'The Testaments', 98, 291)\n",
        "\n",
        "==================================================================="
      ]
    },
    {
      "cell_type": "code",
      "metadata": {
        "id": "RPFYcAjntDSG",
        "colab": {
          "base_uri": "https://localhost:8080/"
        },
        "outputId": "f1830c3f-34b6-4ecf-b77d-ab89c961cac8"
      },
      "source": [
        "#to do\n",
        "#Todo\n",
        "book_info = (\n",
        "(\"Best Mystery & Thriller\",\"The Silent Patient\",68,821),\n",
        "(\"Best Horror\",\"The Institute\",75,717),\n",
        "(\"Best History & Biography\",\"The five\",31,783 ),\n",
        "(\"Best Fiction\",\"The Testaments\",98,291)\n",
        ")\n",
        "\n",
        "size = len(book_info)\n",
        "\n",
        "print('size of the tuple is: ',size)\n",
        "for i in book_info:\n",
        "    print(i)\n"
      ],
      "execution_count": 6,
      "outputs": [
        {
          "output_type": "stream",
          "name": "stdout",
          "text": [
            "size of the tuple is:  4\n",
            "('Best Mystery & Thriller', 'The Silent Patient', 68, 821)\n",
            "('Best Horror', 'The Institute', 75, 717)\n",
            "('Best History & Biography', 'The five', 31, 783)\n",
            "('Best Fiction', 'The Testaments', 98, 291)\n"
          ]
        }
      ]
    },
    {
      "cell_type": "markdown",
      "metadata": {
        "id": "glKgAPlGtDSK"
      },
      "source": [
        "### Task 4\n",
        "\n",
        "Assume, you have been given a tuple with details about books that won the Good Reads Choice Awards. \n",
        "\n",
        "book_info = (\\\n",
        "    (\"Best Mystery & Thriller\",\"The Silent Patient\",68821),\\\n",
        "    (\"Best Horror\",\"The Institute\",75717),\\\n",
        "    (\"Best History & Biography\",\"The five\",31783 ),\\\n",
        "    (\"Best Fiction\",\"The Testaments\",98291)\\\n",
        ")\n",
        "\n",
        "Write a Python program that prints the award category, the book name, and its total votes earned as shown below. \n",
        "\n",
        "**<font color='red'>[Must use Tuple unpacking for printing and need to handle the quotation marks as a part of the output]</font>**\n",
        "\n",
        "===================================================================\n",
        "\n",
        "**Output:**\\\n",
        "The Silent Patient won the 'Best Mystery & Thriller' category with 68821 votes\\\n",
        "The Institute won the 'Best Horror' category with 75717 votes\\\n",
        "The five won the 'Best History & Biography' category with 31783 votes\\\n",
        "The Testaments won the 'Best Fiction' category with 98291 votes\n",
        "\n",
        "==================================================================="
      ]
    },
    {
      "cell_type": "code",
      "metadata": {
        "id": "LgTKpSGatDSM",
        "colab": {
          "base_uri": "https://localhost:8080/"
        },
        "outputId": "01ac7852-d9b1-43ad-fb91-2ccd46164f96"
      },
      "source": [
        "#to do\n",
        "book_info = (\n",
        "(\"Best Mystery & Thriller\",\"The Silent Patient\",68821),\n",
        "(\"Best Horror\",\"The Institute\",75717),\n",
        "(\"Best History & Biography\",\"The five\",31783 ),\n",
        "(\"Best Fiction\",\"The Testaments\",98291)\n",
        ")\n",
        "\n",
        "for tupple in book_info:\n",
        "  first, second, third = tupple       #unpacking\n",
        "  print(second ,'won the'  ,\"'\"+first+\"'\", 'category with', third ,'votes')\n",
        "\n",
        "\n"
      ],
      "execution_count": 7,
      "outputs": [
        {
          "output_type": "stream",
          "name": "stdout",
          "text": [
            "The Silent Patient won the 'Best Mystery & Thriller' category with 68821 votes\n",
            "The Institute won the 'Best Horror' category with 75717 votes\n",
            "The five won the 'Best History & Biography' category with 31783 votes\n",
            "The Testaments won the 'Best Fiction' category with 98291 votes\n"
          ]
        }
      ]
    },
    {
      "cell_type": "code",
      "metadata": {
        "id": "mBsTes3uWgu8",
        "colab": {
          "base_uri": "https://localhost:8080/"
        },
        "outputId": "e19f03ac-f463-42c6-dee6-4ef574e8b966"
      },
      "source": [
        "#to do\n",
        "book_info = (\n",
        "(\"Best Mystery & Thriller\",\"The Silent Patient\",68821),\n",
        "(\"Best Horror\",\"The Institute\",75717),\n",
        "(\"Best History & Biography\",\"The five\",31783 ),\n",
        "(\"Best Fiction\",\"The Testaments\",98291)\n",
        ")\n",
        "\n",
        "first, second, third, fourth = book_info         #unpacking\n",
        "\n",
        "print(first[1] ,'won the'  ,\"'\", first[0]  ,\"'\", 'category with', first[2] ,'votes')\n",
        "print(second[1],'won the'  ,\"'\", second[0] ,\"'\", 'category with', second[2],'votes')\n",
        "print(third[1] ,'won the'  ,\"'\", third[0]  ,\"'\", 'category with', third[2] ,'votes')\n",
        "print(fourth[1],'won the'  ,\"'\", fourth[0] ,\"'\", 'category with', fourth[2],'votes')\n",
        "\n"
      ],
      "execution_count": 9,
      "outputs": [
        {
          "output_type": "stream",
          "name": "stdout",
          "text": [
            "The Silent Patient won the ' Best Mystery & Thriller ' category with 68821 votes\n",
            "The Institute won the ' Best Horror ' category with 75717 votes\n",
            "The five won the ' Best History & Biography ' category with 31783 votes\n",
            "The Testaments won the ' Best Fiction ' category with 98291 votes\n"
          ]
        }
      ]
    },
    {
      "cell_type": "markdown",
      "metadata": {
        "id": "bRe9K_j55zpb"
      },
      "source": [
        "### Task 5\n",
        "Write a python program that takes an input from the user and finds the number of times that the input is present in a given tuple.\n",
        "\n",
        "===================================================================\n",
        "\n",
        "<b>Example 1: </b><br/>\n",
        "\n",
        "Given tuple: (10, 8, 5, 2, 10, 15, 10, 8, 5, 8, 8, 2) <br/>\n",
        "\n",
        "<b>Sample Input 1:</b> \n",
        "\n",
        "8<br/>\n",
        "\n",
        "<b>Sample Output 1: </b> <br/>\n",
        "\n",
        "8 appears 4 times in the tuple<br/>\n",
        "\n",
        "===================================================================\n",
        "\n",
        "<b> Example 2 </b><br/>\n",
        "\n",
        "Given tuple: (10, 8, 5, 2, 10, 15, 10, 8, 5, 8, 8, 2)<br/>\n",
        "\n",
        "<b>Sample Input 2:</b>\n",
        "\n",
        "1<br/>\n",
        "\n",
        "<b>Sample Output 2:</b><br/>\n",
        "\n",
        "1 appears 0 times in the tuple\n",
        "\n",
        "==================================================================="
      ]
    },
    {
      "cell_type": "code",
      "metadata": {
        "id": "mC-B1fpStDST",
        "colab": {
          "base_uri": "https://localhost:8080/"
        },
        "outputId": "38c7063d-99c1-4211-b9f4-c8be8aeb6928"
      },
      "source": [
        "#to do\n",
        "a_tuple=(10, 8, 5, 2, 10, 15, 10, 8, 5, 8, 8, 2)\n",
        "user_input=int(input('enter a number: '))\n",
        "count=0\n",
        "for i in a_tuple:\n",
        "    if (i==user_input):\n",
        "        count+=1\n",
        "print(user_input,'appears',count,'times in the tuple')\n"
      ],
      "execution_count": 10,
      "outputs": [
        {
          "output_type": "stream",
          "name": "stdout",
          "text": [
            "enter a number: 8\n",
            "8 appears 4 times in the tuple\n"
          ]
        }
      ]
    },
    {
      "cell_type": "markdown",
      "metadata": {
        "id": "QWNi_JWr6AfC"
      },
      "source": [
        "### Task 6\n",
        "Write a Python program to reverse a given tuple. \n",
        "\n",
        " \n",
        "  <font color='red'>[You are not allowed to use tuple slicing]</font>\n",
        "  \n",
        "===================================================================\n",
        "\n",
        "<b>Note: </b>  Unlike lists, tuples are immutable. So, in order to reverse a tuple, we may need to convert it into a list first, then modify the list, and finally convert it back to a tuple. \n",
        "\n",
        "===================================================================\n",
        "\n",
        "<b>Example 1: </b><br/>\n",
        "\n",
        "Given tuple: ('a', 'b', 'c', 'd', 'e', 'f', 'g', 'h') <br/>\n",
        "\n",
        "<b> Output: </b> <br/>\n",
        "\n",
        "('h', 'g', 'f', 'e', 'd', 'c', 'b', 'a')<br/>\n",
        "\n",
        "\n",
        "===================================================================\n",
        "\n",
        "<b> Example 2: </b><br/>\n",
        "\n",
        "Given tuple: (10, 20, 30, 40, 50, 60)<br/>\n",
        "\n",
        "<b> Output: </b><br/>\n",
        "\n",
        "(60, 50, 40, 30, 20, 10)\n",
        "\n",
        "===================================================================\n"
      ]
    },
    {
      "cell_type": "code",
      "metadata": {
        "id": "CJrUcYAN6Bkx",
        "colab": {
          "base_uri": "https://localhost:8080/"
        },
        "outputId": "9348376e-43ca-4da9-e738-3170da5985dd"
      },
      "source": [
        "#todo\n",
        "list1=[]\n",
        "a_tuple=('a', 'b', 'c', 'd', 'e', 'f', 'g', 'h')\n",
        "for i in a_tuple:\n",
        "    list1.append(i)\n",
        "new_list=list1[::-1]\n",
        "new_tuple=tuple(new_list)\n",
        "print(new_tuple)"
      ],
      "execution_count": 12,
      "outputs": [
        {
          "output_type": "stream",
          "name": "stdout",
          "text": [
            "('h', 'g', 'f', 'e', 'd', 'c', 'b', 'a')\n"
          ]
        }
      ]
    },
    {
      "cell_type": "code",
      "metadata": {
        "colab": {
          "base_uri": "https://localhost:8080/"
        },
        "id": "iGEMv85IcFZ0",
        "outputId": "bd06de8f-ede2-4a10-dc14-461a95f538b2"
      },
      "source": [
        "#todo\n",
        "list1=[]\n",
        "a_tuple=(10, 20, 30, 40, 50, 60)\n",
        "list1=list(a_tuple)\n",
        "new_list=list1[::-1]\n",
        "new_tuple=tuple(new_list)\n",
        "print(new_tuple)"
      ],
      "execution_count": 11,
      "outputs": [
        {
          "output_type": "stream",
          "name": "stdout",
          "text": [
            "(60, 50, 40, 30, 20, 10)\n"
          ]
        }
      ]
    },
    {
      "cell_type": "markdown",
      "metadata": {
        "id": "km0QurTJtDSX"
      },
      "source": [
        "## Part 2: Dictionary"
      ]
    },
    {
      "cell_type": "markdown",
      "metadata": {
        "id": "kvV-HnCntDSc"
      },
      "source": [
        "### Task 7\n",
        "Suppose you are given two dictionaries.\\\n",
        "Now create a new dictionary \"marks\", merging the two dictionaries, **so that the original two dictionaries remain unchanged.**\n",
        "\n",
        "\n",
        "**Note:** You can use dictionary functions.\n",
        "\n",
        "===================================================================\n",
        "\n",
        "**Given:**\n",
        "\n",
        "{'Harry':15, 'Draco':8, 'Nevil':19}\n",
        "\n",
        "{'Ginie':18, 'Luna': 14}\n",
        "\n",
        "**Output:**\n",
        "\n",
        "{'Harry': 15, 'Draco': 8, 'Nevil': 19, 'Ginie': 18, 'Luna': 14}\n",
        "\n",
        "===================================================================\n",
        "\n",
        "**Given:**\n",
        "\n",
        "{'A':90, 'B': 0}\n",
        "\n",
        "{'C':50}\n",
        "\n",
        "**Output:**\n",
        "\n",
        "{'A': 90, 'B': 0, 'C': 50}\n",
        "\n",
        "===================================================================\n"
      ]
    },
    {
      "cell_type": "code",
      "metadata": {
        "id": "BGSyClBPtDSd",
        "colab": {
          "base_uri": "https://localhost:8080/"
        },
        "outputId": "83dc50e1-a144-4973-d9c9-16bb0d7b5ba7"
      },
      "source": [
        "#todo\n",
        "dict={}\n",
        "dict1={'Harry':15, 'Draco':8, 'Nevil':19}\n",
        "dict2={'Ginie':18, 'Luna': 14}\n",
        "dict.update(dict1)\n",
        "dict.update(dict2)\n",
        "print(dict)\n"
      ],
      "execution_count": 13,
      "outputs": [
        {
          "output_type": "stream",
          "name": "stdout",
          "text": [
            "{'Harry': 15, 'Draco': 8, 'Nevil': 19, 'Ginie': 18, 'Luna': 14}\n"
          ]
        }
      ]
    },
    {
      "cell_type": "markdown",
      "metadata": {
        "id": "QRzP4HYStDSi"
      },
      "source": [
        "### Task 8\n",
        "Write a Python program that takes a dictionary as an input from the user and then prints the average of all the values in the dictionary.\n",
        "\n",
        " <font color='red'>[You are not allowed to use len() and sum()]</font>\n",
        "\n",
        "===================================================================\n",
        "\n",
        "**Hint (1): For taking dictionary input** \n",
        "\n",
        "Approach(1): For taking dictionary as an input from the user, you may take the whole dictionary as a string using the input() function. Then you can use the split(), strip() functions and conditions to get the keys and values from the string. Finally, you can make the dictionary using the obtained data.\n",
        "\n",
        "Approach(2): If the first approach seems too difficult you can create an empty dictionary and then just run a simple loop. For each iteration ask the user for a key and a value using the input() function and keep updating the dictionary with the key and value.\n",
        "\n",
        "\n",
        "**Hint (2):** After you have a dictionary, you can use dictionary functions to get all the values from it, run loop to calculate the sum and the total number of values in the dictionary in order to find out the average.\n",
        "\n",
        "===================================================================\n",
        "\n",
        "**Sample Input 1:**\n",
        "\n",
        "{'Jon': 100, 'Dan':200, 'Rob':300}\n",
        "\n",
        "**Sample Output 1:**\n",
        "\n",
        "Average is 200.\n",
        "\n",
        "===================================================================\n",
        "\n",
        "\n",
        "**Sample Input 2:**\n",
        "\n",
        "{'Jon': 100, 'Dan':200, 'Rob':30, 'Ned':110}\n",
        "\n",
        "**Sample Output 2:**\n",
        "\n",
        "Average is 110.\n",
        "\n",
        "===================================================================\n"
      ]
    },
    {
      "cell_type": "code",
      "metadata": {
        "id": "VMRLnA53tDSk",
        "colab": {
          "base_uri": "https://localhost:8080/"
        },
        "outputId": "cdf7bd84-7a3c-46e4-a623-3dd085152c8b"
      },
      "source": [
        "#todo\n",
        "#approach2\n",
        "dict={}\n",
        "sum=0\n",
        "x=int(input('how many elements will be given: '))\n",
        "for i in range(x):\n",
        "    k=input('Enter key: ')\n",
        "    v=int(input('Enter value: '))\n",
        "    dict[k]=v\n",
        "val=dict.values()#returns a list of all values in a dictionary\n",
        "for j in val:\n",
        "    sum+=j\n",
        "avg=sum/x\n",
        "print(avg)\n"
      ],
      "execution_count": 14,
      "outputs": [
        {
          "output_type": "stream",
          "name": "stdout",
          "text": [
            "how many elements will be given: 3\n",
            "Enter key: Jon\n",
            "Enter value: 100\n",
            "Enter key: Dan\n",
            "Enter value: 200\n",
            "Enter key: Rob\n",
            "Enter value: 300\n",
            "200.0\n"
          ]
        }
      ]
    },
    {
      "cell_type": "code",
      "metadata": {
        "id": "UMw0kikHWwG9",
        "colab": {
          "base_uri": "https://localhost:8080/"
        },
        "outputId": "ddbd452c-ef4d-4821-f0ea-ed71eac1f6aa"
      },
      "source": [
        "#approach 1\n",
        "#input: {'Jon': 100, 'Dan':200, 'Rob':30, 'Ned':110}\n",
        "dicti=input(\"enter dict: \")\n",
        "dic2=dicti[1:-1]#removing brackets\n",
        "list1=dic2.split(', ')\n",
        "print(list1)\n",
        "\n",
        "newdict={}\n",
        "for i in list1:\n",
        "    templist=i.split(':')\n",
        "    #print(templist[0])#contains quotations eg 'Jon'\n",
        "    #print(templist[1])\n",
        "    a=templist[0].strip(\"/'\")\n",
        "    b=int(templist[1])\n",
        "    newdict[a]=b\n",
        "\n",
        "#print(newdict)    \n",
        "val=newdict.values()#returns a list of all values in a dictionary\n",
        "count=0\n",
        "sum=0\n",
        "for j in val:\n",
        "    sum+=j\n",
        "    count+=1\n",
        "avg=sum/count\n",
        "print(avg)\n"
      ],
      "execution_count": 17,
      "outputs": [
        {
          "output_type": "stream",
          "name": "stdout",
          "text": [
            "enter dict: {'Jon': 100, 'Dan':200, 'Rob':30, 'Ned':110}\n",
            "[\"'Jon': 100\", \"'Dan':200\", \"'Rob':30\", \"'Ned':110\"]\n",
            "110.0\n"
          ]
        }
      ]
    },
    {
      "cell_type": "markdown",
      "metadata": {
        "id": "le7fZ8XC9j_x"
      },
      "source": [
        "### Task 9\n",
        "Suppose there is a dictionary named exam_marks as given below.\n",
        "\n",
        "exam_marks = {'Cierra Vega': 175, 'Alden Cantrell': 200, 'Kierra Gentry': 165, 'Pierre Cox': 190}\n",
        "\n",
        "Write a Python program that takes an input from the user and creates a new dictionary with only those elements from 'exam_marks' whose keys have values higher than the user input (inclusive).\n",
        "\n",
        "===================================================================\n",
        "\n",
        "**Sample Input 1:**\n",
        "\n",
        "170\n",
        "\n",
        "**Sample Output 1:**\n",
        "\n",
        "{'Cierra Vega': 175, 'Alden Cantrell': 200, 'Pierre Cox': 190}\n",
        "\n",
        "===================================================================\n",
        "\n",
        "**Sample Input 2:**\n",
        "\n",
        "190\n",
        "\n",
        "**Sample Output 2:**\n",
        "\n",
        "{'Alden Cantrell': 200, 'Pierre Cox': 190}\n",
        "\n",
        "==================================================================="
      ]
    },
    {
      "cell_type": "code",
      "metadata": {
        "id": "qJWoUsLN9lBY",
        "colab": {
          "base_uri": "https://localhost:8080/"
        },
        "outputId": "1713f1b1-0ebf-44c8-8433-18b4f3564c66"
      },
      "source": [
        "#todo\n",
        "exam_marks = {'Cierra Vega': 175, 'Alden Cantrell': 200, 'Kierra Gentry': 165, 'Pierre Cox': 190}\n",
        "x=int(input(\"enter value: \"))\n",
        "new_dict={}\n",
        "for key,value in exam_marks.items():\n",
        "    if (value>=x):\n",
        "        new_dict[key]=value\n",
        "print(new_dict)\n",
        "        "
      ],
      "execution_count": 18,
      "outputs": [
        {
          "output_type": "stream",
          "name": "stdout",
          "text": [
            "enter value: 190\n",
            "{'Alden Cantrell': 200, 'Pierre Cox': 190}\n"
          ]
        }
      ]
    },
    {
      "cell_type": "markdown",
      "metadata": {
        "id": "IsqFQpqKtDSs"
      },
      "source": [
        "### Task 10\n",
        "Write a Python program that finds the largest value with its key from a given dictionary.  \n",
        "\n",
        "<font color='red'>\n",
        "[You are not allowed to use the max() function for this task]</font> \n",
        "\n",
        "**Note:** You do not need to take the dictionaries as an input from the user but your code should work for any given dictionary. Also, you need to handle the quotation marks as a part of the output.\n",
        "\n",
        "**Hint:** Think of membership operators (in and not in). You can use dictionary functions to get the values.\n",
        "\n",
        "===================================================================\n",
        "\n",
        "Sample 1:\n",
        "\n",
        "**Given:**\n",
        "\n",
        "{'sci fi': 12, 'mystery': 15, 'horror': 8, 'mythology': 10, 'young_adult': 4, 'adventure':14}\n",
        "\n",
        "**Output:**\n",
        "\n",
        "The highest selling book genre is 'mystery' and the number of books sold are 15.\n",
        "\n",
        "===================================================================\n",
        "\n",
        "Sample 2:\n",
        "\n",
        "**Given:**\n",
        "\n",
        "{'sci fi': 5, 'mystery': 3, 'horror': 14,\n",
        "             'young_adult': 2, 'adventure':9}\n",
        "\n",
        "**Output:**\n",
        "\n",
        "The highest selling book genre is  'horror'  and the number of books sold are 14.\n",
        "\n",
        "===================================================================\n"
      ]
    },
    {
      "cell_type": "code",
      "metadata": {
        "id": "v9Kosgs4tDSt",
        "colab": {
          "base_uri": "https://localhost:8080/"
        },
        "outputId": "145146d8-3d88-49bf-9897-2ec6c8186d65"
      },
      "source": [
        "#todo\n",
        "dict={'sci fi': 5, 'mystery': 3, 'horror': 14, 'young_adult': 2, 'adventure':9} \n",
        "\n",
        "for i in dict:\n",
        "  largest=dict[i]#setting largest as first value in dict\n",
        "  name=i\n",
        "  break\n",
        "#print(name)  \n",
        "for key,value in dict.items():\n",
        "    if (value > largest):\n",
        "        largest=value\n",
        "        name=key\n",
        "        \n",
        "print(\"The highest selling book genre is '\"+str(name)+\"' and the number of books sold are\",largest)"
      ],
      "execution_count": 19,
      "outputs": [
        {
          "output_type": "stream",
          "name": "stdout",
          "text": [
            "sci fi\n",
            "The highest selling book genre is 'horror' and the number of books sold are 14\n"
          ]
        }
      ]
    },
    {
      "cell_type": "markdown",
      "metadata": {
        "id": "qozufw7itDSy"
      },
      "source": [
        "### Task 11\n",
        "Write a Python program that combines two dictionaries by **adding values for common keys**. \n",
        "\n",
        "**Note:** You do not need to take any dictionary as an input from the user but your task should work for any two given dictionaries.\n",
        "\n",
        "**Hint:** Think of membership operators (in and not in). You can use dictionary functions to get the values. You may need to create a new dictionary to store the combined items.\n",
        "\n",
        "===================================================================\n",
        "\n",
        "**Example 1:**\n",
        "\n",
        "Given:\n",
        "\n",
        "dict1 = {'a': 10, 'b':20, 'c':30}\\\n",
        "dict2 = {'a': 10, 'c':20, 'd':30, 'e':40}\n",
        "\n",
        "**Output:**\n",
        "\n",
        "{'a': 20, 'b': 20, 'c': 50, 'd': 30, 'e': 40}\n",
        "\n",
        "===================================================================\n",
        "\n",
        "**Example 2:**\n",
        "\n",
        "Given:\n",
        "\n",
        "dict1 = {'chocolate': -100, 'ice_cream': 50}\\\n",
        "dict2 = {'fanta':-500, 'chocolate': -100, '7_up':400}\n",
        "\n",
        "**Output:**\n",
        "\n",
        "{'chocolate': -200, 'ice_cream': 50, 'fanta': -500, '7_up': 400}\n",
        "\n",
        "==================================================================="
      ]
    },
    {
      "cell_type": "code",
      "metadata": {
        "id": "S0EIYODZtDSz",
        "colab": {
          "base_uri": "https://localhost:8080/"
        },
        "outputId": "8d5f4430-df06-4da8-e71a-514afa541f8f"
      },
      "source": [
        "#to do\n",
        "dict1 = {'chocolate': -100, 'ice_cream': 50}\n",
        "dict2 = {'fanta':-500, 'chocolate': -100, '7_up':400}\n",
        "dict3={}\n",
        "for key,value in dict1.items():\n",
        "  if key in dict2:#if common\n",
        "      dict3[key]=dict1[key]+dict2[key]#adding values\n",
        "  else:\n",
        "      dict3[key]=dict1[key]\n",
        "for key,value in dict2.items():#adding rest/uncommon values\n",
        "  if key not in dict1:\n",
        "    dict3[key]=dict2[key]\n",
        "\n",
        "print(dict3)    \n"
      ],
      "execution_count": 24,
      "outputs": [
        {
          "output_type": "stream",
          "name": "stdout",
          "text": [
            "{'chocolate': -200, 'ice_cream': 50, 'fanta': -500, '7_up': 400}\n"
          ]
        }
      ]
    },
    {
      "cell_type": "markdown",
      "metadata": {
        "id": "d0a82nIt9ufj"
      },
      "source": [
        "### Task 12\n",
        "Write a Python program which prints the frequency of numbers given as input by the user. You should stop taking input when you find the string \"STOP\".\n",
        "\n",
        "\n",
        "**Note:** Use a dictionary to solve the problem\n",
        "\n",
        "===================================================================\n",
        "\n",
        "**Sample Input:**\n",
        "\n",
        "10, 20, 20, 30, 10, 50, 90, 50, 20, STOP\n",
        "\n",
        "**Sample Output:**\n",
        "\n",
        "Frequency of numbers:\\\n",
        "10 - 2 times\\\n",
        "20 - 3 times\\\n",
        "30 - 1 times\\\n",
        "50 - 2 times\\\n",
        "90 - 1 times\n",
        "\n",
        "===================================================================\n"
      ]
    },
    {
      "cell_type": "code",
      "metadata": {
        "id": "snOKGA1d9vFC",
        "colab": {
          "base_uri": "https://localhost:8080/"
        },
        "outputId": "9b47aac2-7ce4-4120-90af-92b95804a0a9"
      },
      "source": [
        "#to do\n",
        "dict1={}\n",
        "while True:\n",
        "  inp=input(\"Enter number of STOP to end: \")\n",
        "  if inp==\"STOP\":\n",
        "    break\n",
        "  else:\n",
        "    if inp in dict1:\n",
        "      dict1[inp]+=1\n",
        "    else:\n",
        "      dict1[inp]=1\n",
        "print(dict1) \n",
        "print(\"Frequency of numbers:\")\n",
        "for key,value in dict1.items():\n",
        "  print(key,'-',value,\"times\")     \n",
        "\n"
      ],
      "execution_count": 28,
      "outputs": [
        {
          "output_type": "stream",
          "name": "stdout",
          "text": [
            "Enter number of STOP to end: 10\n",
            "Enter number of STOP to end: 20\n",
            "Enter number of STOP to end: 20\n",
            "Enter number of STOP to end: 30\n",
            "Enter number of STOP to end: 10\n",
            "Enter number of STOP to end: 50\n",
            "Enter number of STOP to end: 90\n",
            "Enter number of STOP to end: 50\n",
            "Enter number of STOP to end: 20\n",
            "Enter number of STOP to end: STOP\n",
            "{'10': 2, '20': 3, '30': 1, '50': 2, '90': 1}\n",
            "Frequency of numbers:\n",
            "10 - 2 times\n",
            "20 - 3 times\n",
            "30 - 1 times\n",
            "50 - 2 times\n",
            "90 - 1 times\n"
          ]
        }
      ]
    },
    {
      "cell_type": "markdown",
      "metadata": {
        "id": "hAqjgwGNtDS2"
      },
      "source": [
        "### Task 13\n",
        "Write a Python program that takes a String as an input from the user and counts the frequency of each character using a dictionary. For solving this problem, you may use each character as a key and its frequency as values. <font color='red'>[You are not allowed to use the count() function]</font> \n",
        "\n",
        "**Hint:** You can create a new dictionary to store the frequencies. You may ignore case for simplicity (i.e. may consider P and p to be the same).\n",
        "\n",
        "\n",
        "===================================================================\n",
        "\n",
        "**Sample Input:**\\\n",
        "\"Python programming is fun\"\n",
        "\n",
        "**Sample Output:**\\\n",
        "{'p': 2, 'y': 1, 't': 1, 'h': 1, 'o': 2, 'n': 3, 'r': 2, 'g': 2, 'a': 1, 'm': 2, 'i': 2, 's': 1, 'f': 1, 'u': 1}\n",
        "\n",
        "===================================================================\n",
        "\n"
      ]
    },
    {
      "cell_type": "code",
      "metadata": {
        "colab": {
          "base_uri": "https://localhost:8080/"
        },
        "id": "uX2GI8lUkdS8",
        "outputId": "2140017f-ccaa-4f72-d84e-3232332202ee"
      },
      "source": [
        "#todo\n",
        "input_str= input(\"Enter a string:\")\n",
        "input_str1 = input_str.lower()\n",
        "new_dict = {}\n",
        "\n",
        "for character in input_str1:\n",
        "    if (character == \" \"):\n",
        "        continue\n",
        "    new_dict[character]=new_dict.get(character,0)+1 #get method returns 0 if key not found, else return value of that key\n",
        "print(new_dict)"
      ],
      "execution_count": 35,
      "outputs": [
        {
          "output_type": "stream",
          "name": "stdout",
          "text": [
            "Enter a string:Python programming is fun\n",
            "{'p': 2, 'y': 1, 't': 1, 'h': 1, 'o': 2, 'n': 3, 'r': 2, 'g': 2, 'a': 1, 'm': 2, 'i': 2, 's': 1, 'f': 1, 'u': 1}\n"
          ]
        }
      ]
    },
    {
      "cell_type": "code",
      "metadata": {
        "id": "-m2yPIT7tDS3",
        "colab": {
          "base_uri": "https://localhost:8080/"
        },
        "outputId": "44947b30-d375-40a4-8d73-8eeb24ccc4a2"
      },
      "source": [
        "#todo\n",
        "input_str= input(\"Enter a string:\")\n",
        "input_str1 = input_str.lower()\n",
        "new_dict = {}\n",
        "\n",
        "for character in input_str1:\n",
        "    if (character == \" \"):\n",
        "        continue\n",
        "    else:    \n",
        "      if character in new_dict:\n",
        "        new_dict[character]+=1\n",
        "      else:\n",
        "        new_dict[character]=1\n",
        "print(new_dict)"
      ],
      "execution_count": 33,
      "outputs": [
        {
          "output_type": "stream",
          "name": "stdout",
          "text": [
            "Enter a string:Python programming is fun\n",
            "{'p': 2, 'y': 1, 't': 1, 'h': 1, 'o': 2, 'n': 3, 'r': 2, 'g': 2, 'a': 1, 'm': 2, 'i': 2, 's': 1, 'f': 1, 'u': 1}\n"
          ]
        }
      ]
    },
    {
      "cell_type": "markdown",
      "metadata": {
        "id": "QWf1zsBctDS6"
      },
      "source": [
        "### Task 14\n",
        "Suppose you are given the following dictionary where the values are lists. \n",
        "\n",
        "dict = {'A': [1, 2, 3], 'b': ['1', '2'], \"c\": [4, 5, 6, 7]}\n",
        "\n",
        "Write a Python program that counts the total number of items in a dictionary’s values and prints it. <font color='red'>\n",
        "\n",
        "[without using sum(), len(), count() functions]</font> \n",
        "\n",
        "**Note:**  Make changes to the above dictionary and see if your code works properly for other dictionaries as well.\n",
        "\n",
        "===================================================================\n",
        "\n",
        "**Output:**\n",
        "\n",
        "9\n",
        "\n",
        "===================================================================\n",
        "\n"
      ]
    },
    {
      "cell_type": "code",
      "metadata": {
        "id": "atnD3A1utDS6",
        "colab": {
          "base_uri": "https://localhost:8080/"
        },
        "outputId": "2bea4587-25fc-452e-d8cd-36cb4028d2e5"
      },
      "source": [
        "#todo\n",
        "input_dict = {'A': [1,2,3], 'b': ['1', '2'], \"c\": [4, 5, 6, 7]}\n",
        "length=0\n",
        "\n",
        "for key,val in input_dict.items():\n",
        "    value_list = val\n",
        "    #print(value_list)\n",
        "    for character in value_list:\n",
        "        length +=1\n",
        "print(length)"
      ],
      "execution_count": 36,
      "outputs": [
        {
          "output_type": "stream",
          "name": "stdout",
          "text": [
            "9\n"
          ]
        }
      ]
    },
    {
      "cell_type": "markdown",
      "metadata": {
        "id": "-imuPb3EtDTD"
      },
      "source": [
        "### Task 15\n",
        "\n",
        "Suppose you have been given the following list of tuples. \n",
        "\n",
        "list = [(\"a\", 1), (\"b\", 2), (\"a\", 3), (\"b\", 1), (\"a\", 2), (\"c\", 1)]\n",
        "\n",
        "Write a Python program that converts this list of tuples into a dictionary and then prints the dictionary. \n",
        "\n",
        "<font color='red'>[You are not allowed to use set]</font> \n",
        "\n",
        "\n",
        "**Hint:** Think of membership operators (in and not in).\n",
        "\n",
        "===================================================================\n",
        "\n",
        "**Output:**\n",
        "\n",
        "{'a': [1, 3, 2], 'b': [2, 1], 'c': [1]}\n",
        "\n",
        " ===================================================================\n"
      ]
    },
    {
      "cell_type": "code",
      "metadata": {
        "id": "bBBcHpgYtDTE",
        "colab": {
          "base_uri": "https://localhost:8080/"
        },
        "outputId": "0e40fee3-eea7-4aad-c894-9870d8d5fa4e"
      },
      "source": [
        "#todo\n",
        "#todo\n",
        "list = [(\"a\", 1), (\"b\", 2), (\"a\", 3), (\"b\", 1), (\"a\", 2), (\"c\", 1)]\n",
        "new_dict={}\n",
        "\n",
        "for i in list:\n",
        "    if i[0] not in new_dict:\n",
        "        new_dict[i[0]] = [i[1]]\n",
        "    else:\n",
        "        new_dict[i[0]].append(i[1])\n",
        "print(new_dict)"
      ],
      "execution_count": 37,
      "outputs": [
        {
          "output_type": "stream",
          "name": "stdout",
          "text": [
            "{'a': [1, 3, 2], 'b': [2, 1], 'c': [1]}\n"
          ]
        }
      ]
    },
    {
      "cell_type": "markdown",
      "metadata": {
        "id": "UrxbFOWk5ASO"
      },
      "source": [
        "## Optional Tasks (16-21) [Ungraded]"
      ]
    },
    {
      "cell_type": "markdown",
      "metadata": {
        "id": "vtQRbX994-Se"
      },
      "source": [
        "### Task 16\n",
        "\n",
        "Given a list of tuples, your task is to multiply the elements of the tuple and return a list of multiplied elements as shown below.\n",
        "\n",
        "===================================================================\n",
        "\n",
        "**Example 1:**\n",
        "\n",
        "Given: \n",
        "\n",
        "[(2, 3), (4, 5), (6, 7), (2, 8)]\n",
        "\n",
        "**Output:**\n",
        "\n",
        "[6, 20, 42, 16]\n",
        "\n",
        "===================================================================\n",
        "\n",
        "**Example 2:**\n",
        "\n",
        "Given:\n",
        "\n",
        " [(11, 22), (33, 55), (55, 77), (11, 44)]\n",
        "\n",
        "**Output:**\n",
        "\n",
        "[242, 1815, 4235, 484]\n",
        "\n",
        "==================================================================="
      ]
    },
    {
      "cell_type": "code",
      "metadata": {
        "id": "xy-E_k6y5maj",
        "colab": {
          "base_uri": "https://localhost:8080/"
        },
        "outputId": "4c3af856-1b31-4a23-e4da-7d2e79ebe994"
      },
      "source": [
        "#to do\n",
        "a=[(11, 22), (33, 55), (55, 77), (11, 44)]\n",
        "new_list=[]\n",
        "for i in a:\n",
        "  new_list.append(i[0]*i[1])\n",
        "print(new_list)  \n",
        "\n"
      ],
      "execution_count": 38,
      "outputs": [
        {
          "output_type": "stream",
          "name": "stdout",
          "text": [
            "[242, 1815, 4235, 484]\n"
          ]
        }
      ]
    },
    {
      "cell_type": "markdown",
      "metadata": {
        "id": "jZQHbegc-QBA"
      },
      "source": [
        "### Task 17\n",
        "\n",
        "Assume, you have been given a tuple as below.\n",
        "\n",
        "a_tuple = ( [1, 2, 3], [4, 5, 6], [7, 8, 9], [10, 11, 12])\n",
        "\n",
        "Write a Python program that asks the user for an input (can be any data type) and **replaces the last element of each of the inner lists with the user given value.**\n",
        "\n",
        "===================================================================\n",
        "\n",
        "**Sample Input 1:**\n",
        "\n",
        "abc\n",
        "\n",
        "**Sample Output 1:** \n",
        "\n",
        "([1, 2, 'abc'], [4, 5, 'abc'], [7, 8, 'abc'], [10, 11, 'abc'])\n",
        "\n",
        "===================================================================\n",
        "\n",
        "**Sample Input 1:**\n",
        "\n",
        "1000\n",
        "\n",
        "**Sample Output 1:** \n",
        "\n",
        "([1, 2, '1000'], [4, 5, '1000'], [7, 8, '1000'], [10, 11, '1000'])\n",
        "\n",
        "==================================================================="
      ]
    },
    {
      "cell_type": "code",
      "metadata": {
        "id": "SjdnEjCz5op1",
        "colab": {
          "base_uri": "https://localhost:8080/"
        },
        "outputId": "46f836d9-1afb-41e4-9f7c-97c28f339a8c"
      },
      "source": [
        "#todo\n",
        "#tuples are immutable but mutable objects inside tuple (eg lists) can be changed\n",
        "a_tuple = ( [1, 2, 3], [4, 5, 6], [7, 8, 9], [10, 11, 12])\n",
        "replace=input(\"enter input: \")\n",
        "for i in a_tuple:\n",
        "  #a_tuple[count][len(i)-1]=replace\n",
        "  i[len(i)-1]=replace\n",
        "print(a_tuple)  \n"
      ],
      "execution_count": 40,
      "outputs": [
        {
          "output_type": "stream",
          "name": "stdout",
          "text": [
            "enter input: abc\n",
            "([1, 2, 'abc'], [4, 5, 'abc'], [7, 8, 'abc'], [10, 11, 'abc'])\n"
          ]
        }
      ]
    },
    {
      "cell_type": "markdown",
      "metadata": {
        "id": "dVZrZ8Od6WwM"
      },
      "source": [
        "### Task 18\n",
        "\n",
        "Suppose there is a dictionary named my_dictionary.\n",
        "\n",
        "my_dictionary = {'c1':'Red', 'c2':'Green', 'c3':None, 'd4':'Blue', 'a5':None}.\n",
        "\n",
        "Now write a Python program to remove empty items from the dictionary. [Empty items means keys without any values (None)].\n",
        "\n",
        "===================================================================\n",
        "\n",
        "**Output:**\n",
        "\n",
        "{'c1':'Red', 'c2':'Green', 'd4':'Blue'}\n",
        "\n",
        "==================================================================="
      ]
    },
    {
      "cell_type": "code",
      "metadata": {
        "id": "cK9Nh7-F6YUE",
        "colab": {
          "base_uri": "https://localhost:8080/"
        },
        "outputId": "7051fe08-fe37-4b63-f874-07ac0f5bfcd5"
      },
      "source": [
        "#to do\n",
        "my_dictionary = {'c1':'Red', 'c2':'Green', 'c3':None, 'd4':'Blue', 'a5':None}\n",
        "b=my_dictionary.copy()\n",
        "for key,value in b.items():\n",
        "  if value==None:\n",
        "    del my_dictionary[key] #The del keyword removes the item with the specified key name:\n",
        "print(my_dictionary)\n"
      ],
      "execution_count": 41,
      "outputs": [
        {
          "output_type": "stream",
          "name": "stdout",
          "text": [
            "{'c1': 'Red', 'c2': 'Green', 'd4': 'Blue'}\n"
          ]
        }
      ]
    },
    {
      "cell_type": "code",
      "metadata": {
        "colab": {
          "base_uri": "https://localhost:8080/"
        },
        "id": "ETyLYXA7mgj0",
        "outputId": "0fb9e0c9-c77e-4372-ed5f-585ef1c3b170"
      },
      "source": [
        "#to do\n",
        "my_dictionary = {'c1':'Red', 'c2':'Green', 'c3':None, 'd4':'Blue', 'a5':None}\n",
        "b=my_dictionary.copy()\n",
        "for key,value in b.items():\n",
        "  if value==None:\n",
        "    my_dictionary.pop(key)#The pop() method removes the item with the specified key name:\n",
        "print(my_dictionary)\n"
      ],
      "execution_count": 42,
      "outputs": [
        {
          "output_type": "stream",
          "name": "stdout",
          "text": [
            "{'c1': 'Red', 'c2': 'Green', 'd4': 'Blue'}\n"
          ]
        }
      ]
    },
    {
      "cell_type": "markdown",
      "metadata": {
        "id": "_W2bOMJn62xF"
      },
      "source": [
        "### Task 19\n",
        "\n",
        "Suppose you are given a dictionary as shown below. Write a Python program that takes two inputs from the user representing the lower (inclusive) and upper (exclusive) of a range of values. Your task is to extract all the items from the dictionary whose values lie in the range given as input by the user.\n",
        "\n",
        "dictionary = {'a' : 6, 'b' : 7, 'c' : 9, 'd' : 8, 'e' : 11, 'f' : 12, 'g' : 13}\n",
        "\n",
        "===================================================================\n",
        "\n",
        "**Sample Input 1:**\n",
        "\n",
        "9, 12\n",
        "\n",
        "**Sample Output 1:**\n",
        "\n",
        "{'c': 9, 'e': 11}\n",
        "\n",
        "**Explanation:**  Keys with values within the range of 9 and 11 are extracted.\n",
        "\n",
        "===================================================================\n",
        "\n",
        "**Sample Input 2:** \n",
        "\n",
        "14, 18\n",
        "\n",
        "**Sample Output 2 :**\n",
        "\n",
        "{}\n",
        "\n",
        "**Explanation:**  No values in range.\n",
        "\n",
        "==================================================================="
      ]
    },
    {
      "cell_type": "code",
      "metadata": {
        "id": "MLh9VlLD633D",
        "colab": {
          "base_uri": "https://localhost:8080/"
        },
        "outputId": "cd35bf14-4dca-4d00-a954-cdee059612ac"
      },
      "source": [
        "#to do\n",
        "dictionary = {'a' : 6, 'b' : 7, 'c' : 9, 'd' : 8, 'e' : 11, 'f' : 12, 'g' : 13}\n",
        "a=int(input('enter min: '))\n",
        "b=int(input('enter max: '))\n",
        "dict2={}\n",
        "for key,value in dictionary.items():\n",
        "  if value>=a and value <b:\n",
        "    dict2[key]=value\n",
        "print(dict2)    \n"
      ],
      "execution_count": 46,
      "outputs": [
        {
          "output_type": "stream",
          "name": "stdout",
          "text": [
            "enter min: 9\n",
            "enter max: 12\n",
            "{'c': 9, 'e': 11}\n"
          ]
        }
      ]
    },
    {
      "cell_type": "markdown",
      "metadata": {
        "id": "zC94TVcD7LqM"
      },
      "source": [
        "### Task 20\n",
        "\n",
        "Given a list of tuples, your task is to group the tuples based on the **second** element in the tuples as shown in the examples below. We can achieve this using **dictionary** by checking the second element in each tuple.\n",
        "\n",
        "[You do not need to take tuple as input and can assume that it is given as below]\n",
        "\n",
        "===================================================================\n",
        "\n",
        "**Example 1:**\n",
        "\n",
        "Given:\n",
        "\n",
        "[(20, 80), (31, 80), (1, 22), (88, 11), (27, 11)]\n",
        "\n",
        "**Output:**\n",
        "\n",
        "{80: [(20, 80), (31, 80)],\\\n",
        "         11: [(88, 11), (27, 11)],\\\n",
        "         22: [(1, 22)]}\n",
        "       \n",
        "===================================================================\n",
        "\n",
        "**Example 2:**\n",
        "\n",
        "Given:\n",
        "\n",
        "[(20, 'Sad'), (31, 'Sad'), (88, 'NotSad'), (27, 'NotSad')]\n",
        "\n",
        "**Output:**\n",
        "\n",
        "{'NotSad': [(88, 'NotSad'), (27, 'NotSad')],\\\n",
        "         'Sad: [(20, 'Sad'), (31, 'Sad')]}\n",
        "\n",
        "==================================================================="
      ]
    },
    {
      "cell_type": "code",
      "metadata": {
        "id": "zAunp7oZ7H-l",
        "colab": {
          "base_uri": "https://localhost:8080/"
        },
        "outputId": "c5cbccb8-5741-4586-f5af-b8ac1a9ee1bc"
      },
      "source": [
        "#todo\n",
        "list1=[(20, 80), (31, 80), (1, 22), (88, 11), (27, 11)]\n",
        "dictionary={}\n",
        "for i in list1:\n",
        "      second_elem=i[1]\n",
        "      if i[1] not in dictionary:#if that key has no value\n",
        "        dictionary[second_elem]=[i]\n",
        "      else:\n",
        "        dictionary[second_elem].append(i)  \n",
        "print(dictionary)      "
      ],
      "execution_count": 47,
      "outputs": [
        {
          "output_type": "stream",
          "name": "stdout",
          "text": [
            "{80: [(20, 80), (31, 80)], 22: [(1, 22)], 11: [(88, 11), (27, 11)]}\n"
          ]
        }
      ]
    },
    {
      "cell_type": "markdown",
      "metadata": {
        "id": "Al7LDo_m8TAX"
      },
      "source": [
        "### Task 21\n",
        "\n",
        "\n",
        "Write a python program that takes 2 inputs from the user. \n",
        "\n",
        "* Input1: A string containing a single sentence or multiple sentences. Multiple sentences are separated by full stops.\n",
        "* Input2: A list containing special characters.\n",
        "\n",
        "After taking the inputs, your task is to create a dictionary where the **keys** will be the corresponding special characters from the given list and the **values** will be the words in the given sentence. \n",
        "\n",
        "You need to find out which key belongs to which value. To do that, you should calculate the **index number** using the formula given below. **The calculated index is the corresponding key of the word.** Make sure no duplicate values are inserted.\n",
        "\n",
        "&nbsp;&nbsp;&nbsp;&nbsp;\n",
        "\n",
        "**The formula:**\\\n",
        "**<font color='blue'>*Index value of special character list = (ASCII sum of the word) % (length of special character list)*</font>**\n",
        "\n",
        "\n",
        "=============================================================================\n",
        "\n",
        "\n",
        "**Sample Input 1**:\\\n",
        "'I love Programming. Python is love.'\\\n",
        "['@', '$', '&', '#']\n",
        " \n",
        "**Sample Output 1**:\\\n",
        "Words in the given String: ['I', 'love', 'Programming', 'Python', 'is', 'love']\\\n",
        "Answer: {'$': ['I'], '&': ['love', 'Python'], '#': ['Programming'], '@': ['is']}\n",
        " \n",
        "**Explanation 1:**\\\n",
        "From the string 'I love Programming. Python is love.' the {key: value} pair is calculated accordingly:\n",
        "\n",
        "\n",
        "| Word | ASCII sum|List length|Calculated index|Key|\n",
        "| --- | --- | --- | --- | --- | \n",
        "|I| 73|4| 73%4 = 1|'$'|\n",
        "|  |  |  |  |  |\n",
        "|love| 438|4| 438%4 = 2|'&'|\n",
        "|  |  |  |  |  |\n",
        "|Programming| 1155|4| 1155%4 = 3|'#'|\n",
        "|  |  |  |  |  |\n",
        "|Python| 642|4| 642%4 = 2|'&'|\n",
        "|  |  |  |  |  |\n",
        "|is| 220|4| 220%4 = 0|'@'|\n",
        "|  |  |  |  |  |\n",
        "|love| 438|4| 438%4 = 2|'&'|\n",
        "|  |  |  |  |  |\n",
        "\n",
        "\n",
        "The calculation is shown in the given table. Full stops after ‘Programming.’ and ‘love.’ are avoided. Also, the last word ‘love’ is a duplicate, and therefore, it was not inserted again as a value. \n",
        "\n",
        "\n",
        "\n",
        "=============================================================================\n",
        "\n",
        "\n",
        "**Sample Input 2**:\\\n",
        "'The secret of getting ahead is getting started.'\\\n",
        "['-', '=', '+', '*', '%']\n",
        " \n",
        "**Sample Output 2:**\\\n",
        "Words in the given String: ['The', 'secret', 'of', 'getting', 'ahead', 'is', 'getting', 'started']\\\n",
        "Answer: {'%': ['The', 'getting', 'ahead', 'started'], '=': ['secret'], '*': ['of'], '-': ['is']}\n",
        " \n",
        "**Explanation 2:**\\\n",
        "From the string 'The secret of getting ahead is getting started.' the {key: value} pair is calculated accordingly:\n",
        "\n",
        "\n",
        "| Word | ASCII sum|List length|Calculated index|Key|\n",
        "| --- | --- | --- | --- | --- | \n",
        "|The| 289|5| 289%5 = 4|'%'|\n",
        "|  |  |  |  |  |\n",
        "|secret| 646|5| 646%5 = 1|'='|\n",
        "|  |  |  |  |  |\n",
        "|of| 213|5| 213%5 = 3|'*'|\n",
        "|  |  |  |  |  |\n",
        "|getting| 754|5| 754%5 = 4|'%'|\n",
        "|  |  |  |  |  |\n",
        "|ahead| 499|5| 499%5 = 4|'%'|\n",
        "|  |  |  |  |  |\n",
        "|is| 220|5| 220%5 = 0|'-'|\n",
        "|  |  |  |  |  |\n",
        "|getting| 754|5| 754%5 = 4|'%'|\n",
        "|  |  |  |  |  |\n",
        "|started| 759|5| 759%5 = 4|'%'|\n",
        "|  |  |  |  |  |\n",
        "\n",
        "\n",
        "The calculation is shown in the given table. Full stop after ‘started.’ is avoided. Also, the word ‘getting’ is a duplicate and therefore it was not inserted again as a value. \n",
        "\n",
        "=============================================================================\n"
      ]
    },
    {
      "cell_type": "code",
      "metadata": {
        "colab": {
          "base_uri": "https://localhost:8080/"
        },
        "id": "l80ZsAT5ru9P",
        "outputId": "2442546b-a1a6-46a7-e216-d6ef878e583e"
      },
      "source": [
        "#to do\n",
        "inp1=input(\"enter string: \")\n",
        "inp2=input(\"enter list: \")\n",
        "['-', '=', '+', '*', '%']\n",
        "\n",
        "#creating list from inp2\n",
        "inp2=inp2[1:-1]#removing brackets\n",
        "inp2=inp2.split(',')\n",
        "for i in range(len(inp2)):\n",
        "  temp=inp2[i].strip(\" \")#removing white space\n",
        "  temp=temp.strip(\"/'\")#removing quotation\n",
        "  inp2[i]=temp\n",
        "print(inp2)\n",
        "#--------------------\n",
        "\n",
        "\n",
        "list1=inp1.split(' ')\n",
        "#print(list1)\n",
        "for i in range(len(list1)):#removing '.'\n",
        "  list1[i]=list1[i].strip('.')\n",
        "#print(list1) #words with duplicates \n",
        "list2=[]#words without any duplicates\n",
        "for i in list1:\n",
        "  if i not in list2:\n",
        "    list2.append(i)\n",
        "print(list2)    \n",
        "\n",
        "dict1={}\n",
        "for word in list2:\n",
        "  sum=0\n",
        "  for char in word:\n",
        "    sum+=ord(char)\n",
        "  index=int(sum%len(inp2)) \n",
        "  if inp2[index] not in dict1:\n",
        "    dict1[inp2[index]]=[word]\n",
        "  else:\n",
        "    dict1[inp2[index]].append(word)\n",
        "\n",
        "print(\"Words in the given String:\",list1)\n",
        "print(\"Answer:\",dict1)\n"
      ],
      "execution_count": 61,
      "outputs": [
        {
          "output_type": "stream",
          "name": "stdout",
          "text": [
            "enter string: I love Programming. Python is love.\n",
            "enter list: ['@', '$', '&', '#']\n",
            "['@', '$', '&', '#']\n",
            "['I', 'love', 'Programming', 'Python', 'is']\n",
            "Words in the given String: ['I', 'love', 'Programming', 'Python', 'is', 'love']\n",
            "Answer: {'$': ['I'], '&': ['love', 'Python'], '#': ['Programming'], '@': ['is']}\n"
          ]
        }
      ]
    },
    {
      "cell_type": "code",
      "metadata": {
        "id": "2w_nmFoN8ZBL",
        "colab": {
          "base_uri": "https://localhost:8080/"
        },
        "outputId": "a48e1c55-4c19-4869-b1de-b22a7354267e"
      },
      "source": [
        "#to do #same without the inputs\n",
        "inp1='The secret of getting ahead is getting started.'\n",
        "inp2=['-', '=', '+', '*', '%']\n",
        "\n",
        "list1=inp1.split(' ')\n",
        "print(list1)\n",
        "for i in range(len(list1)):#removing '.'\n",
        "  list1[i]=list1[i].strip('.')\n",
        "print(list1) #words with duplicates \n",
        "list2=[]#words without any duplicates\n",
        "for i in list1:\n",
        "  if i not in list2:\n",
        "    list2.append(i)\n",
        "print(list2)    \n",
        "\n",
        "dict1={}\n",
        "for word in list2:\n",
        "  sum=0\n",
        "  for char in word:\n",
        "    sum+=ord(char)\n",
        "  index=int(sum%len(inp2)) \n",
        "  if inp2[index] not in dict1:\n",
        "    dict1[inp2[index]]=[word]\n",
        "  else:\n",
        "    dict1[inp2[index]].append(word)\n",
        "\n",
        "print(\"Words in the given String:\",list1)\n",
        "print(\"Answer:\",dict1)\n",
        "\n",
        "\n",
        "\n",
        "\n",
        "\n"
      ],
      "execution_count": 56,
      "outputs": [
        {
          "output_type": "stream",
          "name": "stdout",
          "text": [
            "['The', 'secret', 'of', 'getting', 'ahead', 'is', 'getting', 'started.']\n",
            "['The', 'secret', 'of', 'getting', 'ahead', 'is', 'getting', 'started']\n",
            "['The', 'secret', 'of', 'getting', 'ahead', 'is', 'started']\n",
            "Words in the given String: ['The', 'secret', 'of', 'getting', 'ahead', 'is', 'getting', 'started']\n",
            "Answer: {'%': ['The', 'getting', 'ahead', 'started'], '=': ['secret'], '*': ['of'], '-': ['is']}\n"
          ]
        }
      ]
    },
    {
      "cell_type": "code",
      "metadata": {
        "id": "k2iBVxSZo9o0"
      },
      "source": [
        "Words in the given String: ['The', 'secret', 'of', 'getting', 'ahead', 'is', 'getting', 'started']\n",
        "Answer: {'%': ['The', 'getting', 'ahead', 'started'], '=': ['secret'], '*': ['of'], '-': ['is"
      ],
      "execution_count": null,
      "outputs": []
    }
  ]
}