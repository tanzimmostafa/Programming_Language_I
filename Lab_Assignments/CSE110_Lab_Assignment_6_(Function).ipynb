{
  "nbformat": 4,
  "nbformat_minor": 0,
  "metadata": {
    "colab": {
      "name": "CSE110_Assignment06_(Function).ipynb",
      "provenance": [],
      "collapsed_sections": []
    },
    "kernelspec": {
      "display_name": "Python 3",
      "language": "python",
      "name": "python3"
    },
    "language_info": {
      "codemirror_mode": {
        "name": "ipython",
        "version": 3
      },
      "file_extension": ".py",
      "mimetype": "text/x-python",
      "name": "python",
      "nbconvert_exporter": "python",
      "pygments_lexer": "ipython3",
      "version": "3.8.3"
    }
  },
  "cells": [
    {
      "cell_type": "markdown",
      "metadata": {
        "id": "mRHB9cBf5D7V"
      },
      "source": [
        "# CSE110 Assignment 6\n",
        "This assignment is to guide you to solve everything you have learned so far by implementing functions in Python. \n",
        "\n",
        "**<font color='red'>[MUST MAINTAIN VARIABLE NAMING CONVENTIONS FOR ALL THE TASKS]</font>**\n",
        "\n",
        "## Write the Python code of the following problems:\n"
      ]
    },
    {
      "cell_type": "markdown",
      "metadata": {
        "id": "_uzpm0b85D7Z"
      },
      "source": [
        "### Task 1\n",
        "Write a function called **even_checker** that takes a number as an argument and prints whether the number is even or odd **inside the function**.\n",
        "\n",
        "===================================\n",
        "\n",
        "**Example1:** \\\n",
        "**Function Call:**\\\n",
        "even_checker(5)\\\n",
        "**Output:**\\\n",
        "Odd!!\n",
        "\n",
        "=============================\n",
        "\n",
        "**Example2:** \\\n",
        "**Function Call:**\\\n",
        "even_checker(2)\\\n",
        "**Output:**\\\n",
        "Even!!\n",
        "\n"
      ]
    },
    {
      "cell_type": "code",
      "metadata": {
        "id": "tMMBecSe5D7a",
        "outputId": "97d631ec-a447-4d83-e486-ccd807f89077"
      },
      "source": [
        "# to do\n",
        "def even_checker(x):\n",
        "    if x%2==0:\n",
        "        print('Even!!')\n",
        "    else:\n",
        "        print('Odd!!')\n",
        "even_checker(int(input()))"
      ],
      "execution_count": null,
      "outputs": [
        {
          "output_type": "stream",
          "text": [
            "5\n",
            "Odd!!\n"
          ],
          "name": "stdout"
        }
      ]
    },
    {
      "cell_type": "markdown",
      "metadata": {
        "id": "YFKgn6Yw5D7f"
      },
      "source": [
        "### Task 2\n",
        "Write a python function that takes the limit as an argument of the Fibonacci series and prints till that limit. \n",
        "\n",
        "===================================\n",
        "\n",
        "**Function Call:**\\\n",
        "fibonacci(10)\\\n",
        "**Output:**\\\n",
        "0 1 1 2 3 5 8\\\n",
        "======================\\\n",
        "**Function Call:**\\\n",
        "fibonacci(5)\\\n",
        "**Output:**\\\n",
        "0 1 1 2 3 5 "
      ]
    },
    {
      "cell_type": "code",
      "metadata": {
        "id": "J4ab_IeA5D7g",
        "colab": {
          "base_uri": "https://localhost:8080/"
        },
        "outputId": "c66307b7-f596-44ef-9278-0c1150907c29"
      },
      "source": [
        "# to do\n",
        "def fibonacci(p):\n",
        "    first_fib=0\n",
        "    second_fib=1\n",
        "    sum_fib=(first_fib+second_fib)\n",
        "    print(0, end=' ')\n",
        "    print(1, end=' ')\n",
        "\n",
        "    while(sum_fib<=p):\n",
        "        print(sum_fib,end=' ')\n",
        "        first_fib=second_fib\n",
        "        second_fib=sum_fib\n",
        "        sum_fib=first_fib+second_fib\n",
        "    \n",
        "fibonacci(int(input()))"
      ],
      "execution_count": null,
      "outputs": [
        {
          "output_type": "stream",
          "text": [
            "5\n",
            "0 1 1 2 3 5 "
          ],
          "name": "stdout"
        }
      ]
    },
    {
      "cell_type": "markdown",
      "metadata": {
        "id": "rDY_xNcO5D7k"
      },
      "source": [
        "### Task 3\n",
        "Write a function called **foo_moo** that takes a number as an argument and **returns** the following statements according the below mention conditions. Then, finally prints the statement in the function call. \n",
        "\n",
        "* \tIf the number is divisible by 2, it should return \"Foo\".\n",
        "*   If the number is divisible by 3, it should return \"Moo\". \n",
        "*   If the number is divisible by both 2 and 3, it should return \"FooMoo\".\n",
        "*   Otherwise, it returns \"Boo\".\n",
        "\n",
        "===================================\n",
        "\n",
        "**Example1:** \\\n",
        "**Function Call:**\\\n",
        "foo_moo(5)\\\n",
        "**Output:**\\\n",
        "Boo\n",
        "\n",
        "=================\n",
        "\n",
        "\n",
        "**Example2:** \\\n",
        "**Function Call:**\\\n",
        "foo_moo(4)\\\n",
        "**Output:**\\\n",
        "Foo\n",
        "\n",
        "=================\n",
        "\n",
        "\n",
        "**Example3:** \\\n",
        "**Function Call:**\\\n",
        "foo_moo(6)\\\n",
        "**Output:**\\\n",
        "FooMoo\n",
        "\n"
      ]
    },
    {
      "cell_type": "code",
      "metadata": {
        "id": "lqqa3cEmp4ml",
        "outputId": "2beeeed9-0358-449b-bcda-f0f3be20665b"
      },
      "source": [
        "def foo_moo(num):\n",
        "    if (num%2==0 and num%3==0):\n",
        "        return 'FooMoo'\n",
        "    elif num%2==0:\n",
        "        return 'Foo'\n",
        "    elif num%3==0:\n",
        "        return 'Moo'\n",
        "    else:\n",
        "        return 'Boo'\n",
        "print(foo_moo(5))\n",
        "print(foo_moo(4))\n",
        "print(foo_moo(6))"
      ],
      "execution_count": null,
      "outputs": [
        {
          "output_type": "stream",
          "text": [
            "Boo\n",
            "Foo\n",
            "FooMoo\n"
          ],
          "name": "stdout"
        }
      ]
    },
    {
      "cell_type": "markdown",
      "metadata": {
        "id": "nemw1U-i5D7s"
      },
      "source": [
        "### Task 4\n",
        "Write a python function that takes a string as an argument. Your task is to calculate the number of uppercase letters and lowercase letters and print them in the function. \n",
        "\n",
        "===================================\n",
        "\n",
        "**Function Call:**\\\n",
        "function_name('The quick Sand Man')\\\n",
        "**Output:**\\\n",
        "No. of Uppercase characters : 3\\\n",
        "No. of Lowercase Characters: 12\\\n",
        "============================\\\n",
        "**Function Call:**\\\n",
        "function_name('HaRRy PotteR')\\\n",
        "**Output:**\\\n",
        "No. of Uppercase characters : 5\\\n",
        "No. of Lowercase Characters: 6\n"
      ]
    },
    {
      "cell_type": "code",
      "metadata": {
        "id": "4ZBb4Mcr5D7t",
        "outputId": "ba20a0bd-6260-4da2-ad6f-30c9f8014d43"
      },
      "source": [
        "# to do\n",
        "def f(s):\n",
        "    upper_count=0\n",
        "    lower_count=0\n",
        "\n",
        "    for i in range(0,len(s)):\n",
        "        if (64<ord(s[i])<91):\n",
        "            upper_count+=1\n",
        "        elif (96<ord(s[i])<123):\n",
        "            lower_count+=1\n",
        "    print('No. of Uppercase characters: ',upper_count)\n",
        "    print('No. of Lowercase characters: ',lower_count)\n",
        "    \n",
        "f(input())"
      ],
      "execution_count": null,
      "outputs": [
        {
          "output_type": "stream",
          "text": [
            "HaRRy PotteR\n",
            "No. of Uppercase characters:  5\n",
            "No. of Lowercase characters:  6\n"
          ],
          "name": "stdout"
        }
      ]
    },
    {
      "cell_type": "markdown",
      "metadata": {
        "id": "e9bojIHe5D7w"
      },
      "source": [
        "### Task 5\n",
        "Write a function called **calculate_tax** that takes 3 arguments: your age, salary, and current job designation.\n",
        "\n",
        "\n",
        "Your first task is to take these arguments as user input and pass these values to the function.\n",
        "\n",
        "Your second task is to implement the function and calculate the tax as the following conditions:\n",
        "*  **NO TAX IF YOU ARE LESS THAN 18 YEARS OLD.**\n",
        "*  **NO TAX IF YOU ARE THE PRESIDENT OF THE COMPANY** \n",
        "*  No tax if you get paid less than 10,000\n",
        "*  5% tax if you get paid between 10K and 20K\n",
        "*  10% tax if you get paid more than 20K\n",
        "\n",
        "\n",
        "Finally return this tax value. Then print the returned value in the function call.\n",
        "\n",
        "===================================\n",
        "\n",
        "**Hints:**\\\n",
        "Here the job designation is a string, so it can be written in both uppercase and lower cases. So, you need to check the value ignoring the case.\n",
        "\n",
        "===================================\n",
        "\n",
        "**Example1:** \\\n",
        "**Input:**\\\n",
        "16\\\n",
        "20000\\\n",
        "Student\\\n",
        "**Function Call:**\\\n",
        "calculate_tax(16, 20000, 'Student')\\\n",
        "**Output:**\\\n",
        "0\n",
        "\n",
        "===================================\n",
        "\n",
        "**Example2:** \\\n",
        "**Input:**\\\n",
        "20\\\n",
        "18000\\\n",
        "assistant manager\\\n",
        "**Function Call:**\\\n",
        "calculate_tax(20, 18000, 'assistant manager')\\\n",
        "**Output:**\\\n",
        "900.0\n",
        "\n",
        "\n",
        "===================================\n",
        "\n",
        "**Example3:** \\\n",
        "**Input:**\\\n",
        "20\\\n",
        "22000\\\n",
        "assistant manager\\\n",
        "**Function Call:**\\\n",
        "calculate_tax(20, 22000, 'Assistant manager')\\\n",
        "**Output:**\\\n",
        "2200.0\n",
        "\n",
        "===================================\n",
        "\n",
        "\n",
        "**Example4:** \\\n",
        "**Input:**\\\n",
        "20\\\n",
        "122000\\\n",
        "president\\\n",
        "**Function Call:**\\\n",
        "calculate_tax(20, 122000, 'president')\\\n",
        "**Output:**\\\n",
        "0\n",
        " \n",
        "\n",
        "\n"
      ]
    },
    {
      "cell_type": "code",
      "metadata": {
        "id": "M4oo-FKQ5D7x",
        "colab": {
          "base_uri": "https://localhost:8080/"
        },
        "outputId": "892d8832-62ba-4f4e-d624-6ab6a819f492"
      },
      "source": [
        "# to do\n",
        "def calculate_tax(a,s,j):\n",
        "    if (a<18 or s<1000 or j=='president'):\n",
        "        tax=0\n",
        "    elif (s>=10000 and s<=20000):\n",
        "        tax=(s*5)/100\n",
        "    elif (s>=20000):\n",
        "        tax=(s*10)/100\n",
        "    print(tax)\n",
        "\n",
        "age=int(input('Age:'))\n",
        "salary=int(input('Salary: '))\n",
        "job=input('Job Designation: ').lower()\n",
        "\n",
        "calculate_tax(age,salary,job)\n"
      ],
      "execution_count": null,
      "outputs": [
        {
          "output_type": "stream",
          "text": [
            "Age:20\n",
            "Salary: 122000\n",
            "Job Designation: president\n",
            "0\n"
          ],
          "name": "stdout"
        }
      ]
    },
    {
      "cell_type": "markdown",
      "metadata": {
        "id": "VXLQHyLp5D71"
      },
      "source": [
        "### Task 6\n",
        "Write a function which will take 1 argument, number of days.\n",
        "\n",
        "Your first task is to take the number of days as user input and pass the value to the function.\n",
        " \n",
        "Your second task is to implement the function and calculate the total number of years, number of months, and the remaining number of days as output. No need to return any value, print inside the function. \n",
        "\n",
        "**Note:** Assume, each year to be 365 days and month to be 30 days.\n",
        "\n",
        "=====================================================\n",
        "\n",
        "**Hint(1):** \\\n",
        "Divide and mod the main input to get the desired output.\n",
        "\n",
        "**Hint(2):**\n",
        "This task’s calculation is similar to Assignment-1’s seconds to hours, minutes conversion.\n",
        "\n",
        "=====================================================\n",
        "\n",
        "**Example01**\n",
        "\n",
        "**Input:**\\\n",
        "4330\\\n",
        "**Function Call:**\\\n",
        "function_name(4330)\\\n",
        "**Output:**\\\n",
        "11 years, 10 months and 15 days\n",
        "\n",
        "================================\n",
        "\n",
        "**Example02**\n",
        "\n",
        "**Input:**\\\n",
        "2250\\\n",
        "**Function Call:**\\\n",
        "function_name(2250)\\\n",
        "**Output:**\\\n",
        "6 years, 2 months and 0 days\n",
        "\n",
        "\n"
      ]
    },
    {
      "cell_type": "code",
      "metadata": {
        "id": "gkE9d9gs5D72",
        "colab": {
          "base_uri": "https://localhost:8080/"
        },
        "outputId": "d7b096a6-e5c9-4bc6-aaec-727cea45b2ee"
      },
      "source": [
        "# todo\n",
        "def f(d):\n",
        "    y=int(d/365)\n",
        "    m=int((d%365)/30)\n",
        "    d=int((d%365)%30)\n",
        "    print(y,'years,',m,'months and',d,'days')\n",
        "    \n",
        "f(int(input()))"
      ],
      "execution_count": null,
      "outputs": [
        {
          "output_type": "stream",
          "text": [
            "4330\n",
            "11 years, 10 months and 15 days\n"
          ],
          "name": "stdout"
        }
      ]
    },
    {
      "cell_type": "markdown",
      "source": [
        ""
      ],
      "metadata": {
        "id": "D55c4fvVue3C"
      }
    },
    {
      "cell_type": "markdown",
      "metadata": {
        "id": "8-vvES0i5D8B"
      },
      "source": [
        "### Task 7\n",
        "Write a function called **show_palindrome** that takes a number as an argument and then returns a palindrome string. Finally, prints the returned value in the function call.\n",
        "\n",
        "=====================================================\n",
        "\n",
        "**Example1:** \\\n",
        "**Function Call:**\\\n",
        "show_palindrome(5)\\\n",
        "**Output:**\\\n",
        "123454321\n",
        "\n",
        "===================\n",
        "\n",
        "**Example2:** \\\n",
        "**Function Call:**\\\n",
        "show_palindrome(3)\\\n",
        "**Output:**\\\n",
        "12321\n"
      ]
    },
    {
      "cell_type": "code",
      "metadata": {
        "id": "QN-Iu8sz5D8C",
        "colab": {
          "base_uri": "https://localhost:8080/"
        },
        "outputId": "b1dfdea8-514b-4131-a58d-8bf40af865c8"
      },
      "source": [
        "# to do\n",
        "def show_palindrome(x):\n",
        "    for i in range(1,x+1):\n",
        "        print(i,end='')\n",
        "    for j in range(x-1,0,-1):\n",
        "        print(j,end='')\n",
        "show_palindrome(int(input()))"
      ],
      "execution_count": 9,
      "outputs": [
        {
          "output_type": "stream",
          "name": "stdout",
          "text": [
            "5\n",
            "123454321"
          ]
        }
      ]
    },
    {
      "cell_type": "markdown",
      "metadata": {
        "id": "V_PVNpx45D8F"
      },
      "source": [
        "### Task 8\n",
        "Write a function called **show_palindromic_triangle** that takes a number as an argument and prints a Palindromic Triangle in the function.\n",
        "\n",
        "**<font color='blue'>[Must reuse the show_palindrome() function of the previous task]</font>**\n",
        "\n",
        "\n",
        "\n",
        "=====================================================\n",
        "\n",
        "**Hints(1):** \\\n",
        "Need to use both print() and print( , end = \" \") functions\n",
        "\n",
        "\n",
        "=====================================================\n",
        "\n",
        "**Example1:** \\\n",
        "**Function Call:**\\\n",
        "show_palindromic_triangle(5)\\\n",
        "**Output:**\n",
        "\n",
        "&emsp; &emsp; &emsp; &emsp; 1\\\n",
        "&emsp; &emsp; &emsp; 1 &nbsp; 2 &nbsp; 1 \\\n",
        "&emsp; &emsp; 1 &nbsp; 2 &nbsp; 3 &nbsp; 2 &nbsp; 1 \\\n",
        "&emsp; 1 &nbsp; 2 &nbsp; 3 &nbsp; 4 &nbsp; 3 &nbsp; 2 &nbsp; 1 \\\n",
        "1 &nbsp; 2 &nbsp; 3 &nbsp; 4 &nbsp; 5 &nbsp; 4 &nbsp; 3 &nbsp; 2 &nbsp; 1\n",
        "\n",
        "=============================================================\n",
        "\n",
        "\n",
        "**Example2:** \\\n",
        "**Function Call:**\\\n",
        "show_palindromic_triangle(3)\\\n",
        "**Output:**\n",
        "\n",
        "&emsp; &emsp; 1 \\\n",
        "&emsp; 1 &nbsp; 2 &nbsp; 1 \\\n",
        "1 &nbsp; 2 &nbsp; 3 &nbsp; 2 &nbsp; 1\n",
        "\n",
        "\n"
      ]
    },
    {
      "cell_type": "code",
      "source": [
        "def show_palindrome(x,flag=False):\n",
        "  if flag==False:\n",
        "    for i in range(1,x+1):\n",
        "        print(i,end='')\n",
        "    for j in range(x-1,0,-1):\n",
        "        print(j,end='')\n",
        "  else:\n",
        "    for i in range(1,x+1):\n",
        "        print(i,end=' ')\n",
        "    for j in range(x-1,0,-1):\n",
        "        print(j,end=' ')    \n",
        "\n",
        "#show_palindrome(int(input()))\n",
        "num=int(input('enter: '))#3\n",
        "space=num-1\n",
        "for i in range(1,num+1):\n",
        "  for j in range(space):\n",
        "    print(\"  \",end=\"\")\n",
        "  show_palindrome(i,True)\n",
        "  print()\n",
        "  space-=1"
      ],
      "metadata": {
        "colab": {
          "base_uri": "https://localhost:8080/"
        },
        "id": "y3hTZAaHviD9",
        "outputId": "ace12b98-89c3-49d9-c7e8-a9e28b38b7ae"
      },
      "execution_count": 15,
      "outputs": [
        {
          "output_type": "stream",
          "name": "stdout",
          "text": [
            "enter: 5\n",
            "        1 \n",
            "      1 2 1 \n",
            "    1 2 3 2 1 \n",
            "  1 2 3 4 3 2 1 \n",
            "1 2 3 4 5 4 3 2 1 \n"
          ]
        }
      ]
    },
    {
      "cell_type": "code",
      "metadata": {
        "colab": {
          "base_uri": "https://localhost:8080/"
        },
        "id": "w9OTNNLrSuvj",
        "outputId": "f8556f0c-60be-4531-9cac-d79770d9b870"
      },
      "source": [
        "num=int(input('enter: '))#3\n",
        "space=num-1\n",
        "for i in range(1,num+1):\n",
        "  for j in range(space):\n",
        "    print(\" \",end=\"\")\n",
        "  show_palindrome(i)\n",
        "  print()\n",
        "  space-=1\n"
      ],
      "execution_count": 10,
      "outputs": [
        {
          "output_type": "stream",
          "name": "stdout",
          "text": [
            "enter: 5\n",
            "    1\n",
            "   121\n",
            "  12321\n",
            " 1234321\n",
            "123454321\n"
          ]
        }
      ]
    },
    {
      "cell_type": "code",
      "metadata": {
        "colab": {
          "base_uri": "https://localhost:8080/"
        },
        "id": "vNaV0CYIU-i3",
        "outputId": "59d898c2-a3a9-440a-bf1d-58329e616e1f"
      },
      "source": [
        "#bo\n",
        "# to do\n",
        "def show_palindrome(x):\n",
        "    for i in range(1,x+1):\n",
        "        print(i,end=' ')\n",
        "    for j in range(x-1,0,-1):\n",
        "        print(j,end=' ')\n",
        "\n",
        "num=int(input('enter: '))#3\n",
        "space=num-1\n",
        "for i in range(1,num+1):\n",
        "  for j in range(space):\n",
        "    print(\"  \",end=\"\")\n",
        "  show_palindrome(i)\n",
        "  print()\n",
        "  space-=1"
      ],
      "execution_count": null,
      "outputs": [
        {
          "output_type": "stream",
          "text": [
            "enter: 3\n",
            "    1 \n",
            "  1 2 1 \n",
            "1 2 3 2 1 \n"
          ],
          "name": "stdout"
        }
      ]
    },
    {
      "cell_type": "code",
      "metadata": {
        "id": "fUu0BrHz5D8G",
        "colab": {
          "base_uri": "https://localhost:8080/"
        },
        "outputId": "804fde30-b216-4116-ca32-1b62ba5ed854"
      },
      "source": [
        "# to do\n",
        "# 3 triangles: space,increment,decrement\n",
        "def show_palindromic_triangle(n):\n",
        "    #n=int(input())+1\n",
        "    for row in range(1,n+1):\n",
        "        # sapce\n",
        "        for space in range(1,n-row+1):\n",
        "            print(\" \",end=\" \")\n",
        "        # increment\n",
        "        for inc in range(1,row+1):\n",
        "            print(inc,end=\" \")\n",
        "        # decrement\n",
        "        for dec in range(row-1,0,-1):\n",
        "            print(dec,end=\" \")\n",
        "        print()      #newline or new row\n",
        "            \n",
        "    \n",
        "show_palindromic_triangle(int(input()))"
      ],
      "execution_count": null,
      "outputs": [
        {
          "output_type": "stream",
          "text": [
            "5\n",
            "        1 \n",
            "      1 2 1 \n",
            "    1 2 3 2 1 \n",
            "  1 2 3 4 3 2 1 \n",
            "1 2 3 4 5 4 3 2 1 \n"
          ],
          "name": "stdout"
        }
      ]
    },
    {
      "cell_type": "markdown",
      "metadata": {
        "id": "iLTMEWXg5D8M"
      },
      "source": [
        "### Task 09\n",
        "Write a function called **area_circumference_generator** that takes a radius of a circle as a  function parameter and calculates its circumference and area. Then returns these two results as a **tuple** and prints the results using tuple unpacking in the function call accorrding to the given format. <font color='red'>[Must use tuple packing & unpacking] </font> \n",
        "\n",
        "=====================================================\n",
        "\n",
        "**Example1:** \\\n",
        "**Function Call:**\\\n",
        "area_circumference_generator(1)\\\n",
        "**Output:**\\\n",
        "(3.141592653589793, 6.283185307179586)\\\n",
        "Area of the circle is 3.141592653589793 and circumference is 6.283185307179586\n",
        "\n",
        "====================================\n",
        "\n",
        "**Example2:** \\\n",
        "**Function Call:**\\\n",
        "area_circumference_generator(1.5)\\\n",
        "**Output:**\\\n",
        "(7.0685834705770345, 9.42477796076938)\\\n",
        "Area of the circle is 7.0685834705770345 and circumference is 9.42477796076938\n",
        "\n",
        "====================================\n",
        "\n",
        "\n",
        "**Example3:** \\\n",
        "**Function Call:**\\\n",
        "area_circumference_generator(2.5)\\\n",
        "**Output:**\\\n",
        "(19.634954084936208, 15.707963267948966)\\\n",
        "Area of the circle is 19.634954084936208 and circumference is 15.707963267948966\n"
      ]
    },
    {
      "cell_type": "code",
      "metadata": {
        "id": "k8SLTHf35D8N",
        "colab": {
          "base_uri": "https://localhost:8080/"
        },
        "outputId": "0d43894d-d5fb-42a1-f5b0-0308d461bf9c"
      },
      "source": [
        "# to do\n",
        "import math\n",
        "def area_circumference_generator(r):\n",
        "    a=math.pi*r*r\n",
        "    c=2*math.pi*r\n",
        "    return a,c\n",
        "x= area_circumference_generator(2.5)\n",
        "print(x)\n",
        "a,b=x\n",
        "print('Area of the circle is', a, 'and circumference is', b)"
      ],
      "execution_count": null,
      "outputs": [
        {
          "output_type": "stream",
          "text": [
            "(19.634954084936208, 15.707963267948966)\n",
            "Area of the circle is 19.634954084936208 and circumference is 15.707963267948966\n"
          ],
          "name": "stdout"
        }
      ]
    },
    {
      "cell_type": "markdown",
      "metadata": {
        "id": "NpgEU6ZI5D8S"
      },
      "source": [
        "### Task 10\n",
        "Write a function called **make_square** that takes a tuple in the parameter as a range of numbers (starting point and ending point (included)). The function should **return a dictionary** with the numbers as keys and its squares as values.\n",
        "\n",
        "=====================================================\n",
        "\n",
        "**Hints:** \\\n",
        "You need to declare a dictionary to store the result. You should use the range function to run the “for loop”.\n",
        "\n",
        "\n",
        "=====================================================\n",
        "\n",
        "**Example1:** \\\n",
        "**Function Call:**\\\n",
        "make_square((1,3))\\\n",
        "**Output:**\\\n",
        "{1: 1, 2: 4, 3: 9}\n",
        "\n",
        "====================================\n",
        "\n",
        "**Example2:** \\\n",
        "**Function Call:**\\\n",
        "make_square((5,9))\\\n",
        "**Output:**\\\n",
        "{5: 25, 6: 36, 7: 49, 8: 64, 9: 81}\n",
        "\n",
        "\n",
        "\n"
      ]
    },
    {
      "cell_type": "code",
      "metadata": {
        "id": "-KGD8b0F5D8T",
        "colab": {
          "base_uri": "https://localhost:8080/"
        },
        "outputId": "c1aecf49-8fe1-4842-f4ea-ef60b7c7d189"
      },
      "source": [
        " # to do\n",
        "def make_square(t):\n",
        "    start,end=t\n",
        "    d={}\n",
        "    for i in range(start,end+1):\n",
        "        d[i]=i*i\n",
        "    return d\n",
        "s=int(input('Enter the starting number: '))\n",
        "e=int(input('Enter the ending number: '))\n",
        "t=(s,e)\n",
        "print(make_square(t))"
      ],
      "execution_count": null,
      "outputs": [
        {
          "output_type": "stream",
          "text": [
            "Enter the starting number: 5\n",
            "Enter the ending number: 9\n",
            "{5: 25, 6: 36, 7: 49, 8: 64, 9: 81}\n"
          ],
          "name": "stdout"
        }
      ]
    },
    {
      "cell_type": "markdown",
      "metadata": {
        "id": "J7xaBB5i5D8c"
      },
      "source": [
        "### Task 11\n",
        "Write a function called **rem_duplicate** that takes a tuple in the parameter and return a tuple removing all the duplicate values. Then print the returned tuple in the function call.\n",
        "\n",
        "=====================================================\n",
        "\n",
        "**Hints:** \\\n",
        "Unlike lists, tuples are immutable so, the tuple taken as an argument cannot be modified. But list can be modified and lastly for returning the result use type conversion. You need to use membership operators (in, not in) for preventing adding any duplicates values.\n",
        "\n",
        "=====================================================\n",
        "\n",
        "\n",
        "**Example1:** \\\n",
        "**Function Call:**\\\n",
        "rem_duplicate((1,1,1,2,3,4,5,6,6,6,6,4,0,0,0))\\\n",
        "**Output:**\\\n",
        "(1, 2, 3, 4, 5, 6, 0)\n",
        "\n",
        "====================================\n",
        "\n",
        "**Example2:** \\\n",
        "**Function Call:**\\\n",
        "rem_duplicate((\"Hi\", 1, 2, 3, 3, \"Hi\",'a', 'a', [1,2]))\\\n",
        "**Output:**\\\n",
        "('Hi', 1, 2, 3, 'a', [1, 2])\n",
        "\n",
        "\n",
        "\n"
      ]
    },
    {
      "cell_type": "code",
      "metadata": {
        "id": "mniLLbJY5D8d",
        "colab": {
          "base_uri": "https://localhost:8080/"
        },
        "outputId": "7ff1b20b-bdb0-4899-d335-938d8123e33f"
      },
      "source": [
        "# to do\n",
        "def rem_duplicate(num):\n",
        "    temp=[]\n",
        "    for i in num:\n",
        "        if i not in temp:\n",
        "            temp.append(i)\n",
        "    return tuple(temp)\n",
        "\n",
        "seq=(\"Hi\", 1, 2, 3, 3, \"Hi\",'a', 'a', [1,2])\n",
        "rem_duplicate(seq)"
      ],
      "execution_count": null,
      "outputs": [
        {
          "output_type": "execute_result",
          "data": {
            "text/plain": [
              "('Hi', 1, 2, 3, 'a', [1, 2])"
            ]
          },
          "metadata": {
            "tags": []
          },
          "execution_count": 34
        }
      ]
    },
    {
      "cell_type": "markdown",
      "metadata": {
        "id": "yJxb2yrb5D8h"
      },
      "source": [
        "### Task 12\n",
        "Write a python function that takes a list as an argument. Your task is to create a new list where **each element can be present at max 2 times**. Inside the function, print the number of elements removed from the given list. Finally, return the new list and print the result.\n",
        "\n",
        "=====================================================\n",
        "\n",
        "**Hint:** Use list_name.count(element) to count the total number of times an element is in a list. list_name is your new list for this problem.\n",
        "\n",
        "=====================================================\n",
        "\n",
        "**Function Call:**\\\n",
        "function_name([1, 2, 3, 3, 3, 3, 4, 5, 8, 8])\\\n",
        "**Output:**\\\n",
        "Removed: 2\\\n",
        "[1, 2, 3, 3, 4, 5, 8, 8]\\\n",
        "================================\\\n",
        "**Function Call:**\\\n",
        "function_name([10, 10, 15, 15, 20])\\\n",
        "**Output:**\\\n",
        "Removed: 0\\\n",
        "[10, 10, 15, 15, 20]"
      ]
    },
    {
      "cell_type": "code",
      "metadata": {
        "id": "URBhYdgt5D8h",
        "colab": {
          "base_uri": "https://localhost:8080/"
        },
        "outputId": "b04e68cb-1512-4f02-f03c-96a787257604"
      },
      "source": [
        "# todo\n",
        "def function_name(l1):\n",
        "    l=[]\n",
        "    for i in l1:\n",
        "        if i in l:\n",
        "            if l.count(i)<2:\n",
        "                l.append(i)\n",
        "        else:\n",
        "            l.append(i)\n",
        "    print('Removed:',len(l1)-len(l))\n",
        "    return l\n",
        "print(function_name([10, 10, 15, 15, 20]))\n",
        "    "
      ],
      "execution_count": null,
      "outputs": [
        {
          "output_type": "stream",
          "text": [
            "Removed: 0\n",
            "[10, 10, 15, 15, 20]\n"
          ],
          "name": "stdout"
        }
      ]
    },
    {
      "cell_type": "markdown",
      "metadata": {
        "id": "vqET24dk5D8u"
      },
      "source": [
        "### Task 13\n",
        "Write a python function that will perform the basic calculation (addition, subtraction, multiplication and division) based on 3 arguments. They are:\n",
        "- Operator ('+', '-', '/', '*')\n",
        "- First Operand (any number)\n",
        "- Second Operand (any number)\n",
        "\n",
        "Your first task is to take these arguments as user input and pass the values to the function parameters.\n",
        "\n",
        "Your second task is to write a function and performs the calculation based on the given operator. Then, finally return the result in the function call and print the result.\n",
        "\n",
        "=====================================================\n",
        "\n",
        "**Input:**\\\n",
        "\"+\"\\\n",
        "10\\\n",
        "20\\\n",
        "**Function Call:**\\\n",
        "function_name(\"+\", 10, 20)\\\n",
        "**Output:**\\\n",
        "30.0\n",
        "\n",
        "================================\n",
        "\n",
        "**Input:**\\\n",
        "\"*\"\\\n",
        "5.5\\\n",
        "2.5\\\n",
        "**Function Call:**\\\n",
        "function_name(\"*\", 5.5, 2.5)\\\n",
        "**Output:**\\\n",
        "13.75\n"
      ]
    },
    {
      "cell_type": "code",
      "metadata": {
        "id": "sh7YQRv_5D8v",
        "colab": {
          "base_uri": "https://localhost:8080/"
        },
        "outputId": "ba877e6b-6dff-45b1-82eb-abccfd448038"
      },
      "source": [
        "# to do\n",
        "def cal(s,n1,n2):\n",
        "    result=0\n",
        "    if s=='+':\n",
        "        result=n1+n2\n",
        "    elif s=='-':\n",
        "        result=n1-n2\n",
        "    elif s=='*':\n",
        "        result=n1*n2\n",
        "    elif s=='/':\n",
        "        result=n1/n2\n",
        "    else:\n",
        "        print('wrong sign')\n",
        "    print (result)\n",
        "\n",
        "sign=input('Enter the sign: ')\n",
        "n1=float(input('Enter the first number: '))\n",
        "n2=float(input('Enter the second number: '))\n",
        "cal(sign,n1,n2)\n"
      ],
      "execution_count": null,
      "outputs": [
        {
          "output_type": "stream",
          "text": [
            "Enter the sign: %\n",
            "Enter the first number: 2\n",
            "Enter the second number: 1\n",
            "wrong sign\n",
            "0\n"
          ],
          "name": "stdout"
        }
      ]
    },
    {
      "cell_type": "markdown",
      "metadata": {
        "id": "KGitjtfO5D83"
      },
      "source": [
        "### Task 14\n",
        "Write a function which will take 2 arguments. They are:\n",
        "- Sentence \n",
        "- position \n",
        "\n",
        "Your first task is to take these arguments as user input and pass these values to the function parameters.\n",
        "\n",
        "Your second task is to implement the function and remove the characters at the index number which is divisible by the position (Avoid the index number 0 as it will always be divisible by the position, so no need to remove the index 0 character). \n",
        "Finally, add the removed characters at the end of the new string.\n",
        "\n",
        "Return the value and then finally, print the new string at the function call.\n",
        "\n",
        "=====================================================\n",
        "\n",
        "**Input:**\\\n",
        "\"I love programming.\"\\\n",
        "3\\\n",
        "**Function call:**\\\n",
        "function_name(\"I love programming.\", 3)\\\n",
        "**Output:**\\\n",
        "I lveprgrmmngo oai.\n",
        "\n",
        "==============================================\n",
        "\n",
        "**Input:**\\\n",
        "\"Python is easy to learn. I love python.\"\\\n",
        "6\\\n",
        "**Function call:**\\\n",
        "function_name(\"Python is easy to learn. I love python.\", 6)\\\n",
        "**Output:**\\\n",
        "Pythonis eay to earn.I lov pythn. sl eo\n"
      ]
    },
    {
      "cell_type": "code",
      "metadata": {
        "id": "1Op6YcHY5D84",
        "colab": {
          "base_uri": "https://localhost:8080/"
        },
        "outputId": "38037a75-2fb4-4e26-e498-641f56dc16b4"
      },
      "source": [
        "#todo\n",
        "sent=input('Enter the sentence: ')\n",
        "pos=int(input('Enter the position: '))\n",
        "\n",
        "def function_name(sent,pos):\n",
        "    v1=sent[0]#remaining string\n",
        "    v2=''#removed characters\n",
        "    result=''\n",
        "    for i in range(1,len(sent)):\n",
        "        if i%pos != 0:\n",
        "            v1=v1+sent[i]\n",
        "        else:\n",
        "            v2=v2+sent[i]\n",
        "    result=v1+v2\n",
        "    print(result)\n",
        "function_name(sent,pos)"
      ],
      "execution_count": null,
      "outputs": [
        {
          "output_type": "stream",
          "text": [
            "Enter the sentence: Python is easy to learn. I love python.\n",
            "Enter the position: 6\n",
            "Pythonis eay to earn.I lov pythn. sl eo\n"
          ],
          "name": "stdout"
        }
      ]
    },
    {
      "cell_type": "markdown",
      "metadata": {
        "id": "5Gq0ZAzQ5D8-"
      },
      "source": [
        "### Task 15\n",
        "You have been hired as an app developer for the company. The company plans to make an app for a grocery store where the user can order groceries and see the total amount to be paid in the cart section. \n",
        "\n",
        "To build this feature, you have to write a function that takes 2 arguments. They are:\n",
        "- order_items (must be a list)\n",
        "- location (default value should be set to \"Dhanmondi\")\n",
        "\n",
        "Your first task is to take a list of items from the user. Pass the list into the function parameter along with the optional location (Use default argument technique). (Also, no need to take location as input, pass this any value you want.) \n",
        "\n",
        "Your second task is to implement the function. In the function, create a dictionary for the items shown in the table. Calculate the total price of the items passed as a list to the function. Additionally, add a delivery fee of 30 taka if the location is Dhanmondi. Otherwise, add a delivery fee of 70 taka. Finally, return the value and print it.\n",
        "\n",
        "| Item | Price(Tk) |\n",
        "| --- | --- |\n",
        "| Rice | 105 |\n",
        "| Potato | 20 |\n",
        "| Chicken | 250 |\n",
        "| Beef | 510 |\n",
        "| Oil | 85 |\n",
        "\n",
        "=====================================================\n",
        "\n",
        "**Hint:** The keys are the items and values are the corresponding price. Iterate the items in the list and check if the items in the list are available in the dictionary keys or not. If it is available, add the price.\n",
        "\n",
        "=====================================================\n",
        "\n",
        "**Example:**\\\n",
        "function_name([\"Rice\", \"Beef\", \"Rice\"], \"Mohakhali\")\n",
        "\n",
        "total = 105 + 510 + 105 = 720 (Take the price of each item and add them.)\\\n",
        "total = 720 + 70 = 790 (Finally, add the delivery fee based on the location.)\n",
        "\n",
        "**Input:**\\\n",
        "[\"Rice\", \"Beef\", \"Rice\"]\\\n",
        "**Function Call:**\\\n",
        "function_name([\"Rice\", \"Beef\", \"Rice\"], \"Mohakhali\")\\\n",
        "**Output:**\\\n",
        "790\n",
        "\n",
        "==============================================\n",
        "\n",
        "**Input:**\\\n",
        "[\"Rice\", \"Beef\", \"Rice\"]\\\n",
        "**Function Call:**\\\n",
        "function_name([\"Rice\", \"Beef\", \"Rice\"])\\\n",
        "**Output:**\\\n",
        "750"
      ]
    },
    {
      "cell_type": "code",
      "metadata": {
        "id": "KqbU53QPblRv",
        "colab": {
          "base_uri": "https://localhost:8080/"
        },
        "outputId": "f7120de5-81d5-4909-be2b-9d2a9bd8ddb0"
      },
      "source": [
        "#todo\n",
        "def function_name(items,location='Dhanmondi'):\n",
        "    add=0\n",
        "    order={'Rice':105, 'Potato':20, 'Chicken':250, 'Beef':510, 'Oil':85}\n",
        "    if location != 'Dhanmondi':\n",
        "        charge=70\n",
        "    else:\n",
        "        charge=30\n",
        "    for i in items:\n",
        "        if i in order:\n",
        "            add=add+order[i]\n",
        "    return add+charge\n",
        "\n",
        "\n",
        "items=input('order the items: ').split(',')\n",
        "print(function_name(items))"
      ],
      "execution_count": null,
      "outputs": [
        {
          "output_type": "stream",
          "text": [
            "order the items: Rice,Beef,Rice\n",
            "750\n"
          ],
          "name": "stdout"
        }
      ]
    },
    {
      "cell_type": "markdown",
      "metadata": {
        "id": "sWkvpVVmbT5n"
      },
      "source": [
        "## Optional Tasks (16 -20) [Ungraded]"
      ]
    },
    {
      "cell_type": "markdown",
      "metadata": {
        "id": "LIi7SUJLZ4gA"
      },
      "source": [
        "### Task 16\n",
        "Write a function called **splitting_money** that takes an “amount” of money as a argument.\n",
        "\n",
        "Your first task is to take the “amount” of money as user input and pass the value to the function paramater.\n",
        " \n",
        "Your second task is to implement the function and calculate how that money can be split into 500, 100, 50, 20, 10, 5, 2, and 1 taka notes.\n",
        "\n",
        "Then print the returned value in the function call.\n",
        "\n",
        "=====================================================\n",
        "\n",
        "\n",
        "**Hints:** \\\n",
        "This task’s calculation is similar to Assignment-1’s seconds to hours, minutes conversion. To return the result containing multiple strings, you need to store it in a variable and return it at the end of the function.\n",
        "\n",
        "=====================================================\n",
        "\n",
        "\n",
        "**Example1:** \\\n",
        "If the money is 1234, then the function should return \n",
        "\n",
        "\"500 Taka: 2 note(s) \\\n",
        "100 Taka: 2 note(s) \\\n",
        "20 Taka: 1 note(s) \\\n",
        "10 Taka: 1 note(s) \\\n",
        "2 Taka: 2 note(s)\"\n",
        "\n",
        "=====================================================\n",
        "\n",
        "**Example2:** \\\n",
        "If the money is 151, then the function should return\n",
        "\n",
        "\"100 Taka: 1 note(s)\\\n",
        "50 Taka: 1 note(s)\\\n",
        "1 Taka: 1 note(s)\"\n",
        "\n",
        "\n"
      ]
    },
    {
      "cell_type": "code",
      "metadata": {
        "id": "XI1uLQ5rb2oH",
        "colab": {
          "base_uri": "https://localhost:8080/"
        },
        "outputId": "964109c0-5c58-475a-8c2d-a0e5b418cc17"
      },
      "source": [
        "#todo\n",
        "def f(d):\n",
        "    fh=int(d/500)\n",
        "    oh=int((d%500)//100)\n",
        "    f=int((d%500)%100)//50\n",
        "    t=int(((d%500)%100)%50)//20\n",
        "    ten=int((((d%500)%100)%50)%20)//10\n",
        "    five=int(((((d%500)%100)%50)%20)%10)//5\n",
        "    two=int((((((d%500)%100)%50)%20)%10)%5)//2\n",
        "    one=int(((((((d%500)%100)%50)%20)%10)%5)%2)//1\n",
        "    \n",
        "    if fh!=0:\n",
        "      print('500 taka: ',fh,'note(s)')\n",
        "    if oh!=0:  \n",
        "      print('100 taka: ',oh,'note(s)')\n",
        "    if f!=0:\n",
        "      print('50 taka: ',f,'note(s)')\n",
        "    if t!=0:\n",
        "      print('20 taka: ',t,'note(s)')\n",
        "    if ten!=0:\n",
        "      print('10 taka: ',ten,'note(s)')\n",
        "    if five!=0:\n",
        "      print('5 taka: ',five,'note(s)')\n",
        "    if two!=0:\n",
        "      print('2 taka: ',two,'note(s)')\n",
        "    if one!=0:\n",
        "      print('1 taka: ',one,'note(s)')\n",
        "    \n",
        "f(int(input()))"
      ],
      "execution_count": null,
      "outputs": [
        {
          "output_type": "stream",
          "text": [
            "1234\n",
            "500 taka:  2 note(s)\n",
            "100 taka:  2 note(s)\n",
            "20 taka:  1 note(s)\n",
            "10 taka:  1 note(s)\n",
            "2 taka:  2 note(s)\n"
          ],
          "name": "stdout"
        }
      ]
    },
    {
      "cell_type": "markdown",
      "metadata": {
        "id": "VpnhnPPcab5J"
      },
      "source": [
        "### Task 17\n",
        "Write a function called **remove_odd** that takes a list of numbers that have both even and odd numbers mixed. \\\n",
        "Your function should remove all the odd numbers and **return a compact list** which only contains the even numbers. \n",
        "\n",
        "=====================================================\n",
        "\n",
        "**Example1:** \\\n",
        "**Function Call:**\\\n",
        "remove_odd ([21, 33, 44, 66, 11, 1, 88, 45, 10, 9])\\\n",
        "**Output:**\\\n",
        "[44, 66, 88, 10]\n",
        "\n",
        "====================================\n",
        "\n",
        "**Example2:** \\\n",
        "**Function Call:**\\\n",
        "remove_odd ([11,2,3,4,5,2,0,5,3])\\\n",
        "**Output:**\\\n",
        "[2, 4, 2, 0]\n",
        "\n"
      ]
    },
    {
      "cell_type": "code",
      "metadata": {
        "id": "y4dR2jV6bAYw",
        "colab": {
          "base_uri": "https://localhost:8080/"
        },
        "outputId": "b5019cba-e6ba-423a-9db9-8d1607b3b0d4"
      },
      "source": [
        "#todo\n",
        "def remove_odd(list1):\n",
        "  new_list=[]\n",
        "  for i in list1:\n",
        "    if i%2==0:\n",
        "      new_list.append(i)\n",
        "  return new_list    \n",
        "print( remove_odd([11,2,3,4,5,2,0,5,3]) )"
      ],
      "execution_count": null,
      "outputs": [
        {
          "output_type": "stream",
          "text": [
            "[2, 4, 2, 0]\n"
          ],
          "name": "stdout"
        }
      ]
    },
    {
      "cell_type": "markdown",
      "metadata": {
        "id": "8qAKekKWbBnP"
      },
      "source": [
        "### Task 18\n",
        "Write a function which will take 4 arguments. They are:\n",
        "- starting value(inclusive)\n",
        "- ending value(exclusive)\n",
        "- first divisor\n",
        "- second divisor\n",
        "\n",
        "Your first task is to take these arguments as user input and pass these values to the function.\n",
        "\n",
        "Your second task is to implement the function and find all the numbers that are divisible by the <u> **first divisor or second divisor but not both**</u> from the starting value(inclusive) and ending value(exclusive). Add all the numbers that are divisible and finally return this value. Print the returned value in the function call.\n",
        "\n",
        "=====================================================\n",
        "\n",
        "**Input:**\\\n",
        "10\\\n",
        "40\\\n",
        "4\\\n",
        "7\\\n",
        "**Function Call:**\\\n",
        "function_name(10, 40, 4, 7)\\\n",
        "**Output:**\\\n",
        "210\\\n",
        "================================\\\n",
        "**Input:**\\\n",
        "5\\\n",
        "100\\\n",
        "3\\\n",
        "4\\\n",
        "**Function Call:**\\\n",
        "function_name(5, 100, 3, 4)\\\n",
        "**Output:**\\\n",
        "2012\n",
        "\n",
        "\n"
      ]
    },
    {
      "cell_type": "code",
      "metadata": {
        "id": "-vQ3gIWm5D8-",
        "colab": {
          "base_uri": "https://localhost:8080/"
        },
        "outputId": "d7506cdb-d874-46ee-9160-f6b7eb17fc08"
      },
      "source": [
        "#todo\n",
        "start=int(input('start value: '))\n",
        "end=int(input('end value: '))\n",
        "first_div=int(input('first divisor: '))\n",
        "second_div=int(input('second divisor: '))\n",
        "\n",
        "def math_fun(s,e,f,sec):\n",
        "    sum=0\n",
        "    for num in range(s,e):\n",
        "      if(num%f==0):\n",
        "        if(num%sec!=0):\n",
        "          sum+=num\n",
        "      elif(num%sec==0):\n",
        "        if(num%f!=0):\n",
        "          sum+=num\n",
        "    return sum\n",
        "    \n",
        "print( math_fun(start,end,first_div,second_div) )\n",
        "    \n",
        "    "
      ],
      "execution_count": null,
      "outputs": [
        {
          "output_type": "stream",
          "text": [
            "start value: 10\n",
            "end value: 40\n",
            "first divisor: 4\n",
            "second divisor: 7\n",
            "210\n"
          ],
          "name": "stdout"
        }
      ]
    },
    {
      "cell_type": "markdown",
      "metadata": {
        "id": "0poe59Q-aAtP"
      },
      "source": [
        "### Task 19\n",
        "Write a python function which will take a string as an argument. \n",
        "\n",
        "Your first task is to take a string as user input and pass the value to the function.\n",
        "\n",
        "Your second task is to implement a function which will check whether all the alphabets from a to j (convert all the alphabets to lowercase) has appeared at least once in the given string or not. \n",
        "- If all of these alphabets (a to j) appear at least once, then the result will be 5. \n",
        "- If any one of the alphabets (a to j) is not in the given string, then the result will be 6.\n",
        "\n",
        "Return this result and print the statement, \"Chelsea is the best club in England\" that many times.\n",
        "\n",
        "=====================================================\n",
        "\n",
        "**Example01:**\n",
        "\"A black jackal is hunting a full grown deer\" \n",
        "\n",
        "Here all the alphabets from A to J are present at least once. So, the function will return 5 and will print the statement 5 times.\n",
        "\n",
        "**Input:**\\\n",
        "\"A black jackal is hunting a full grown deer\"\\\n",
        "**Function Call:**\\\n",
        "function_name(\"A black jackal is hunting a full grown deer\")\\\n",
        "**Output:**\\\n",
        "Chelsea is the best club in England\\\n",
        "Chelsea is the best club in England\\\n",
        "Chelsea is the best club in England\\\n",
        "Chelsea is the best club in England\\\n",
        "Chelsea is the best club in England\n",
        "\n",
        "==============================================\n",
        "\n",
        "**Example02:**\n",
        "\n",
        "**Input:**\\\n",
        "\"ABBCDEFEFGHI\"\\\n",
        "**Function Call:**\\\n",
        "function_name(\"ABBCDEFEFGHI\")\\\n",
        "**Output:**\\\n",
        "Chelsea is the best club in England\\\n",
        "Chelsea is the best club in England\\\n",
        "Chelsea is the best club in England\\\n",
        "Chelsea is the best club in England\\\n",
        "Chelsea is the best club in England\\\n",
        "Chelsea is the best club in England\n"
      ]
    },
    {
      "cell_type": "code",
      "metadata": {
        "colab": {
          "base_uri": "https://localhost:8080/"
        },
        "id": "PjESqCkQuXh_",
        "outputId": "220ecef9-8c96-4381-fdba-7ddae6eaef49"
      },
      "source": [
        "def func(string):\n",
        "    list1=['a','b','c','d','e','f','g','h','i','j']\n",
        "    list2=[]#contains a-j characters from string\n",
        "    flag=True\n",
        "    for i in string:\n",
        "        if i=='a' or i=='b' or i=='c' or i=='d' or i=='e' or i=='f' or i=='g' or i=='h'  or i=='i' or i=='j':\n",
        "            list2.append(i)\n",
        "    for j in list1:\n",
        "        if j not in list2:\n",
        "            flag=False\n",
        "    \n",
        "    if flag==False:\n",
        "        loop=6\n",
        "    else:#true\n",
        "        loop=5\n",
        "    \n",
        "    for x in range(loop):\n",
        "        print(\"Liverpoool is the best club in England\")\n",
        "        \n",
        "string=input(\"Enter string: \").lower()\n",
        "func(string)         \n",
        "            \n",
        "        \n",
        "        "
      ],
      "execution_count": null,
      "outputs": [
        {
          "output_type": "stream",
          "text": [
            "Enter string: ABBCDEFEFGHI\n",
            "Liverpoool is the best club in England\n",
            "Liverpoool is the best club in England\n",
            "Liverpoool is the best club in England\n",
            "Liverpoool is the best club in England\n",
            "Liverpoool is the best club in England\n",
            "Liverpoool is the best club in England\n"
          ],
          "name": "stdout"
        }
      ]
    },
    {
      "cell_type": "markdown",
      "metadata": {
        "id": "JjYWrdhbssgH"
      },
      "source": [
        "### Task 20\n",
        "Write a function called **individul_bonus_calculation** which will take 4 arguments. They are:\n",
        "\n",
        "- The player name\n",
        "- Yearly earning of that player\n",
        "- The total goal scored this season by that player\n",
        "- Bonus percent per goal.\n",
        "\n",
        "\n",
        "Your task is to implement the above-mentioned function that will calculate the total bonus on the yearly earnings of a player for the total goals he had scored.\n",
        "\n",
        "Additionally, \n",
        " * If the goal scored is above 30, add a (additional) bonus of 10000 taka.\n",
        " * If it is between 20 and 30 inclusive, add an extra 5000 taka.\n",
        "\n",
        "<font color='blue'>[ For this task, no need to take any input from the user. Call the functions and print the values inside the function. ] </font>\n",
        "\n",
        "\n",
        "\n",
        "=====================================================\n",
        "\n",
        "**Example1:**\\\n",
        "individul_bonus_calculation(\"Neymar\", 1200000, 35, 5)\n",
        "\n",
        "bonus = 35 * (5 / 100 * 1200000) + 10000 = 2110000\n",
        "\n",
        "**Function call:**\\\n",
        "individul_bonus_calculation(\"Neymar\", 1200000, 35, 5)\\\n",
        "**Output:**\\\n",
        "Neymar earned a bonus of  2110000 Taka for 35 goals.\n",
        "\n",
        "=====================================================\n",
        "\n",
        "**Example2:**\\\n",
        "individul_bonus_calculation('Jamal', 700000, 19, 8)\n",
        "\n",
        "bonus = 19 * (8 / 100 * 700000) + 0 = 1064000\n",
        "\n",
        "**Function call:**\\\n",
        "individul_bonus_calculation('Jamal', 700000, 19, 8)\\\n",
        "**Output:**\\\n",
        "Jamal earned a bonus of 1064000 Taka for 19 goals.\n",
        "\n",
        "=====================================================\n",
        "\n",
        "**Example3:**\\\n",
        "individul_bonus_calculation('Luis', 80000, 25, 10)\n",
        "\n",
        "bonus = 25 * (10 / 100 * 80000) + 5000 = 205000\n",
        "\n",
        "**Function call:**\\\n",
        "individul_bonus_calculation('Luis', 80000, 25, 10)\\\n",
        "**Output:**\\\n",
        "Luis earned a bonus of 205000 Taka for 25 goals.\n",
        "\n",
        "====================================================="
      ]
    },
    {
      "cell_type": "code",
      "metadata": {
        "colab": {
          "base_uri": "https://localhost:8080/"
        },
        "id": "1kAItUjV4Qny",
        "outputId": "eafa4dec-f41c-4e55-efe3-d7c583f97daf"
      },
      "source": [
        "def individul_bonus_calculation(name,earning,goal,bonus):\n",
        "    bonus=goal*(bonus/100*earning)\n",
        "    if goal>=20 and goal<=30:\n",
        "        bonus=bonus+5000\n",
        "    elif goal>30:\n",
        "        bonus+=10000\n",
        "    \n",
        "    print(name+\" earned a bonus of \"+str(int(bonus))+\" Taka for \"+str(goal)+\" goals\")\n",
        "    \n",
        "    \n",
        "individul_bonus_calculation(\"Neymar\", 1200000, 35, 5)  \n",
        "individul_bonus_calculation('Jamal', 700000, 19, 8)     \n",
        "individul_bonus_calculation('Luis', 80000, 25, 10)"
      ],
      "execution_count": null,
      "outputs": [
        {
          "output_type": "stream",
          "text": [
            "Neymar earned a bonus of 2110000 Taka for 35 goals\n",
            "Jamal earned a bonus of 1064000 Taka for 19 goals\n",
            "Luis earned a bonus of 205000 Taka for 25 goals\n"
          ],
          "name": "stdout"
        }
      ]
    },
    {
      "cell_type": "markdown",
      "metadata": {
        "id": "XGLNNSH25D9B"
      },
      "source": [
        "### Task 21\n",
        "You have been hired by the Abahani football club to write a function that will calculate the total bonus on the yearly earnings of each player for the total goals they have scored.\n",
        "\n",
        "Since the number of players will vary, you decide to use the \"*args\" technique that you learned in your CSE110 class. \n",
        "\n",
        "For each player: pass the name, yearly earning, the total goal scored this season, bonus percent per goal. \n",
        "\n",
        "Additionally, \n",
        " * If the goal scored is above 30, add an extra bonus of 10000 taka. \n",
        " * If it is between 20 and 30 inclusive, add an extra 5000 taka.\n",
        "\n",
        "<font color='blue'>[ For this task, no need to take any input from the user. Call the functions and print the values inside the function. ] </font>\n",
        "\n",
        "**<font color='blue'>[Must reuse the individul_bonus_calculation() function of the previous task]</font>**\n",
        "\n",
        "\n",
        "=====================================================\n",
        "\n",
        "**Example1:**\\\n",
        "cal_bonus(\"Neymar\", 1200000, 35, 5)\n",
        "\n",
        "bonus = 35 * (5 / 100 * 1200000) + 10000 = 2110000\n",
        "\n",
        "**Function call:**\\\n",
        "cal_bonus(\"Neymar\", 1200000, 35, 5)\\\n",
        "**Output:**\\\n",
        "Neymar earned a bonus of  2110000 Taka for 35 goals.\n",
        "\n",
        "=====================================================\n",
        "\n",
        "**Example2:**\\\n",
        "**Function call:**\\\n",
        "function_name(\"Neymar\", 1200000, 30, 10, \"Jamal\", 700000, 19, 5)\\\n",
        "**Output:**\\\n",
        "Neymar earned a bonus of 3605000 Taka for 30 goals.\\\n",
        "Jamal earned a bonus of 665000 Taka for 19 goals.\n",
        "\n",
        "\n",
        "=====================================================\n",
        "\n",
        "**Example3:**\\\n",
        "**Function call:**\\\n",
        "function_name(\"Neymar\", 1200000, 35, 5, 'Jamal', 700000, 19, 8, 'Luis', 80000, 25, 10))\\\n",
        "**Output:**\\\n",
        "Neymar earned a bonus of 2110000 Taka for 35 goals.\\\n",
        "Jamal earned a bonus of 1064000 Taka for 19 goals.\\\n",
        "Luis earned a bonus of 205000 Taka for 25 goals.\n",
        "\n"
      ]
    },
    {
      "cell_type": "code",
      "metadata": {
        "id": "IIz3msUa5D9B",
        "colab": {
          "base_uri": "https://localhost:8080/"
        },
        "outputId": "4885d739-5aa4-4cfa-9e43-77bbc006d342"
      },
      "source": [
        "# to do\n",
        "def cal_bonus(*args):\n",
        "    number=int(len(args)/4)#number of players\n",
        "    count=0\n",
        "    for i in range(number):\n",
        "        n=args[count]\n",
        "        e=args[count+1]\n",
        "        g=args[count+2]\n",
        "        b=args[count+3]\n",
        "        count+=4\n",
        "        individul_bonus_calculation(n,e,g,b)\n",
        "\n",
        "cal_bonus(\"Neymar\", 1200000, 35, 5, 'Jamal', 700000, 19, 8, 'Luis', 80000, 25, 10)"
      ],
      "execution_count": null,
      "outputs": [
        {
          "output_type": "stream",
          "text": [
            "Neymar earned a bonus of 2110000 Taka for 35 goals\n",
            "Jamal earned a bonus of 1064000 Taka for 19 goals\n",
            "Luis earned a bonus of 205000 Taka for 25 goals\n"
          ],
          "name": "stdout"
        }
      ]
    }
  ]
}